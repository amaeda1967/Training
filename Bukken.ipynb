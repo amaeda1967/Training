{
 "cells": [
  {
   "cell_type": "code",
   "execution_count": 18,
   "metadata": {},
   "outputs": [],
   "source": [
    "import numpy as np\n",
    "import pandas as pd"
   ]
  },
  {
   "cell_type": "code",
   "execution_count": 19,
   "metadata": {},
   "outputs": [],
   "source": [
    "train=pd.read_csv('bukken_train.csv')\n",
    "test=pd.read_csv('bukken_test.csv')\n",
    "df=pd.concat([train, test], axis=0)\n",
    "df1=pd.get_dummies(df['land_shape'])\n",
    "df2=pd.get_dummies(df['frontal_road_direction'])\n",
    "df3=pd.get_dummies(df['frontal_road_kind'])\n",
    "db=pd.concat([df, df1, df2, df3], axis=1)"
   ]
  },
  {
   "cell_type": "code",
   "execution_count": 20,
   "metadata": {},
   "outputs": [],
   "source": [
    "y_train=db.iloc[:345]['price_per_tsubo']\n",
    "X_train=db.iloc[:345][['minute_to_station','land_space',  'frontage_length', 'frontal_road_width', 'building_land_ratio',\n",
    "       'floor_land_ratio',  'ほぼ台形', 'ほぼ整形', 'ほぼ正方形', 'ほぼ長方形', '不整形', '台形',\n",
    "       '正方形', '袋地等', '長方形', '北', '北東', '北西', '南', '南東', '南西', '東', '西', '区画街路',\n",
    "       '国道', '市道', '村道', '町道', '県道', '私道', '農道', '道路', '都道']].as_matrix()"
   ]
  },
  {
   "cell_type": "code",
   "execution_count": 21,
   "metadata": {},
   "outputs": [],
   "source": [
    "y_test=db.iloc[345:]['price_per_tsubo']\n",
    "X_test=db.iloc[345:][['minute_to_station','land_space',  'frontage_length','frontal_road_width', 'building_land_ratio',\n",
    "       'floor_land_ratio',  'ほぼ台形', 'ほぼ整形', 'ほぼ正方形', 'ほぼ長方形', '不整形', '台形',\n",
    "       '正方形', '袋地等', '長方形', '北', '北東', '北西', '南', '南東', '南西', '東', '西', '区画街路',\n",
    "       '国道', '市道', '村道', '町道', '県道', '私道', '農道', '道路', '都道']].as_matrix()"
   ]
  },
  {
   "cell_type": "code",
   "execution_count": 22,
   "metadata": {},
   "outputs": [],
   "source": [
    "from sklearn.linear_model import LinearRegression\n",
    "lr=LinearRegression()"
   ]
  },
  {
   "cell_type": "code",
   "execution_count": 25,
   "metadata": {},
   "outputs": [
    {
     "name": "stdout",
     "output_type": "stream",
     "text": [
      "0.6120330179868185\n",
      "0.571422927443638\n"
     ]
    }
   ],
   "source": [
    "lr.fit(X_train, y_train)\n",
    "print(lr.score(X_train, y_train))\n",
    "print(lr.score(X_test, y_test))"
   ]
  },
  {
   "cell_type": "code",
   "execution_count": 26,
   "metadata": {},
   "outputs": [],
   "source": [
    "from sklearn.ensemble import RandomForestRegressor\n",
    "rfr=RandomForestRegressor()"
   ]
  },
  {
   "cell_type": "code",
   "execution_count": 27,
   "metadata": {},
   "outputs": [
    {
     "name": "stdout",
     "output_type": "stream",
     "text": [
      "0.9344567471206292\n",
      "0.5686995453508228\n"
     ]
    }
   ],
   "source": [
    "rfr.fit(X_train, y_train)\n",
    "print(rfr.score(X_train, y_train))\n",
    "print(rfr.score(X_test, y_test))"
   ]
  },
  {
   "cell_type": "code",
   "execution_count": 28,
   "metadata": {},
   "outputs": [],
   "source": [
    "from sklearn.svm import SVR\n",
    "svr=SVR()"
   ]
  },
  {
   "cell_type": "code",
   "execution_count": 29,
   "metadata": {},
   "outputs": [
    {
     "name": "stdout",
     "output_type": "stream",
     "text": [
      "-0.04753252738844149\n",
      "-0.0455988201316484\n"
     ]
    }
   ],
   "source": [
    "svr.fit(X_train, y_train)\n",
    "print(svr.score(X_train, y_train))\n",
    "print(svr.score(X_test, y_test))"
   ]
  },
  {
   "cell_type": "code",
   "execution_count": 32,
   "metadata": {},
   "outputs": [],
   "source": [
    "from sklearn.neighbors import KNeighborsRegressor\n",
    "knr=KNeighborsRegressor()"
   ]
  },
  {
   "cell_type": "code",
   "execution_count": 33,
   "metadata": {},
   "outputs": [
    {
     "name": "stdout",
     "output_type": "stream",
     "text": [
      "0.7114855969657533\n",
      "0.5210324019408843\n"
     ]
    }
   ],
   "source": [
    "knr.fit(X_train, y_train)\n",
    "print(knr.score(X_train, y_train))\n",
    "print(knr.score(X_test, y_test))"
   ]
  },
  {
   "cell_type": "code",
   "execution_count": null,
   "metadata": {},
   "outputs": [],
   "source": []
  }
 ],
 "metadata": {
  "kernelspec": {
   "display_name": "Python 3",
   "language": "python",
   "name": "python3"
  },
  "language_info": {
   "codemirror_mode": {
    "name": "ipython",
    "version": 3
   },
   "file_extension": ".py",
   "mimetype": "text/x-python",
   "name": "python",
   "nbconvert_exporter": "python",
   "pygments_lexer": "ipython3",
   "version": "3.6.4"
  }
 },
 "nbformat": 4,
 "nbformat_minor": 2
}
