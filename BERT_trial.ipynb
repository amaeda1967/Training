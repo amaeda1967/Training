{
  "nbformat": 4,
  "nbformat_minor": 0,
  "metadata": {
    "colab": {
      "name": "BERT trial.ipynb",
      "provenance": [],
      "collapsed_sections": [],
      "authorship_tag": "ABX9TyP7Xba7th+eNqxz8SIVFgV8",
      "include_colab_link": true
    },
    "kernelspec": {
      "name": "python3",
      "display_name": "Python 3"
    },
    "widgets": {
      "application/vnd.jupyter.widget-state+json": {
        "12e1dd70e57c4cf88dc0dfe6112d546b": {
          "model_module": "@jupyter-widgets/controls",
          "model_name": "HBoxModel",
          "state": {
            "_view_name": "HBoxView",
            "_dom_classes": [],
            "_model_name": "HBoxModel",
            "_view_module": "@jupyter-widgets/controls",
            "_model_module_version": "1.5.0",
            "_view_count": null,
            "_view_module_version": "1.5.0",
            "box_style": "",
            "layout": "IPY_MODEL_d9d26b09bee84aa8ae4ff08c792423ee",
            "_model_module": "@jupyter-widgets/controls",
            "children": [
              "IPY_MODEL_3a8772bd3ac541cd88741f1ff0caa44a",
              "IPY_MODEL_4bbeffd6a3e84f258fd32975d7d2f3df"
            ]
          }
        },
        "d9d26b09bee84aa8ae4ff08c792423ee": {
          "model_module": "@jupyter-widgets/base",
          "model_name": "LayoutModel",
          "state": {
            "_view_name": "LayoutView",
            "grid_template_rows": null,
            "right": null,
            "justify_content": null,
            "_view_module": "@jupyter-widgets/base",
            "overflow": null,
            "_model_module_version": "1.2.0",
            "_view_count": null,
            "flex_flow": null,
            "width": null,
            "min_width": null,
            "border": null,
            "align_items": null,
            "bottom": null,
            "_model_module": "@jupyter-widgets/base",
            "top": null,
            "grid_column": null,
            "overflow_y": null,
            "overflow_x": null,
            "grid_auto_flow": null,
            "grid_area": null,
            "grid_template_columns": null,
            "flex": null,
            "_model_name": "LayoutModel",
            "justify_items": null,
            "grid_row": null,
            "max_height": null,
            "align_content": null,
            "visibility": null,
            "align_self": null,
            "height": null,
            "min_height": null,
            "padding": null,
            "grid_auto_rows": null,
            "grid_gap": null,
            "max_width": null,
            "order": null,
            "_view_module_version": "1.2.0",
            "grid_template_areas": null,
            "object_position": null,
            "object_fit": null,
            "grid_auto_columns": null,
            "margin": null,
            "display": null,
            "left": null
          }
        },
        "3a8772bd3ac541cd88741f1ff0caa44a": {
          "model_module": "@jupyter-widgets/controls",
          "model_name": "FloatProgressModel",
          "state": {
            "_view_name": "ProgressView",
            "style": "IPY_MODEL_8cdd92e2a0d642959d319176152f2edc",
            "_dom_classes": [],
            "description": "Downloading: 100%",
            "_model_name": "FloatProgressModel",
            "bar_style": "success",
            "max": 231508,
            "_view_module": "@jupyter-widgets/controls",
            "_model_module_version": "1.5.0",
            "value": 231508,
            "_view_count": null,
            "_view_module_version": "1.5.0",
            "orientation": "horizontal",
            "min": 0,
            "description_tooltip": null,
            "_model_module": "@jupyter-widgets/controls",
            "layout": "IPY_MODEL_e72e4c822d204e7481fd36370f97174d"
          }
        },
        "4bbeffd6a3e84f258fd32975d7d2f3df": {
          "model_module": "@jupyter-widgets/controls",
          "model_name": "HTMLModel",
          "state": {
            "_view_name": "HTMLView",
            "style": "IPY_MODEL_f5fa6b02900b4392bdd143800bc911a9",
            "_dom_classes": [],
            "description": "",
            "_model_name": "HTMLModel",
            "placeholder": "​",
            "_view_module": "@jupyter-widgets/controls",
            "_model_module_version": "1.5.0",
            "value": " 232k/232k [00:00&lt;00:00, 563kB/s]",
            "_view_count": null,
            "_view_module_version": "1.5.0",
            "description_tooltip": null,
            "_model_module": "@jupyter-widgets/controls",
            "layout": "IPY_MODEL_b0f9765d751743a2b501ae0ccbdd7ac3"
          }
        },
        "8cdd92e2a0d642959d319176152f2edc": {
          "model_module": "@jupyter-widgets/controls",
          "model_name": "ProgressStyleModel",
          "state": {
            "_view_name": "StyleView",
            "_model_name": "ProgressStyleModel",
            "description_width": "initial",
            "_view_module": "@jupyter-widgets/base",
            "_model_module_version": "1.5.0",
            "_view_count": null,
            "_view_module_version": "1.2.0",
            "bar_color": null,
            "_model_module": "@jupyter-widgets/controls"
          }
        },
        "e72e4c822d204e7481fd36370f97174d": {
          "model_module": "@jupyter-widgets/base",
          "model_name": "LayoutModel",
          "state": {
            "_view_name": "LayoutView",
            "grid_template_rows": null,
            "right": null,
            "justify_content": null,
            "_view_module": "@jupyter-widgets/base",
            "overflow": null,
            "_model_module_version": "1.2.0",
            "_view_count": null,
            "flex_flow": null,
            "width": null,
            "min_width": null,
            "border": null,
            "align_items": null,
            "bottom": null,
            "_model_module": "@jupyter-widgets/base",
            "top": null,
            "grid_column": null,
            "overflow_y": null,
            "overflow_x": null,
            "grid_auto_flow": null,
            "grid_area": null,
            "grid_template_columns": null,
            "flex": null,
            "_model_name": "LayoutModel",
            "justify_items": null,
            "grid_row": null,
            "max_height": null,
            "align_content": null,
            "visibility": null,
            "align_self": null,
            "height": null,
            "min_height": null,
            "padding": null,
            "grid_auto_rows": null,
            "grid_gap": null,
            "max_width": null,
            "order": null,
            "_view_module_version": "1.2.0",
            "grid_template_areas": null,
            "object_position": null,
            "object_fit": null,
            "grid_auto_columns": null,
            "margin": null,
            "display": null,
            "left": null
          }
        },
        "f5fa6b02900b4392bdd143800bc911a9": {
          "model_module": "@jupyter-widgets/controls",
          "model_name": "DescriptionStyleModel",
          "state": {
            "_view_name": "StyleView",
            "_model_name": "DescriptionStyleModel",
            "description_width": "",
            "_view_module": "@jupyter-widgets/base",
            "_model_module_version": "1.5.0",
            "_view_count": null,
            "_view_module_version": "1.2.0",
            "_model_module": "@jupyter-widgets/controls"
          }
        },
        "b0f9765d751743a2b501ae0ccbdd7ac3": {
          "model_module": "@jupyter-widgets/base",
          "model_name": "LayoutModel",
          "state": {
            "_view_name": "LayoutView",
            "grid_template_rows": null,
            "right": null,
            "justify_content": null,
            "_view_module": "@jupyter-widgets/base",
            "overflow": null,
            "_model_module_version": "1.2.0",
            "_view_count": null,
            "flex_flow": null,
            "width": null,
            "min_width": null,
            "border": null,
            "align_items": null,
            "bottom": null,
            "_model_module": "@jupyter-widgets/base",
            "top": null,
            "grid_column": null,
            "overflow_y": null,
            "overflow_x": null,
            "grid_auto_flow": null,
            "grid_area": null,
            "grid_template_columns": null,
            "flex": null,
            "_model_name": "LayoutModel",
            "justify_items": null,
            "grid_row": null,
            "max_height": null,
            "align_content": null,
            "visibility": null,
            "align_self": null,
            "height": null,
            "min_height": null,
            "padding": null,
            "grid_auto_rows": null,
            "grid_gap": null,
            "max_width": null,
            "order": null,
            "_view_module_version": "1.2.0",
            "grid_template_areas": null,
            "object_position": null,
            "object_fit": null,
            "grid_auto_columns": null,
            "margin": null,
            "display": null,
            "left": null
          }
        },
        "9357f03fd92848688bc1e608aa71c909": {
          "model_module": "@jupyter-widgets/controls",
          "model_name": "HBoxModel",
          "state": {
            "_view_name": "HBoxView",
            "_dom_classes": [],
            "_model_name": "HBoxModel",
            "_view_module": "@jupyter-widgets/controls",
            "_model_module_version": "1.5.0",
            "_view_count": null,
            "_view_module_version": "1.5.0",
            "box_style": "",
            "layout": "IPY_MODEL_1c9adc4f4b164ab9981c423836e180d0",
            "_model_module": "@jupyter-widgets/controls",
            "children": [
              "IPY_MODEL_75743b43f2b7411ebb9fe8595c3a1445",
              "IPY_MODEL_6ed283d7dd9249b7b4114fa042a9f2fe"
            ]
          }
        },
        "1c9adc4f4b164ab9981c423836e180d0": {
          "model_module": "@jupyter-widgets/base",
          "model_name": "LayoutModel",
          "state": {
            "_view_name": "LayoutView",
            "grid_template_rows": null,
            "right": null,
            "justify_content": null,
            "_view_module": "@jupyter-widgets/base",
            "overflow": null,
            "_model_module_version": "1.2.0",
            "_view_count": null,
            "flex_flow": null,
            "width": null,
            "min_width": null,
            "border": null,
            "align_items": null,
            "bottom": null,
            "_model_module": "@jupyter-widgets/base",
            "top": null,
            "grid_column": null,
            "overflow_y": null,
            "overflow_x": null,
            "grid_auto_flow": null,
            "grid_area": null,
            "grid_template_columns": null,
            "flex": null,
            "_model_name": "LayoutModel",
            "justify_items": null,
            "grid_row": null,
            "max_height": null,
            "align_content": null,
            "visibility": null,
            "align_self": null,
            "height": null,
            "min_height": null,
            "padding": null,
            "grid_auto_rows": null,
            "grid_gap": null,
            "max_width": null,
            "order": null,
            "_view_module_version": "1.2.0",
            "grid_template_areas": null,
            "object_position": null,
            "object_fit": null,
            "grid_auto_columns": null,
            "margin": null,
            "display": null,
            "left": null
          }
        },
        "75743b43f2b7411ebb9fe8595c3a1445": {
          "model_module": "@jupyter-widgets/controls",
          "model_name": "FloatProgressModel",
          "state": {
            "_view_name": "ProgressView",
            "style": "IPY_MODEL_6ff5f560d0ed49279b99533c180839d5",
            "_dom_classes": [],
            "description": "Downloading: 100%",
            "_model_name": "FloatProgressModel",
            "bar_style": "success",
            "max": 433,
            "_view_module": "@jupyter-widgets/controls",
            "_model_module_version": "1.5.0",
            "value": 433,
            "_view_count": null,
            "_view_module_version": "1.5.0",
            "orientation": "horizontal",
            "min": 0,
            "description_tooltip": null,
            "_model_module": "@jupyter-widgets/controls",
            "layout": "IPY_MODEL_be14077ac36a48e0a3b1f768cfa0bdd3"
          }
        },
        "6ed283d7dd9249b7b4114fa042a9f2fe": {
          "model_module": "@jupyter-widgets/controls",
          "model_name": "HTMLModel",
          "state": {
            "_view_name": "HTMLView",
            "style": "IPY_MODEL_9c66f9116ec146768257f3a8cd9ca676",
            "_dom_classes": [],
            "description": "",
            "_model_name": "HTMLModel",
            "placeholder": "​",
            "_view_module": "@jupyter-widgets/controls",
            "_model_module_version": "1.5.0",
            "value": " 433/433 [00:00&lt;00:00, 480B/s]",
            "_view_count": null,
            "_view_module_version": "1.5.0",
            "description_tooltip": null,
            "_model_module": "@jupyter-widgets/controls",
            "layout": "IPY_MODEL_676e2f641fd642d8aec100cc2f95649e"
          }
        },
        "6ff5f560d0ed49279b99533c180839d5": {
          "model_module": "@jupyter-widgets/controls",
          "model_name": "ProgressStyleModel",
          "state": {
            "_view_name": "StyleView",
            "_model_name": "ProgressStyleModel",
            "description_width": "initial",
            "_view_module": "@jupyter-widgets/base",
            "_model_module_version": "1.5.0",
            "_view_count": null,
            "_view_module_version": "1.2.0",
            "bar_color": null,
            "_model_module": "@jupyter-widgets/controls"
          }
        },
        "be14077ac36a48e0a3b1f768cfa0bdd3": {
          "model_module": "@jupyter-widgets/base",
          "model_name": "LayoutModel",
          "state": {
            "_view_name": "LayoutView",
            "grid_template_rows": null,
            "right": null,
            "justify_content": null,
            "_view_module": "@jupyter-widgets/base",
            "overflow": null,
            "_model_module_version": "1.2.0",
            "_view_count": null,
            "flex_flow": null,
            "width": null,
            "min_width": null,
            "border": null,
            "align_items": null,
            "bottom": null,
            "_model_module": "@jupyter-widgets/base",
            "top": null,
            "grid_column": null,
            "overflow_y": null,
            "overflow_x": null,
            "grid_auto_flow": null,
            "grid_area": null,
            "grid_template_columns": null,
            "flex": null,
            "_model_name": "LayoutModel",
            "justify_items": null,
            "grid_row": null,
            "max_height": null,
            "align_content": null,
            "visibility": null,
            "align_self": null,
            "height": null,
            "min_height": null,
            "padding": null,
            "grid_auto_rows": null,
            "grid_gap": null,
            "max_width": null,
            "order": null,
            "_view_module_version": "1.2.0",
            "grid_template_areas": null,
            "object_position": null,
            "object_fit": null,
            "grid_auto_columns": null,
            "margin": null,
            "display": null,
            "left": null
          }
        },
        "9c66f9116ec146768257f3a8cd9ca676": {
          "model_module": "@jupyter-widgets/controls",
          "model_name": "DescriptionStyleModel",
          "state": {
            "_view_name": "StyleView",
            "_model_name": "DescriptionStyleModel",
            "description_width": "",
            "_view_module": "@jupyter-widgets/base",
            "_model_module_version": "1.5.0",
            "_view_count": null,
            "_view_module_version": "1.2.0",
            "_model_module": "@jupyter-widgets/controls"
          }
        },
        "676e2f641fd642d8aec100cc2f95649e": {
          "model_module": "@jupyter-widgets/base",
          "model_name": "LayoutModel",
          "state": {
            "_view_name": "LayoutView",
            "grid_template_rows": null,
            "right": null,
            "justify_content": null,
            "_view_module": "@jupyter-widgets/base",
            "overflow": null,
            "_model_module_version": "1.2.0",
            "_view_count": null,
            "flex_flow": null,
            "width": null,
            "min_width": null,
            "border": null,
            "align_items": null,
            "bottom": null,
            "_model_module": "@jupyter-widgets/base",
            "top": null,
            "grid_column": null,
            "overflow_y": null,
            "overflow_x": null,
            "grid_auto_flow": null,
            "grid_area": null,
            "grid_template_columns": null,
            "flex": null,
            "_model_name": "LayoutModel",
            "justify_items": null,
            "grid_row": null,
            "max_height": null,
            "align_content": null,
            "visibility": null,
            "align_self": null,
            "height": null,
            "min_height": null,
            "padding": null,
            "grid_auto_rows": null,
            "grid_gap": null,
            "max_width": null,
            "order": null,
            "_view_module_version": "1.2.0",
            "grid_template_areas": null,
            "object_position": null,
            "object_fit": null,
            "grid_auto_columns": null,
            "margin": null,
            "display": null,
            "left": null
          }
        },
        "fbeca3f99cf644f5b12521c880df8f59": {
          "model_module": "@jupyter-widgets/controls",
          "model_name": "HBoxModel",
          "state": {
            "_view_name": "HBoxView",
            "_dom_classes": [],
            "_model_name": "HBoxModel",
            "_view_module": "@jupyter-widgets/controls",
            "_model_module_version": "1.5.0",
            "_view_count": null,
            "_view_module_version": "1.5.0",
            "box_style": "",
            "layout": "IPY_MODEL_55bd8c9280974a8c8301b6189bfe7cf7",
            "_model_module": "@jupyter-widgets/controls",
            "children": [
              "IPY_MODEL_c38884ec405448eca5fd7b98edfdc872",
              "IPY_MODEL_fb87a207fd844a939792f7f7eb2e1cf5"
            ]
          }
        },
        "55bd8c9280974a8c8301b6189bfe7cf7": {
          "model_module": "@jupyter-widgets/base",
          "model_name": "LayoutModel",
          "state": {
            "_view_name": "LayoutView",
            "grid_template_rows": null,
            "right": null,
            "justify_content": null,
            "_view_module": "@jupyter-widgets/base",
            "overflow": null,
            "_model_module_version": "1.2.0",
            "_view_count": null,
            "flex_flow": null,
            "width": null,
            "min_width": null,
            "border": null,
            "align_items": null,
            "bottom": null,
            "_model_module": "@jupyter-widgets/base",
            "top": null,
            "grid_column": null,
            "overflow_y": null,
            "overflow_x": null,
            "grid_auto_flow": null,
            "grid_area": null,
            "grid_template_columns": null,
            "flex": null,
            "_model_name": "LayoutModel",
            "justify_items": null,
            "grid_row": null,
            "max_height": null,
            "align_content": null,
            "visibility": null,
            "align_self": null,
            "height": null,
            "min_height": null,
            "padding": null,
            "grid_auto_rows": null,
            "grid_gap": null,
            "max_width": null,
            "order": null,
            "_view_module_version": "1.2.0",
            "grid_template_areas": null,
            "object_position": null,
            "object_fit": null,
            "grid_auto_columns": null,
            "margin": null,
            "display": null,
            "left": null
          }
        },
        "c38884ec405448eca5fd7b98edfdc872": {
          "model_module": "@jupyter-widgets/controls",
          "model_name": "FloatProgressModel",
          "state": {
            "_view_name": "ProgressView",
            "style": "IPY_MODEL_21eda7e4f6ab4fff8b8cb317c9ab8c0f",
            "_dom_classes": [],
            "description": "Downloading: 100%",
            "_model_name": "FloatProgressModel",
            "bar_style": "success",
            "max": 440473133,
            "_view_module": "@jupyter-widgets/controls",
            "_model_module_version": "1.5.0",
            "value": 440473133,
            "_view_count": null,
            "_view_module_version": "1.5.0",
            "orientation": "horizontal",
            "min": 0,
            "description_tooltip": null,
            "_model_module": "@jupyter-widgets/controls",
            "layout": "IPY_MODEL_326e545a134e496b8d43fc49067a2241"
          }
        },
        "fb87a207fd844a939792f7f7eb2e1cf5": {
          "model_module": "@jupyter-widgets/controls",
          "model_name": "HTMLModel",
          "state": {
            "_view_name": "HTMLView",
            "style": "IPY_MODEL_d56bca340c0f4dc1b45c9a65f3c4e597",
            "_dom_classes": [],
            "description": "",
            "_model_name": "HTMLModel",
            "placeholder": "​",
            "_view_module": "@jupyter-widgets/controls",
            "_model_module_version": "1.5.0",
            "value": " 440M/440M [00:07&lt;00:00, 56.1MB/s]",
            "_view_count": null,
            "_view_module_version": "1.5.0",
            "description_tooltip": null,
            "_model_module": "@jupyter-widgets/controls",
            "layout": "IPY_MODEL_ed11bb2e4cc44cb585de6a21bccc4da0"
          }
        },
        "21eda7e4f6ab4fff8b8cb317c9ab8c0f": {
          "model_module": "@jupyter-widgets/controls",
          "model_name": "ProgressStyleModel",
          "state": {
            "_view_name": "StyleView",
            "_model_name": "ProgressStyleModel",
            "description_width": "initial",
            "_view_module": "@jupyter-widgets/base",
            "_model_module_version": "1.5.0",
            "_view_count": null,
            "_view_module_version": "1.2.0",
            "bar_color": null,
            "_model_module": "@jupyter-widgets/controls"
          }
        },
        "326e545a134e496b8d43fc49067a2241": {
          "model_module": "@jupyter-widgets/base",
          "model_name": "LayoutModel",
          "state": {
            "_view_name": "LayoutView",
            "grid_template_rows": null,
            "right": null,
            "justify_content": null,
            "_view_module": "@jupyter-widgets/base",
            "overflow": null,
            "_model_module_version": "1.2.0",
            "_view_count": null,
            "flex_flow": null,
            "width": null,
            "min_width": null,
            "border": null,
            "align_items": null,
            "bottom": null,
            "_model_module": "@jupyter-widgets/base",
            "top": null,
            "grid_column": null,
            "overflow_y": null,
            "overflow_x": null,
            "grid_auto_flow": null,
            "grid_area": null,
            "grid_template_columns": null,
            "flex": null,
            "_model_name": "LayoutModel",
            "justify_items": null,
            "grid_row": null,
            "max_height": null,
            "align_content": null,
            "visibility": null,
            "align_self": null,
            "height": null,
            "min_height": null,
            "padding": null,
            "grid_auto_rows": null,
            "grid_gap": null,
            "max_width": null,
            "order": null,
            "_view_module_version": "1.2.0",
            "grid_template_areas": null,
            "object_position": null,
            "object_fit": null,
            "grid_auto_columns": null,
            "margin": null,
            "display": null,
            "left": null
          }
        },
        "d56bca340c0f4dc1b45c9a65f3c4e597": {
          "model_module": "@jupyter-widgets/controls",
          "model_name": "DescriptionStyleModel",
          "state": {
            "_view_name": "StyleView",
            "_model_name": "DescriptionStyleModel",
            "description_width": "",
            "_view_module": "@jupyter-widgets/base",
            "_model_module_version": "1.5.0",
            "_view_count": null,
            "_view_module_version": "1.2.0",
            "_model_module": "@jupyter-widgets/controls"
          }
        },
        "ed11bb2e4cc44cb585de6a21bccc4da0": {
          "model_module": "@jupyter-widgets/base",
          "model_name": "LayoutModel",
          "state": {
            "_view_name": "LayoutView",
            "grid_template_rows": null,
            "right": null,
            "justify_content": null,
            "_view_module": "@jupyter-widgets/base",
            "overflow": null,
            "_model_module_version": "1.2.0",
            "_view_count": null,
            "flex_flow": null,
            "width": null,
            "min_width": null,
            "border": null,
            "align_items": null,
            "bottom": null,
            "_model_module": "@jupyter-widgets/base",
            "top": null,
            "grid_column": null,
            "overflow_y": null,
            "overflow_x": null,
            "grid_auto_flow": null,
            "grid_area": null,
            "grid_template_columns": null,
            "flex": null,
            "_model_name": "LayoutModel",
            "justify_items": null,
            "grid_row": null,
            "max_height": null,
            "align_content": null,
            "visibility": null,
            "align_self": null,
            "height": null,
            "min_height": null,
            "padding": null,
            "grid_auto_rows": null,
            "grid_gap": null,
            "max_width": null,
            "order": null,
            "_view_module_version": "1.2.0",
            "grid_template_areas": null,
            "object_position": null,
            "object_fit": null,
            "grid_auto_columns": null,
            "margin": null,
            "display": null,
            "left": null
          }
        }
      }
    }
  },
  "cells": [
    {
      "cell_type": "markdown",
      "metadata": {
        "id": "view-in-github",
        "colab_type": "text"
      },
      "source": [
        "<a href=\"https://colab.research.google.com/github/amaeda1967/Training/blob/master/BERT_trial.ipynb\" target=\"_parent\"><img src=\"https://colab.research.google.com/assets/colab-badge.svg\" alt=\"Open In Colab\"/></a>"
      ]
    },
    {
      "cell_type": "code",
      "metadata": {
        "id": "E7ERPlX4z3Ca",
        "outputId": "7a29d5c3-f955-4e77-c638-115080e38e7d",
        "colab": {
          "base_uri": "https://localhost:8080/"
        }
      },
      "source": [
        "pip install transformers"
      ],
      "execution_count": 2,
      "outputs": [
        {
          "output_type": "stream",
          "text": [
            "Collecting transformers\n",
            "\u001b[?25l  Downloading https://files.pythonhosted.org/packages/9c/34/fb092588df61bf33f113ade030d1cbe74fb73a0353648f8dd938a223dce7/transformers-3.5.0-py3-none-any.whl (1.3MB)\n",
            "\u001b[K     |████████████████████████████████| 1.3MB 7.0MB/s \n",
            "\u001b[?25hCollecting sentencepiece==0.1.91\n",
            "\u001b[?25l  Downloading https://files.pythonhosted.org/packages/d4/a4/d0a884c4300004a78cca907a6ff9a5e9fe4f090f5d95ab341c53d28cbc58/sentencepiece-0.1.91-cp36-cp36m-manylinux1_x86_64.whl (1.1MB)\n",
            "\u001b[K     |████████████████████████████████| 1.1MB 28.2MB/s \n",
            "\u001b[?25hCollecting tokenizers==0.9.3\n",
            "\u001b[?25l  Downloading https://files.pythonhosted.org/packages/4c/34/b39eb9994bc3c999270b69c9eea40ecc6f0e97991dba28282b9fd32d44ee/tokenizers-0.9.3-cp36-cp36m-manylinux1_x86_64.whl (2.9MB)\n",
            "\u001b[K     |████████████████████████████████| 2.9MB 43.6MB/s \n",
            "\u001b[?25hRequirement already satisfied: packaging in /usr/local/lib/python3.6/dist-packages (from transformers) (20.4)\n",
            "Collecting sacremoses\n",
            "\u001b[?25l  Downloading https://files.pythonhosted.org/packages/7d/34/09d19aff26edcc8eb2a01bed8e98f13a1537005d31e95233fd48216eed10/sacremoses-0.0.43.tar.gz (883kB)\n",
            "\u001b[K     |████████████████████████████████| 890kB 31.0MB/s \n",
            "\u001b[?25hRequirement already satisfied: regex!=2019.12.17 in /usr/local/lib/python3.6/dist-packages (from transformers) (2019.12.20)\n",
            "Requirement already satisfied: requests in /usr/local/lib/python3.6/dist-packages (from transformers) (2.23.0)\n",
            "Requirement already satisfied: filelock in /usr/local/lib/python3.6/dist-packages (from transformers) (3.0.12)\n",
            "Requirement already satisfied: tqdm>=4.27 in /usr/local/lib/python3.6/dist-packages (from transformers) (4.41.1)\n",
            "Requirement already satisfied: dataclasses; python_version < \"3.7\" in /usr/local/lib/python3.6/dist-packages (from transformers) (0.7)\n",
            "Requirement already satisfied: protobuf in /usr/local/lib/python3.6/dist-packages (from transformers) (3.12.4)\n",
            "Requirement already satisfied: numpy in /usr/local/lib/python3.6/dist-packages (from transformers) (1.18.5)\n",
            "Requirement already satisfied: six in /usr/local/lib/python3.6/dist-packages (from packaging->transformers) (1.15.0)\n",
            "Requirement already satisfied: pyparsing>=2.0.2 in /usr/local/lib/python3.6/dist-packages (from packaging->transformers) (2.4.7)\n",
            "Requirement already satisfied: click in /usr/local/lib/python3.6/dist-packages (from sacremoses->transformers) (7.1.2)\n",
            "Requirement already satisfied: joblib in /usr/local/lib/python3.6/dist-packages (from sacremoses->transformers) (0.17.0)\n",
            "Requirement already satisfied: certifi>=2017.4.17 in /usr/local/lib/python3.6/dist-packages (from requests->transformers) (2020.6.20)\n",
            "Requirement already satisfied: urllib3!=1.25.0,!=1.25.1,<1.26,>=1.21.1 in /usr/local/lib/python3.6/dist-packages (from requests->transformers) (1.24.3)\n",
            "Requirement already satisfied: chardet<4,>=3.0.2 in /usr/local/lib/python3.6/dist-packages (from requests->transformers) (3.0.4)\n",
            "Requirement already satisfied: idna<3,>=2.5 in /usr/local/lib/python3.6/dist-packages (from requests->transformers) (2.10)\n",
            "Requirement already satisfied: setuptools in /usr/local/lib/python3.6/dist-packages (from protobuf->transformers) (50.3.2)\n",
            "Building wheels for collected packages: sacremoses\n",
            "  Building wheel for sacremoses (setup.py) ... \u001b[?25l\u001b[?25hdone\n",
            "  Created wheel for sacremoses: filename=sacremoses-0.0.43-cp36-none-any.whl size=893257 sha256=07b28a9b7d1ab0df0bd6a2a87ea494e4ec80df10dc1591136ee9065d568ea4c6\n",
            "  Stored in directory: /root/.cache/pip/wheels/29/3c/fd/7ce5c3f0666dab31a50123635e6fb5e19ceb42ce38d4e58f45\n",
            "Successfully built sacremoses\n",
            "Installing collected packages: sentencepiece, tokenizers, sacremoses, transformers\n",
            "Successfully installed sacremoses-0.0.43 sentencepiece-0.1.91 tokenizers-0.9.3 transformers-3.5.0\n"
          ],
          "name": "stdout"
        }
      ]
    },
    {
      "cell_type": "code",
      "metadata": {
        "id": "aQPOyEbGQSfp"
      },
      "source": [
        "from sklearn.cluster import AgglomerativeClustering\n",
        "from scipy.cluster.hierarchy import dendrogram, linkage"
      ],
      "execution_count": 3,
      "outputs": []
    },
    {
      "cell_type": "code",
      "metadata": {
        "id": "v-qFV305z5mQ"
      },
      "source": [
        "import torch\n",
        "from transformers import BertTokenizer, BertModel"
      ],
      "execution_count": 4,
      "outputs": []
    },
    {
      "cell_type": "code",
      "metadata": {
        "id": "MCQOk2sj0zws"
      },
      "source": [
        "import numpy as np\n",
        "import matplotlib.pyplot as plt\n",
        "%matplotlib inline"
      ],
      "execution_count": 5,
      "outputs": []
    },
    {
      "cell_type": "code",
      "metadata": {
        "id": "ZL-2T_ks09Us",
        "outputId": "d3c97491-4c49-431d-bffc-8d7c5d955b9e",
        "colab": {
          "base_uri": "https://localhost:8080/",
          "height": 66,
          "referenced_widgets": [
            "12e1dd70e57c4cf88dc0dfe6112d546b",
            "d9d26b09bee84aa8ae4ff08c792423ee",
            "3a8772bd3ac541cd88741f1ff0caa44a",
            "4bbeffd6a3e84f258fd32975d7d2f3df",
            "8cdd92e2a0d642959d319176152f2edc",
            "e72e4c822d204e7481fd36370f97174d",
            "f5fa6b02900b4392bdd143800bc911a9",
            "b0f9765d751743a2b501ae0ccbdd7ac3"
          ]
        }
      },
      "source": [
        "tokenizer = BertTokenizer.from_pretrained('bert-base-uncased')"
      ],
      "execution_count": 6,
      "outputs": [
        {
          "output_type": "display_data",
          "data": {
            "application/vnd.jupyter.widget-view+json": {
              "model_id": "12e1dd70e57c4cf88dc0dfe6112d546b",
              "version_minor": 0,
              "version_major": 2
            },
            "text/plain": [
              "HBox(children=(FloatProgress(value=0.0, description='Downloading', max=231508.0, style=ProgressStyle(descripti…"
            ]
          },
          "metadata": {
            "tags": []
          }
        },
        {
          "output_type": "stream",
          "text": [
            "\n"
          ],
          "name": "stdout"
        }
      ]
    },
    {
      "cell_type": "code",
      "metadata": {
        "id": "2R60H9QY2IMp"
      },
      "source": [
        "vocablist = list(tokenizer.vocab.keys())"
      ],
      "execution_count": 7,
      "outputs": []
    },
    {
      "cell_type": "code",
      "metadata": {
        "id": "CYon8zu-2Kpy",
        "outputId": "ed2b8857-15e6-45a8-f2e1-f9a8cd0e8738",
        "colab": {
          "base_uri": "https://localhost:8080/"
        }
      },
      "source": [
        "len(vocablist)"
      ],
      "execution_count": 8,
      "outputs": [
        {
          "output_type": "execute_result",
          "data": {
            "text/plain": [
              "30522"
            ]
          },
          "metadata": {
            "tags": []
          },
          "execution_count": 8
        }
      ]
    },
    {
      "cell_type": "code",
      "metadata": {
        "id": "JkG-k9cD3ei9"
      },
      "source": [
        "#text = \"After stealing money from the bank vault, the bank robber was seen fishing on the Mississippi river bank.\""
      ],
      "execution_count": 8,
      "outputs": []
    },
    {
      "cell_type": "code",
      "metadata": {
        "id": "obSYDBsL4h2w"
      },
      "source": [
        "#tokenized_text = tokenizer.tokenize(text)"
      ],
      "execution_count": 9,
      "outputs": []
    },
    {
      "cell_type": "code",
      "metadata": {
        "id": "TN-wggqS4v9T"
      },
      "source": [
        "#indexed_tokens = tokenizer.convert_tokens_to_ids(tokenized_text)"
      ],
      "execution_count": 10,
      "outputs": []
    },
    {
      "cell_type": "code",
      "metadata": {
        "id": "y2DNunNm5E_E"
      },
      "source": [
        "#segment_ids = [1]*len(tokenized_text)"
      ],
      "execution_count": 13,
      "outputs": []
    },
    {
      "cell_type": "code",
      "metadata": {
        "id": "mOKLcwxQ5cSd"
      },
      "source": [
        "#token_tensor = torch.tensor(indexed_tokens)\n",
        "#segments_tensor = torch.tensor(segment_ids)"
      ],
      "execution_count": 14,
      "outputs": []
    },
    {
      "cell_type": "code",
      "metadata": {
        "id": "apB7lRx955NT",
        "outputId": "3a197633-b057-41d8-f7f5-b826c9cfdbd3",
        "colab": {
          "base_uri": "https://localhost:8080/",
          "height": 115,
          "referenced_widgets": [
            "9357f03fd92848688bc1e608aa71c909",
            "1c9adc4f4b164ab9981c423836e180d0",
            "75743b43f2b7411ebb9fe8595c3a1445",
            "6ed283d7dd9249b7b4114fa042a9f2fe",
            "6ff5f560d0ed49279b99533c180839d5",
            "be14077ac36a48e0a3b1f768cfa0bdd3",
            "9c66f9116ec146768257f3a8cd9ca676",
            "676e2f641fd642d8aec100cc2f95649e",
            "fbeca3f99cf644f5b12521c880df8f59",
            "55bd8c9280974a8c8301b6189bfe7cf7",
            "c38884ec405448eca5fd7b98edfdc872",
            "fb87a207fd844a939792f7f7eb2e1cf5",
            "21eda7e4f6ab4fff8b8cb317c9ab8c0f",
            "326e545a134e496b8d43fc49067a2241",
            "d56bca340c0f4dc1b45c9a65f3c4e597",
            "ed11bb2e4cc44cb585de6a21bccc4da0"
          ]
        }
      },
      "source": [
        "model = BertModel.from_pretrained('bert-base-uncased', output_hidden_states = True, output_attentions = True)"
      ],
      "execution_count": 9,
      "outputs": [
        {
          "output_type": "display_data",
          "data": {
            "application/vnd.jupyter.widget-view+json": {
              "model_id": "9357f03fd92848688bc1e608aa71c909",
              "version_minor": 0,
              "version_major": 2
            },
            "text/plain": [
              "HBox(children=(FloatProgress(value=0.0, description='Downloading', max=433.0, style=ProgressStyle(description_…"
            ]
          },
          "metadata": {
            "tags": []
          }
        },
        {
          "output_type": "stream",
          "text": [
            "\n"
          ],
          "name": "stdout"
        },
        {
          "output_type": "display_data",
          "data": {
            "application/vnd.jupyter.widget-view+json": {
              "model_id": "fbeca3f99cf644f5b12521c880df8f59",
              "version_minor": 0,
              "version_major": 2
            },
            "text/plain": [
              "HBox(children=(FloatProgress(value=0.0, description='Downloading', max=440473133.0, style=ProgressStyle(descri…"
            ]
          },
          "metadata": {
            "tags": []
          }
        },
        {
          "output_type": "stream",
          "text": [
            "\n"
          ],
          "name": "stdout"
        }
      ]
    },
    {
      "cell_type": "code",
      "metadata": {
        "id": "KtaJKv455lOz"
      },
      "source": [
        "word_embeddings = model.embeddings.word_embeddings.weight"
      ],
      "execution_count": 10,
      "outputs": []
    },
    {
      "cell_type": "code",
      "metadata": {
        "id": "pFJAj-2D7NuW"
      },
      "source": [
        "def get_vec(x):\n",
        "  idx = tokenizer.convert_tokens_to_ids(x)\n",
        "  vec = word_embeddings[idx].detach().numpy()\n",
        "  return vec"
      ],
      "execution_count": 11,
      "outputs": []
    },
    {
      "cell_type": "code",
      "metadata": {
        "id": "EZPMhyuBLdla"
      },
      "source": [
        "def cosin_sim(x, y):\n",
        "  import numpy as np\n",
        "  d = np.dot(x, y)/np.linalg.norm((x)*np.linalg.norm(y))\n",
        "  return d"
      ],
      "execution_count": 12,
      "outputs": []
    },
    {
      "cell_type": "code",
      "metadata": {
        "id": "jg399OnyePch"
      },
      "source": [
        "veclist = word_embeddings.detach().numpy()"
      ],
      "execution_count": 13,
      "outputs": []
    },
    {
      "cell_type": "code",
      "metadata": {
        "id": "qu4eCH1weWai",
        "outputId": "faae665b-00ad-45fe-b666-953a48e586d8",
        "colab": {
          "base_uri": "https://localhost:8080/"
        }
      },
      "source": [
        "veclist.shape"
      ],
      "execution_count": 14,
      "outputs": [
        {
          "output_type": "execute_result",
          "data": {
            "text/plain": [
              "(30522, 768)"
            ]
          },
          "metadata": {
            "tags": []
          },
          "execution_count": 14
        }
      ]
    },
    {
      "cell_type": "code",
      "metadata": {
        "id": "ln3mCTAVK-o1",
        "outputId": "4524b1cd-397c-49f6-fb2c-236a01c8d336",
        "colab": {
          "base_uri": "https://localhost:8080/",
          "height": 282
        }
      },
      "source": [
        "#plt.plot(np.sort(simlist)[::-1])"
      ],
      "execution_count": 71,
      "outputs": [
        {
          "output_type": "execute_result",
          "data": {
            "text/plain": [
              "[<matplotlib.lines.Line2D at 0x7f0f81f485c0>]"
            ]
          },
          "metadata": {
            "tags": []
          },
          "execution_count": 71
        },
        {
          "output_type": "display_data",
          "data": {
            "image/png": "[encoded data removed]",
            "text/plain": [
              "<Figure size 432x288 with 1 Axes>"
            ]
          },
          "metadata": {
            "tags": [],
            "needs_background": "light"
          }
        }
      ]
    },
    {
      "cell_type": "code",
      "metadata": {
        "id": "w9UbHkdoIUlD",
        "outputId": "0f63dd72-4e32-428c-b889-d1f37ee7f08a",
        "colab": {
          "base_uri": "https://localhost:8080/",
          "height": 928
        }
      },
      "source": [
        "#plt.hist(simlist, bins = 100)"
      ],
      "execution_count": 72,
      "outputs": [
        {
          "output_type": "execute_result",
          "data": {
            "text/plain": [
              "(array([1.000e+00, 1.000e+00, 1.000e+00, 3.000e+00, 0.000e+00, 6.000e+00,\n",
              "        3.000e+00, 5.000e+00, 8.000e+00, 8.000e+00, 9.000e+00, 9.000e+00,\n",
              "        1.300e+01, 1.900e+01, 2.200e+01, 2.400e+01, 1.900e+01, 3.200e+01,\n",
              "        3.600e+01, 3.900e+01, 4.600e+01, 4.900e+01, 6.700e+01, 8.400e+01,\n",
              "        9.600e+01, 1.090e+02, 1.310e+02, 1.710e+02, 1.590e+02, 1.950e+02,\n",
              "        2.400e+02, 2.810e+02, 3.460e+02, 4.000e+02, 5.480e+02, 6.350e+02,\n",
              "        7.310e+02, 9.120e+02, 1.046e+03, 1.254e+03, 1.471e+03, 1.598e+03,\n",
              "        1.662e+03, 1.706e+03, 1.791e+03, 1.759e+03, 1.806e+03, 1.753e+03,\n",
              "        1.634e+03, 1.446e+03, 1.254e+03, 1.094e+03, 9.210e+02, 7.160e+02,\n",
              "        5.160e+02, 3.220e+02, 1.980e+02, 7.400e+01, 2.700e+01, 7.000e+00,\n",
              "        1.850e+02, 8.120e+02, 4.000e+00, 5.000e+00, 0.000e+00, 0.000e+00,\n",
              "        0.000e+00, 0.000e+00, 1.000e+00, 0.000e+00, 0.000e+00, 0.000e+00,\n",
              "        0.000e+00, 0.000e+00, 0.000e+00, 0.000e+00, 0.000e+00, 0.000e+00,\n",
              "        0.000e+00, 0.000e+00, 0.000e+00, 0.000e+00, 1.000e+00, 0.000e+00,\n",
              "        0.000e+00, 0.000e+00, 0.000e+00, 0.000e+00, 0.000e+00, 0.000e+00,\n",
              "        0.000e+00, 0.000e+00, 0.000e+00, 0.000e+00, 0.000e+00, 0.000e+00,\n",
              "        0.000e+00, 0.000e+00, 0.000e+00, 1.000e+00]),\n",
              " array([0.00954675, 0.01945128, 0.02935581, 0.03926034, 0.04916487,\n",
              "        0.05906941, 0.06897394, 0.07887847, 0.088783  , 0.09868753,\n",
              "        0.10859207, 0.1184966 , 0.12840113, 0.13830566, 0.14821019,\n",
              "        0.15811473, 0.16801926, 0.17792379, 0.18782832, 0.19773285,\n",
              "        0.20763739, 0.21754192, 0.22744645, 0.23735098, 0.24725551,\n",
              "        0.25716004, 0.26706458, 0.27696911, 0.28687364, 0.29677817,\n",
              "        0.3066827 , 0.31658724, 0.32649177, 0.3363963 , 0.34630083,\n",
              "        0.35620536, 0.3661099 , 0.37601443, 0.38591896, 0.39582349,\n",
              "        0.40572802, 0.41563256, 0.42553709, 0.43544162, 0.44534615,\n",
              "        0.45525068, 0.46515522, 0.47505975, 0.48496428, 0.49486881,\n",
              "        0.50477334, 0.51467788, 0.52458241, 0.53448694, 0.54439147,\n",
              "        0.554296  , 0.56420054, 0.57410507, 0.5840096 , 0.59391413,\n",
              "        0.60381866, 0.61372319, 0.62362773, 0.63353226, 0.64343679,\n",
              "        0.65334132, 0.66324585, 0.67315039, 0.68305492, 0.69295945,\n",
              "        0.70286398, 0.71276851, 0.72267305, 0.73257758, 0.74248211,\n",
              "        0.75238664, 0.76229117, 0.77219571, 0.78210024, 0.79200477,\n",
              "        0.8019093 , 0.81181383, 0.82171837, 0.8316229 , 0.84152743,\n",
              "        0.85143196, 0.86133649, 0.87124103, 0.88114556, 0.89105009,\n",
              "        0.90095462, 0.91085915, 0.92076368, 0.93066822, 0.94057275,\n",
              "        0.95047728, 0.96038181, 0.97028634, 0.98019088, 0.99009541,\n",
              "        0.99999994]),\n",
              " <a list of 100 Patch objects>)"
            ]
          },
          "metadata": {
            "tags": []
          },
          "execution_count": 72
        },
        {
          "output_type": "display_data",
          "data": {
            "image/png": "[encoded data removed]",
            "text/plain": [
              "<Figure size 432x288 with 1 Axes>"
            ]
          },
          "metadata": {
            "tags": [],
            "needs_background": "light"
          }
        }
      ]
    },
    {
      "cell_type": "code",
      "metadata": {
        "id": "7poaALR3JeS8",
        "outputId": "67b4caa9-6895-41fd-962b-13ad66653f00",
        "colab": {
          "base_uri": "https://localhost:8080/"
        }
      },
      "source": [
        "#np.sort(simlist)[::-1][150:200]"
      ],
      "execution_count": 29,
      "outputs": [
        {
          "output_type": "execute_result",
          "data": {
            "text/plain": [
              "array([0.46202365, 0.46194199, 0.46185449, 0.46180519, 0.46170318,\n",
              "       0.46168679, 0.46167156, 0.4616015 , 0.46153682, 0.46141204,\n",
              "       0.46135867, 0.46132636, 0.46125764, 0.46124479, 0.46123236,\n",
              "       0.46115601, 0.46088454, 0.4607912 , 0.46073765, 0.46070075,\n",
              "       0.4606584 , 0.46046093, 0.46029261, 0.46024671, 0.46019873,\n",
              "       0.46018198, 0.46017587, 0.46015686, 0.45996058, 0.4599497 ,\n",
              "       0.45990109, 0.45978105, 0.45970216, 0.4596796 , 0.45947236,\n",
              "       0.45942011, 0.45929694, 0.45929039, 0.45928961, 0.45927814,\n",
              "       0.45922357, 0.45920452, 0.45918965, 0.4591876 , 0.45917985,\n",
              "       0.45915926, 0.45914266, 0.45909905, 0.45909068, 0.45905381])"
            ]
          },
          "metadata": {
            "tags": []
          },
          "execution_count": 29
        }
      ]
    },
    {
      "cell_type": "code",
      "metadata": {
        "id": "r5DoI83HfrHn",
        "outputId": "c6611376-21e5-4df3-c7b4-508ae33ffd81",
        "colab": {
          "base_uri": "https://localhost:8080/"
        }
      },
      "source": [
        "t = get_vec('father')\n",
        "\n",
        "simlist = np.zeros(len(veclist),)\n",
        "\n",
        "for i in range(len(veclist)):\n",
        "  simlist[i] = cosin_sim(t, veclist[i])\n",
        "\n",
        "closestwords = np.argsort(simlist)[::-1]\n",
        "\n",
        "n = 20\n",
        "top_n = closestwords[0:20]\n",
        "for i in range(len(top_n)):\n",
        "  word = tokenizer.convert_ids_to_tokens(top_n[i].item())\n",
        "  similarity = simlist[top_n[i].item()]\n",
        "  print(i, word, similarity)"
      ],
      "execution_count": 15,
      "outputs": [
        {
          "output_type": "stream",
          "text": [
            "0 father 1.0000001192092896\n",
            "1 mother 0.7439195513725281\n",
            "2 dad 0.6255789399147034\n",
            "3 brother 0.6254437565803528\n",
            "4 grandfather 0.6155560612678528\n",
            "5 fathers 0.5951598882675171\n",
            "6 parents 0.5889931917190552\n",
            "7 grandmother 0.5596255660057068\n",
            "8 uncle 0.5566222071647644\n",
            "9 son 0.5445084571838379\n",
            "10 stepfather 0.52768874168396\n",
            "11 sister 0.5120916366577148\n",
            "12 daddy 0.5066556334495544\n",
            "13 husband 0.4979468286037445\n",
            "14 mothers 0.49515825510025024\n",
            "15 mom 0.49314430356025696\n",
            "16 godfather 0.489383727312088\n",
            "17 daughter 0.48465752601623535\n",
            "18 wife 0.4750252068042755\n",
            "19 uncles 0.47393202781677246\n"
          ],
          "name": "stdout"
        }
      ]
    },
    {
      "cell_type": "code",
      "metadata": {
        "id": "eRmPF8M8SK2T",
        "outputId": "e31fae61-ba4f-47c4-bb79-63456767491b",
        "colab": {
          "base_uri": "https://localhost:8080/",
          "height": 323
        }
      },
      "source": [
        "z = np.zeros((20, 768))\n",
        "\n",
        "for i in range(20):\n",
        "  z[i] = veclist[closestwords[i]]\n",
        "\n",
        "z = linkage (z, method='ward')\n",
        "\n",
        "fig = plt.figure(figsize=(7,5))\n",
        "dn = dendrogram(z)"
      ],
      "execution_count": 16,
      "outputs": [
        {
          "output_type": "display_data",
          "data": {
            "image/png": "[encoded data removed]",
            "text/plain": [
              "<Figure size 504x360 with 1 Axes>"
            ]
          },
          "metadata": {
            "tags": [],
            "needs_background": "light"
          }
        }
      ]
    },
    {
      "cell_type": "code",
      "metadata": {
        "id": "hAI4ShU24L6r"
      },
      "source": [
        "def word_strucure(x):\n",
        "  t = get_vec(x)\n",
        "  simlist = np.zeros(len(veclist),)\n",
        "\n",
        "  for i in range(len(veclist)):\n",
        "    simlist[i] = cosin_sim(t, veclist[i])\n",
        "\n",
        "  closestwords = np.argsort(simlist)[::-1]\n",
        "\n",
        "  n = 20\n",
        "  top_n = closestwords[0:20]\n",
        "  for i in range(len(top_n)):\n",
        "    word = tokenizer.convert_ids_to_tokens(top_n[i].item())\n",
        "    similarity = simlist[top_n[i].item()]\n",
        "    print(i, word, similarity)\n",
        "\n",
        "  z = np.zeros((20, 768))\n",
        "\n",
        "  for i in range(20):\n",
        "    z[i] = veclist[closestwords[i]]\n",
        "\n",
        "  z = linkage (z, method='ward')\n",
        "\n",
        "  fig = plt.figure(figsize=(7,5))\n",
        "  dn = dendrogram(z, orientation='right')"
      ],
      "execution_count": 22,
      "outputs": []
    },
    {
      "cell_type": "code",
      "metadata": {
        "id": "q4-qULiv6ffw",
        "outputId": "2e918bef-26ae-4b75-d1cd-bd79e788efb8",
        "colab": {
          "base_uri": "https://localhost:8080/",
          "height": 660
        }
      },
      "source": [
        "word_strucure('anger')"
      ],
      "execution_count": 23,
      "outputs": [
        {
          "output_type": "stream",
          "text": [
            "0 anger 1.0\n",
            "1 angered 0.6303508281707764\n",
            "2 rage 0.6218692064285278\n",
            "3 angry 0.6156224012374878\n",
            "4 enraged 0.6008555889129639\n",
            "5 fury 0.5905414819717407\n",
            "6 resentment 0.580786406993866\n",
            "7 outrage 0.5784003734588623\n",
            "8 annoyance 0.5684346556663513\n",
            "9 irritation 0.5646107792854309\n",
            "10 outraged 0.5540935397148132\n",
            "11 frustration 0.552736222743988\n",
            "12 hostility 0.5424672961235046\n",
            "13 annoyed 0.5386446118354797\n",
            "14 irritated 0.537519097328186\n",
            "15 hatred 0.5357582569122314\n",
            "16 angrily 0.5333356857299805\n",
            "17 disgust 0.5297354459762573\n",
            "18 displeasure 0.5284353494644165\n",
            "19 bitterness 0.5273690819740295\n"
          ],
          "name": "stdout"
        },
        {
          "output_type": "display_data",
          "data": {
            "image/png": "[encoded data removed]",
            "text/plain": [
              "<Figure size 504x360 with 1 Axes>"
            ]
          },
          "metadata": {
            "tags": [],
            "needs_background": "light"
          }
        }
      ]
    },
    {
      "cell_type": "code",
      "metadata": {
        "id": "vg4qMk-F7o04",
        "outputId": "0f18c4d0-14e2-4036-8781-67f632d8462d",
        "colab": {
          "base_uri": "https://localhost:8080/",
          "height": 660
        }
      },
      "source": [
        "word_strucure('life')"
      ],
      "execution_count": 24,
      "outputs": [
        {
          "output_type": "stream",
          "text": [
            "0 life 1.0\n",
            "1 lives 0.5412790179252625\n",
            "2 living 0.4547620713710785\n",
            "3 world 0.41100814938545227\n",
            "4 ##life 0.41097602248191833\n",
            "5 career 0.4094410240650177\n",
            "6 lifetime 0.40522491931915283\n",
            "7 670 0.3883271813392639\n",
            "8 259 0.38741999864578247\n",
            "9 241 0.38620278239250183\n",
            "10 live 0.38504883646965027\n",
            "11 270 0.3850432336330414\n",
            "12 people 0.38494694232940674\n",
            "13 332 0.38395440578460693\n",
            "14 191 0.38382449746131897\n",
            "15 352 0.3837426006793976\n",
            "16 308 0.38370034098625183\n",
            "17 251 0.3835313618183136\n",
            "18 530 0.38341471552848816\n",
            "19 305 0.38337790966033936\n"
          ],
          "name": "stdout"
        },
        {
          "output_type": "display_data",
          "data": {
            "image/png": "[encoded data removed]",
            "text/plain": [
              "<Figure size 504x360 with 1 Axes>"
            ]
          },
          "metadata": {
            "tags": [],
            "needs_background": "light"
          }
        }
      ]
    },
    {
      "cell_type": "code",
      "metadata": {
        "id": "uYt2fWPf77UU",
        "outputId": "8775af52-19e0-4f67-addc-a52a5c1fbe11",
        "colab": {
          "base_uri": "https://localhost:8080/",
          "height": 660
        }
      },
      "source": [
        "word_strucure('money')"
      ],
      "execution_count": 25,
      "outputs": [
        {
          "output_type": "stream",
          "text": [
            "0 money 1.0\n",
            "1 funds 0.5610285401344299\n",
            "2 cash 0.5269374251365662\n",
            "3 financial 0.4848286211490631\n",
            "4 finances 0.4774763882160187\n",
            "5 funding 0.46526727080345154\n",
            "6 wealth 0.4572276771068573\n",
            "7 740 0.44388166069984436\n",
            "8 financing 0.44353172183036804\n",
            "9 finance 0.4398762583732605\n",
            "10 riches 0.43581700325012207\n",
            "11 780 0.43206799030303955\n",
            "12 197 0.4320399761199951\n",
            "13 193 0.42898812890052795\n",
            "14 187 0.42879876494407654\n",
            "15 dollars 0.4275365173816681\n",
            "16 198 0.42719292640686035\n",
            "17 284 0.4262833595275879\n",
            "18 monetary 0.4262518584728241\n",
            "19 670 0.42569538950920105\n"
          ],
          "name": "stdout"
        },
        {
          "output_type": "display_data",
          "data": {
            "image/png": "[encoded data removed]",
            "text/plain": [
              "<Figure size 504x360 with 1 Axes>"
            ]
          },
          "metadata": {
            "tags": [],
            "needs_background": "light"
          }
        }
      ]
    },
    {
      "cell_type": "code",
      "metadata": {
        "id": "JLaG0FPh8Kk6",
        "outputId": "f1a8f16a-f5f4-45fc-9de7-96f52ac1683c",
        "colab": {
          "base_uri": "https://localhost:8080/",
          "height": 660
        }
      },
      "source": [
        "word_strucure('happiness')"
      ],
      "execution_count": 26,
      "outputs": [
        {
          "output_type": "stream",
          "text": [
            "0 happiness 1.0\n",
            "1 sadness 0.6013122797012329\n",
            "2 thrilled 0.6009552478790283\n",
            "3 loneliness 0.5996324419975281\n",
            "4 prosperous 0.5937967300415039\n",
            "5 delightful 0.5931323766708374\n",
            "6 cheerful 0.5890178084373474\n",
            "7 1726 0.5824870467185974\n",
            "8 prosperity 0.5813698768615723\n",
            "9 enjoyment 0.5808872580528259\n",
            "10 happier 0.5776124000549316\n",
            "11 delighted 0.5757561922073364\n",
            "12 excitement 0.575107753276825\n",
            "13 longevity 0.5749184489250183\n",
            "14 optimism 0.5734183192253113\n",
            "15 pleasures 0.5733094215393066\n",
            "16 happy 0.5723934173583984\n",
            "17 48th 0.5719704031944275\n",
            "18 adored 0.5708325505256653\n",
            "19 astonishment 0.5705713033676147\n"
          ],
          "name": "stdout"
        },
        {
          "output_type": "display_data",
          "data": {
            "image/png": "[encoded data removed]",
            "text/plain": [
              "<Figure size 504x360 with 1 Axes>"
            ]
          },
          "metadata": {
            "tags": [],
            "needs_background": "light"
          }
        }
      ]
    }
  ]
}