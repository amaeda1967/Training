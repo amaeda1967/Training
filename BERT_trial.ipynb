{
  "nbformat": 4,
  "nbformat_minor": 0,
  "metadata": {
    "colab": {
      "name": "BERT trial.ipynb",
      "provenance": [],
      "collapsed_sections": [],
      "authorship_tag": "ABX9TyP8NUvwGQcUWD6qFtht+PTU",
      "include_colab_link": true
    },
    "kernelspec": {
      "name": "python3",
      "display_name": "Python 3"
    }
  },
  "cells": [
    {
      "cell_type": "markdown",
      "metadata": {
        "id": "view-in-github",
        "colab_type": "text"
      },
      "source": [
        "<a href=\"https://colab.research.google.com/github/amaeda1967/Training/blob/master/BERT_trial.ipynb\" target=\"_parent\"><img src=\"https://colab.research.google.com/assets/colab-badge.svg\" alt=\"Open In Colab\"/></a>"
      ]
    },
    {
      "cell_type": "code",
      "metadata": {
        "id": "E7ERPlX4z3Ca",
        "outputId": "4db84317-a8cf-44b4-9ca2-50a7089c0b45",
        "colab": {
          "base_uri": "https://localhost:8080/"
        }
      },
      "source": [
        "pip install transformers"
      ],
      "execution_count": 1,
      "outputs": [
        {
          "output_type": "stream",
          "text": [
            "Requirement already satisfied: transformers in /usr/local/lib/python3.6/dist-packages (3.5.0)\n",
            "Requirement already satisfied: dataclasses; python_version < \"3.7\" in /usr/local/lib/python3.6/dist-packages (from transformers) (0.7)\n",
            "Requirement already satisfied: packaging in /usr/local/lib/python3.6/dist-packages (from transformers) (20.4)\n",
            "Requirement already satisfied: protobuf in /usr/local/lib/python3.6/dist-packages (from transformers) (3.12.4)\n",
            "Requirement already satisfied: numpy in /usr/local/lib/python3.6/dist-packages (from transformers) (1.18.5)\n",
            "Requirement already satisfied: sacremoses in /usr/local/lib/python3.6/dist-packages (from transformers) (0.0.43)\n",
            "Requirement already satisfied: regex!=2019.12.17 in /usr/local/lib/python3.6/dist-packages (from transformers) (2019.12.20)\n",
            "Requirement already satisfied: tokenizers==0.9.3 in /usr/local/lib/python3.6/dist-packages (from transformers) (0.9.3)\n",
            "Requirement already satisfied: sentencepiece==0.1.91 in /usr/local/lib/python3.6/dist-packages (from transformers) (0.1.91)\n",
            "Requirement already satisfied: requests in /usr/local/lib/python3.6/dist-packages (from transformers) (2.23.0)\n",
            "Requirement already satisfied: tqdm>=4.27 in /usr/local/lib/python3.6/dist-packages (from transformers) (4.41.1)\n",
            "Requirement already satisfied: filelock in /usr/local/lib/python3.6/dist-packages (from transformers) (3.0.12)\n",
            "Requirement already satisfied: six in /usr/local/lib/python3.6/dist-packages (from packaging->transformers) (1.15.0)\n",
            "Requirement already satisfied: pyparsing>=2.0.2 in /usr/local/lib/python3.6/dist-packages (from packaging->transformers) (2.4.7)\n",
            "Requirement already satisfied: setuptools in /usr/local/lib/python3.6/dist-packages (from protobuf->transformers) (50.3.2)\n",
            "Requirement already satisfied: joblib in /usr/local/lib/python3.6/dist-packages (from sacremoses->transformers) (0.17.0)\n",
            "Requirement already satisfied: click in /usr/local/lib/python3.6/dist-packages (from sacremoses->transformers) (7.1.2)\n",
            "Requirement already satisfied: chardet<4,>=3.0.2 in /usr/local/lib/python3.6/dist-packages (from requests->transformers) (3.0.4)\n",
            "Requirement already satisfied: urllib3!=1.25.0,!=1.25.1,<1.26,>=1.21.1 in /usr/local/lib/python3.6/dist-packages (from requests->transformers) (1.24.3)\n",
            "Requirement already satisfied: idna<3,>=2.5 in /usr/local/lib/python3.6/dist-packages (from requests->transformers) (2.10)\n",
            "Requirement already satisfied: certifi>=2017.4.17 in /usr/local/lib/python3.6/dist-packages (from requests->transformers) (2020.6.20)\n"
          ],
          "name": "stdout"
        }
      ]
    },
    {
      "cell_type": "code",
      "metadata": {
        "id": "v-qFV305z5mQ"
      },
      "source": [
        "import torch\n",
        "from transformers import BertTokenizer, BertModel"
      ],
      "execution_count": 2,
      "outputs": []
    },
    {
      "cell_type": "code",
      "metadata": {
        "id": "MCQOk2sj0zws"
      },
      "source": [
        "import numpy as np\n",
        "import matplotlib.pyplot as plt\n",
        "%matplotlib inline"
      ],
      "execution_count": 3,
      "outputs": []
    },
    {
      "cell_type": "code",
      "metadata": {
        "id": "ZL-2T_ks09Us"
      },
      "source": [
        "tokenizer = BertTokenizer.from_pretrained('bert-base-uncased')"
      ],
      "execution_count": 4,
      "outputs": []
    },
    {
      "cell_type": "code",
      "metadata": {
        "id": "2R60H9QY2IMp"
      },
      "source": [
        "vocablist = list(tokenizer.vocab.keys())"
      ],
      "execution_count": 5,
      "outputs": []
    },
    {
      "cell_type": "code",
      "metadata": {
        "id": "CYon8zu-2Kpy",
        "outputId": "08e5a9fe-6892-41f6-b2a3-eaf2a4843c5f",
        "colab": {
          "base_uri": "https://localhost:8080/"
        }
      },
      "source": [
        "len(vocablist)"
      ],
      "execution_count": 6,
      "outputs": [
        {
          "output_type": "execute_result",
          "data": {
            "text/plain": [
              "30522"
            ]
          },
          "metadata": {
            "tags": []
          },
          "execution_count": 6
        }
      ]
    },
    {
      "cell_type": "code",
      "metadata": {
        "id": "JkG-k9cD3ei9"
      },
      "source": [
        "text = \"After stealing money from the bank vault, the bank robber was seen fishing on the Mississippi river bank.\""
      ],
      "execution_count": 8,
      "outputs": []
    },
    {
      "cell_type": "code",
      "metadata": {
        "id": "obSYDBsL4h2w"
      },
      "source": [
        "tokenized_text = tokenizer.tokenize(text)"
      ],
      "execution_count": 9,
      "outputs": []
    },
    {
      "cell_type": "code",
      "metadata": {
        "id": "TN-wggqS4v9T"
      },
      "source": [
        "indexed_tokens = tokenizer.convert_tokens_to_ids(tokenized_text)"
      ],
      "execution_count": 10,
      "outputs": []
    },
    {
      "cell_type": "code",
      "metadata": {
        "id": "xRXSfNMBXTsk",
        "outputId": "315458f9-804d-45fc-af27-5e98594574d1",
        "colab": {
          "base_uri": "https://localhost:8080/"
        }
      },
      "source": [
        "tokenizer.convert_tokens_to_ids('king')"
      ],
      "execution_count": 11,
      "outputs": [
        {
          "output_type": "execute_result",
          "data": {
            "text/plain": [
              "2332"
            ]
          },
          "metadata": {
            "tags": []
          },
          "execution_count": 11
        }
      ]
    },
    {
      "cell_type": "code",
      "metadata": {
        "id": "AQXbskjtXYlM",
        "outputId": "bd6ac9bc-62fe-4656-cc92-c80eba62cc3b",
        "colab": {
          "base_uri": "https://localhost:8080/",
          "height": 35
        }
      },
      "source": [
        "tokenizer.convert_ids_to_tokens(2332)"
      ],
      "execution_count": 12,
      "outputs": [
        {
          "output_type": "execute_result",
          "data": {
            "application/vnd.google.colaboratory.intrinsic+json": {
              "type": "string"
            },
            "text/plain": [
              "'king'"
            ]
          },
          "metadata": {
            "tags": []
          },
          "execution_count": 12
        }
      ]
    },
    {
      "cell_type": "code",
      "metadata": {
        "id": "y2DNunNm5E_E"
      },
      "source": [
        "segment_ids = [1]*len(tokenized_text)"
      ],
      "execution_count": 13,
      "outputs": []
    },
    {
      "cell_type": "code",
      "metadata": {
        "id": "mOKLcwxQ5cSd"
      },
      "source": [
        "token_tensor = torch.tensor(indexed_tokens)\n",
        "segments_tensor = torch.tensor(segment_ids)"
      ],
      "execution_count": 14,
      "outputs": []
    },
    {
      "cell_type": "code",
      "metadata": {
        "id": "apB7lRx955NT"
      },
      "source": [
        "model = BertModel.from_pretrained('bert-base-uncased', output_hidden_states = True, output_attentions = True)"
      ],
      "execution_count": 6,
      "outputs": []
    },
    {
      "cell_type": "code",
      "metadata": {
        "id": "KtaJKv455lOz"
      },
      "source": [
        "word_embeddings = model.embeddings.word_embeddings.weight"
      ],
      "execution_count": 8,
      "outputs": []
    },
    {
      "cell_type": "code",
      "metadata": {
        "id": "pFJAj-2D7NuW"
      },
      "source": [
        "def get_vec(x):\n",
        "  idx = tokenizer.convert_tokens_to_ids(x)\n",
        "  vec = word_embeddings[idx].detach().numpy()\n",
        "  return vec"
      ],
      "execution_count": 9,
      "outputs": []
    },
    {
      "cell_type": "code",
      "metadata": {
        "id": "EZPMhyuBLdla"
      },
      "source": [
        "def cosin_sim(x, y):\n",
        "  import numpy as np\n",
        "  d = np.dot(x, y)/np.linalg.norm((x)*np.linalg.norm(y))\n",
        "  return d"
      ],
      "execution_count": 10,
      "outputs": []
    },
    {
      "cell_type": "code",
      "metadata": {
        "id": "jg399OnyePch"
      },
      "source": [
        "veclist = word_embeddings.detach().numpy()"
      ],
      "execution_count": 11,
      "outputs": []
    },
    {
      "cell_type": "code",
      "metadata": {
        "id": "qu4eCH1weWai",
        "outputId": "0184f84e-5c96-4383-d62c-6b5b11640988",
        "colab": {
          "base_uri": "https://localhost:8080/"
        }
      },
      "source": [
        "veclist.shape"
      ],
      "execution_count": 12,
      "outputs": [
        {
          "output_type": "execute_result",
          "data": {
            "text/plain": [
              "(30522, 768)"
            ]
          },
          "metadata": {
            "tags": []
          },
          "execution_count": 12
        }
      ]
    },
    {
      "cell_type": "code",
      "metadata": {
        "id": "8CSBOEfpSFap",
        "outputId": "1d8f4281-5ff6-4e80-d2c2-53263b9603cb",
        "colab": {
          "base_uri": "https://localhost:8080/"
        }
      },
      "source": [
        "closestwords"
      ],
      "execution_count": 50,
      "outputs": [
        {
          "output_type": "execute_result",
          "data": {
            "text/plain": [
              "array([ 4610, 18730, 21791, ...,   102,  2000,  2013])"
            ]
          },
          "metadata": {
            "tags": []
          },
          "execution_count": 50
        }
      ]
    },
    {
      "cell_type": "code",
      "metadata": {
        "id": "ln3mCTAVK-o1",
        "outputId": "4524b1cd-397c-49f6-fb2c-236a01c8d336",
        "colab": {
          "base_uri": "https://localhost:8080/",
          "height": 282
        }
      },
      "source": [
        "plt.plot(np.sort(simlist)[::-1])"
      ],
      "execution_count": 71,
      "outputs": [
        {
          "output_type": "execute_result",
          "data": {
            "text/plain": [
              "[<matplotlib.lines.Line2D at 0x7f0f81f485c0>]"
            ]
          },
          "metadata": {
            "tags": []
          },
          "execution_count": 71
        },
        {
          "output_type": "display_data",
          "data": {
            "image/png": "[encoded data removed]",
            "text/plain": [
              "<Figure size 432x288 with 1 Axes>"
            ]
          },
          "metadata": {
            "tags": [],
            "needs_background": "light"
          }
        }
      ]
    },
    {
      "cell_type": "code",
      "metadata": {
        "id": "w9UbHkdoIUlD",
        "outputId": "0f63dd72-4e32-428c-b889-d1f37ee7f08a",
        "colab": {
          "base_uri": "https://localhost:8080/",
          "height": 928
        }
      },
      "source": [
        "plt.hist(simlist, bins = 100)"
      ],
      "execution_count": 72,
      "outputs": [
        {
          "output_type": "execute_result",
          "data": {
            "text/plain": [
              "(array([1.000e+00, 1.000e+00, 1.000e+00, 3.000e+00, 0.000e+00, 6.000e+00,\n",
              "        3.000e+00, 5.000e+00, 8.000e+00, 8.000e+00, 9.000e+00, 9.000e+00,\n",
              "        1.300e+01, 1.900e+01, 2.200e+01, 2.400e+01, 1.900e+01, 3.200e+01,\n",
              "        3.600e+01, 3.900e+01, 4.600e+01, 4.900e+01, 6.700e+01, 8.400e+01,\n",
              "        9.600e+01, 1.090e+02, 1.310e+02, 1.710e+02, 1.590e+02, 1.950e+02,\n",
              "        2.400e+02, 2.810e+02, 3.460e+02, 4.000e+02, 5.480e+02, 6.350e+02,\n",
              "        7.310e+02, 9.120e+02, 1.046e+03, 1.254e+03, 1.471e+03, 1.598e+03,\n",
              "        1.662e+03, 1.706e+03, 1.791e+03, 1.759e+03, 1.806e+03, 1.753e+03,\n",
              "        1.634e+03, 1.446e+03, 1.254e+03, 1.094e+03, 9.210e+02, 7.160e+02,\n",
              "        5.160e+02, 3.220e+02, 1.980e+02, 7.400e+01, 2.700e+01, 7.000e+00,\n",
              "        1.850e+02, 8.120e+02, 4.000e+00, 5.000e+00, 0.000e+00, 0.000e+00,\n",
              "        0.000e+00, 0.000e+00, 1.000e+00, 0.000e+00, 0.000e+00, 0.000e+00,\n",
              "        0.000e+00, 0.000e+00, 0.000e+00, 0.000e+00, 0.000e+00, 0.000e+00,\n",
              "        0.000e+00, 0.000e+00, 0.000e+00, 0.000e+00, 1.000e+00, 0.000e+00,\n",
              "        0.000e+00, 0.000e+00, 0.000e+00, 0.000e+00, 0.000e+00, 0.000e+00,\n",
              "        0.000e+00, 0.000e+00, 0.000e+00, 0.000e+00, 0.000e+00, 0.000e+00,\n",
              "        0.000e+00, 0.000e+00, 0.000e+00, 1.000e+00]),\n",
              " array([0.00954675, 0.01945128, 0.02935581, 0.03926034, 0.04916487,\n",
              "        0.05906941, 0.06897394, 0.07887847, 0.088783  , 0.09868753,\n",
              "        0.10859207, 0.1184966 , 0.12840113, 0.13830566, 0.14821019,\n",
              "        0.15811473, 0.16801926, 0.17792379, 0.18782832, 0.19773285,\n",
              "        0.20763739, 0.21754192, 0.22744645, 0.23735098, 0.24725551,\n",
              "        0.25716004, 0.26706458, 0.27696911, 0.28687364, 0.29677817,\n",
              "        0.3066827 , 0.31658724, 0.32649177, 0.3363963 , 0.34630083,\n",
              "        0.35620536, 0.3661099 , 0.37601443, 0.38591896, 0.39582349,\n",
              "        0.40572802, 0.41563256, 0.42553709, 0.43544162, 0.44534615,\n",
              "        0.45525068, 0.46515522, 0.47505975, 0.48496428, 0.49486881,\n",
              "        0.50477334, 0.51467788, 0.52458241, 0.53448694, 0.54439147,\n",
              "        0.554296  , 0.56420054, 0.57410507, 0.5840096 , 0.59391413,\n",
              "        0.60381866, 0.61372319, 0.62362773, 0.63353226, 0.64343679,\n",
              "        0.65334132, 0.66324585, 0.67315039, 0.68305492, 0.69295945,\n",
              "        0.70286398, 0.71276851, 0.72267305, 0.73257758, 0.74248211,\n",
              "        0.75238664, 0.76229117, 0.77219571, 0.78210024, 0.79200477,\n",
              "        0.8019093 , 0.81181383, 0.82171837, 0.8316229 , 0.84152743,\n",
              "        0.85143196, 0.86133649, 0.87124103, 0.88114556, 0.89105009,\n",
              "        0.90095462, 0.91085915, 0.92076368, 0.93066822, 0.94057275,\n",
              "        0.95047728, 0.96038181, 0.97028634, 0.98019088, 0.99009541,\n",
              "        0.99999994]),\n",
              " <a list of 100 Patch objects>)"
            ]
          },
          "metadata": {
            "tags": []
          },
          "execution_count": 72
        },
        {
          "output_type": "display_data",
          "data": {
            "image/png": "[encoded data removed]",
            "text/plain": [
              "<Figure size 432x288 with 1 Axes>"
            ]
          },
          "metadata": {
            "tags": [],
            "needs_background": "light"
          }
        }
      ]
    },
    {
      "cell_type": "code",
      "metadata": {
        "id": "7poaALR3JeS8",
        "outputId": "67b4caa9-6895-41fd-962b-13ad66653f00",
        "colab": {
          "base_uri": "https://localhost:8080/"
        }
      },
      "source": [
        "np.sort(simlist)[::-1][150:200]"
      ],
      "execution_count": 29,
      "outputs": [
        {
          "output_type": "execute_result",
          "data": {
            "text/plain": [
              "array([0.46202365, 0.46194199, 0.46185449, 0.46180519, 0.46170318,\n",
              "       0.46168679, 0.46167156, 0.4616015 , 0.46153682, 0.46141204,\n",
              "       0.46135867, 0.46132636, 0.46125764, 0.46124479, 0.46123236,\n",
              "       0.46115601, 0.46088454, 0.4607912 , 0.46073765, 0.46070075,\n",
              "       0.4606584 , 0.46046093, 0.46029261, 0.46024671, 0.46019873,\n",
              "       0.46018198, 0.46017587, 0.46015686, 0.45996058, 0.4599497 ,\n",
              "       0.45990109, 0.45978105, 0.45970216, 0.4596796 , 0.45947236,\n",
              "       0.45942011, 0.45929694, 0.45929039, 0.45928961, 0.45927814,\n",
              "       0.45922357, 0.45920452, 0.45918965, 0.4591876 , 0.45917985,\n",
              "       0.45915926, 0.45914266, 0.45909905, 0.45909068, 0.45905381])"
            ]
          },
          "metadata": {
            "tags": []
          },
          "execution_count": 29
        }
      ]
    },
    {
      "cell_type": "code",
      "metadata": {
        "id": "aQPOyEbGQSfp"
      },
      "source": [
        "from sklearn.cluster import AgglomerativeClustering\n",
        "from scipy.cluster.hierarchy import dendrogram, linkage"
      ],
      "execution_count": 27,
      "outputs": []
    },
    {
      "cell_type": "code",
      "metadata": {
        "id": "v8IuT4pa5G7n"
      },
      "source": [
        "def plot_dendrogram(model, **kwargs):\n",
        "    # Create linkage matrix and then plot the dendrogram\n",
        "\n",
        "    # create the counts of samples under each node\n",
        "    counts = np.zeros(model.children_.shape[0])\n",
        "    n_samples = len(model.labels_)\n",
        "    for i, merge in enumerate(model.children_):\n",
        "        current_count = 0\n",
        "        for child_idx in merge:\n",
        "            if child_idx < n_samples:\n",
        "                current_count += 1  # leaf node\n",
        "            else:\n",
        "                current_count += counts[child_idx - n_samples]\n",
        "        counts[i] = current_count\n",
        "\n",
        "    linkage_matrix = np.column_stack([model.children_, model.distances_,\n",
        "                                      counts]).astype(float)\n",
        "\n",
        "    # Plot the corresponding dendrogram\n",
        "    dendrogram(linkage_matrix, **kwargs)"
      ],
      "execution_count": 28,
      "outputs": []
    },
    {
      "cell_type": "code",
      "metadata": {
        "id": "K0-8yopx5R3r"
      },
      "source": [
        "model = AgglomerativeClustering(distance_threshold=0, n_clusters=None)"
      ],
      "execution_count": 29,
      "outputs": []
    },
    {
      "cell_type": "code",
      "metadata": {
        "id": "0q-JESBDYnDo"
      },
      "source": [
        "veclist_mini = veclist[:10]"
      ],
      "execution_count": 36,
      "outputs": []
    },
    {
      "cell_type": "code",
      "metadata": {
        "id": "r5DoI83HfrHn",
        "outputId": "6aad39b6-f031-4fab-a45f-6f7ccde88ac1",
        "colab": {
          "base_uri": "https://localhost:8080/"
        }
      },
      "source": [
        "t = get_vec('father')\n",
        "\n",
        "simlist = np.zeros(len(veclist),)\n",
        "\n",
        "for i in range(len(veclist)):\n",
        "  simlist[i] = cosin_sim(t, veclist[i])\n",
        "\n",
        "closestwords = np.argsort(simlist)[::-1]\n",
        "\n",
        "n = 20\n",
        "top_n = closestwords[0:20]\n",
        "for i in range(len(top_n)):\n",
        "  word = tokenizer.convert_ids_to_tokens(top_n[i].item())\n",
        "  similarity = simlist[top_n[i].item()]\n",
        "  print(i, word, similarity)"
      ],
      "execution_count": 81,
      "outputs": [
        {
          "output_type": "stream",
          "text": [
            "0 father 1.0000001192092896\n",
            "1 mother 0.7439195513725281\n",
            "2 dad 0.6255789399147034\n",
            "3 brother 0.6254437565803528\n",
            "4 grandfather 0.6155560612678528\n",
            "5 fathers 0.5951598882675171\n",
            "6 parents 0.5889931917190552\n",
            "7 grandmother 0.5596255660057068\n",
            "8 uncle 0.5566222071647644\n",
            "9 son 0.5445084571838379\n",
            "10 stepfather 0.52768874168396\n",
            "11 sister 0.5120916366577148\n",
            "12 daddy 0.5066556334495544\n",
            "13 husband 0.4979468286037445\n",
            "14 mothers 0.49515825510025024\n",
            "15 mom 0.49314430356025696\n",
            "16 godfather 0.489383727312088\n",
            "17 daughter 0.48465752601623535\n",
            "18 wife 0.4750252068042755\n",
            "19 uncles 0.47393202781677246\n"
          ],
          "name": "stdout"
        }
      ]
    },
    {
      "cell_type": "code",
      "metadata": {
        "id": "eRmPF8M8SK2T"
      },
      "source": [
        "z = np.zeros((20, 768))\n",
        "\n",
        "for i in range(20):\n",
        "  z[i] = veclist[closestwords[i]]"
      ],
      "execution_count": 83,
      "outputs": []
    },
    {
      "cell_type": "code",
      "metadata": {
        "id": "qXA3VhQ-RlOO"
      },
      "source": [
        "z = linkage (z, method='ward')"
      ],
      "execution_count": 84,
      "outputs": []
    },
    {
      "cell_type": "code",
      "metadata": {
        "id": "DYKaynJkR0Q8",
        "outputId": "bbc7303a-b722-4b2a-8904-563973ac1284",
        "colab": {
          "base_uri": "https://localhost:8080/",
          "height": 323
        }
      },
      "source": [
        "fig = plt.figure(figsize=(7,5))\n",
        "dn = dendrogram(z)"
      ],
      "execution_count": 85,
      "outputs": [
        {
          "output_type": "display_data",
          "data": {
            "image/png": "[encoded data removed]",
            "text/plain": [
              "<Figure size 504x360 with 1 Axes>"
            ]
          },
          "metadata": {
            "tags": [],
            "needs_background": "light"
          }
        }
      ]
    },
    {
      "cell_type": "code",
      "metadata": {
        "id": "ugtsaDtMQxox"
      },
      "source": [
        "clustering = AgglomerativeClustering().fit(veclist_mini)"
      ],
      "execution_count": 31,
      "outputs": []
    },
    {
      "cell_type": "code",
      "metadata": {
        "id": "R7ZrzOQOAGhd",
        "outputId": "579557f7-3f91-4a3a-c080-418559634977",
        "colab": {
          "base_uri": "https://localhost:8080/",
          "height": 311
        }
      },
      "source": [
        "dendrogram(linkage(clustering))"
      ],
      "execution_count": 33,
      "outputs": [
        {
          "output_type": "error",
          "ename": "TypeError",
          "evalue": "ignored",
          "traceback": [
            "\u001b[0;31m---------------------------------------------------------------------------\u001b[0m",
            "\u001b[0;31mTypeError\u001b[0m                                 Traceback (most recent call last)",
            "\u001b[0;32m<ipython-input-33-95ff071a95c6>\u001b[0m in \u001b[0;36m<module>\u001b[0;34m()\u001b[0m\n\u001b[0;32m----> 1\u001b[0;31m \u001b[0mdendrogram\u001b[0m\u001b[0;34m(\u001b[0m\u001b[0mlinkage\u001b[0m\u001b[0;34m(\u001b[0m\u001b[0mclustering\u001b[0m\u001b[0;34m)\u001b[0m\u001b[0;34m)\u001b[0m\u001b[0;34m\u001b[0m\u001b[0;34m\u001b[0m\u001b[0m\n\u001b[0m",
            "\u001b[0;32m/usr/local/lib/python3.6/dist-packages/scipy/cluster/hierarchy.py\u001b[0m in \u001b[0;36mlinkage\u001b[0;34m(y, method, metric, optimal_ordering)\u001b[0m\n\u001b[1;32m   1040\u001b[0m         \u001b[0;32mraise\u001b[0m \u001b[0mValueError\u001b[0m\u001b[0;34m(\u001b[0m\u001b[0;34m\"Invalid method: {0}\"\u001b[0m\u001b[0;34m.\u001b[0m\u001b[0mformat\u001b[0m\u001b[0;34m(\u001b[0m\u001b[0mmethod\u001b[0m\u001b[0;34m)\u001b[0m\u001b[0;34m)\u001b[0m\u001b[0;34m\u001b[0m\u001b[0;34m\u001b[0m\u001b[0m\n\u001b[1;32m   1041\u001b[0m \u001b[0;34m\u001b[0m\u001b[0m\n\u001b[0;32m-> 1042\u001b[0;31m     \u001b[0my\u001b[0m \u001b[0;34m=\u001b[0m \u001b[0m_convert_to_double\u001b[0m\u001b[0;34m(\u001b[0m\u001b[0mnp\u001b[0m\u001b[0;34m.\u001b[0m\u001b[0masarray\u001b[0m\u001b[0;34m(\u001b[0m\u001b[0my\u001b[0m\u001b[0;34m,\u001b[0m \u001b[0morder\u001b[0m\u001b[0;34m=\u001b[0m\u001b[0;34m'c'\u001b[0m\u001b[0;34m)\u001b[0m\u001b[0;34m)\u001b[0m\u001b[0;34m\u001b[0m\u001b[0;34m\u001b[0m\u001b[0m\n\u001b[0m\u001b[1;32m   1043\u001b[0m \u001b[0;34m\u001b[0m\u001b[0m\n\u001b[1;32m   1044\u001b[0m     \u001b[0;32mif\u001b[0m \u001b[0my\u001b[0m\u001b[0;34m.\u001b[0m\u001b[0mndim\u001b[0m \u001b[0;34m==\u001b[0m \u001b[0;36m1\u001b[0m\u001b[0;34m:\u001b[0m\u001b[0;34m\u001b[0m\u001b[0;34m\u001b[0m\u001b[0m\n",
            "\u001b[0;32m/usr/local/lib/python3.6/dist-packages/scipy/cluster/hierarchy.py\u001b[0m in \u001b[0;36m_convert_to_double\u001b[0;34m(X)\u001b[0m\n\u001b[1;32m   1562\u001b[0m \u001b[0;32mdef\u001b[0m \u001b[0m_convert_to_double\u001b[0m\u001b[0;34m(\u001b[0m\u001b[0mX\u001b[0m\u001b[0;34m)\u001b[0m\u001b[0;34m:\u001b[0m\u001b[0;34m\u001b[0m\u001b[0;34m\u001b[0m\u001b[0m\n\u001b[1;32m   1563\u001b[0m     \u001b[0;32mif\u001b[0m \u001b[0mX\u001b[0m\u001b[0;34m.\u001b[0m\u001b[0mdtype\u001b[0m \u001b[0;34m!=\u001b[0m \u001b[0mnp\u001b[0m\u001b[0;34m.\u001b[0m\u001b[0mdouble\u001b[0m\u001b[0;34m:\u001b[0m\u001b[0;34m\u001b[0m\u001b[0;34m\u001b[0m\u001b[0m\n\u001b[0;32m-> 1564\u001b[0;31m         \u001b[0mX\u001b[0m \u001b[0;34m=\u001b[0m \u001b[0mX\u001b[0m\u001b[0;34m.\u001b[0m\u001b[0mastype\u001b[0m\u001b[0;34m(\u001b[0m\u001b[0mnp\u001b[0m\u001b[0;34m.\u001b[0m\u001b[0mdouble\u001b[0m\u001b[0;34m)\u001b[0m\u001b[0;34m\u001b[0m\u001b[0;34m\u001b[0m\u001b[0m\n\u001b[0m\u001b[1;32m   1565\u001b[0m     \u001b[0;32mif\u001b[0m \u001b[0;32mnot\u001b[0m \u001b[0mX\u001b[0m\u001b[0;34m.\u001b[0m\u001b[0mflags\u001b[0m\u001b[0;34m.\u001b[0m\u001b[0mcontiguous\u001b[0m\u001b[0;34m:\u001b[0m\u001b[0;34m\u001b[0m\u001b[0;34m\u001b[0m\u001b[0m\n\u001b[1;32m   1566\u001b[0m         \u001b[0mX\u001b[0m \u001b[0;34m=\u001b[0m \u001b[0mX\u001b[0m\u001b[0;34m.\u001b[0m\u001b[0mcopy\u001b[0m\u001b[0;34m(\u001b[0m\u001b[0;34m)\u001b[0m\u001b[0;34m\u001b[0m\u001b[0;34m\u001b[0m\u001b[0m\n",
            "\u001b[0;31mTypeError\u001b[0m: float() argument must be a string or a number, not 'AgglomerativeClustering'"
          ]
        }
      ]
    },
    {
      "cell_type": "code",
      "metadata": {
        "id": "ROtXsNB25kuv",
        "outputId": "a3332702-7527-42bc-d014-65680ab0efe6",
        "colab": {
          "base_uri": "https://localhost:8080/",
          "height": 619
        }
      },
      "source": [
        "plt.title('Hierarchical Clustering Dendrogram')\n",
        "# plot the top three levels of the dendrogram\n",
        "plot_dendrogram(clustering, truncate_mode='level', p=3)\n",
        "plt.xlabel(\"Number of points in node (or index of point if no parenthesis).\")\n",
        "plt.show()\n"
      ],
      "execution_count": 32,
      "outputs": [
        {
          "output_type": "error",
          "ename": "AttributeError",
          "evalue": "ignored",
          "traceback": [
            "\u001b[0;31m---------------------------------------------------------------------------\u001b[0m",
            "\u001b[0;31mAttributeError\u001b[0m                            Traceback (most recent call last)",
            "\u001b[0;32m<ipython-input-32-44548822ddf6>\u001b[0m in \u001b[0;36m<module>\u001b[0;34m()\u001b[0m\n\u001b[1;32m      1\u001b[0m \u001b[0mplt\u001b[0m\u001b[0;34m.\u001b[0m\u001b[0mtitle\u001b[0m\u001b[0;34m(\u001b[0m\u001b[0;34m'Hierarchical Clustering Dendrogram'\u001b[0m\u001b[0;34m)\u001b[0m\u001b[0;34m\u001b[0m\u001b[0;34m\u001b[0m\u001b[0m\n\u001b[1;32m      2\u001b[0m \u001b[0;31m# plot the top three levels of the dendrogram\u001b[0m\u001b[0;34m\u001b[0m\u001b[0;34m\u001b[0m\u001b[0;34m\u001b[0m\u001b[0m\n\u001b[0;32m----> 3\u001b[0;31m \u001b[0mplot_dendrogram\u001b[0m\u001b[0;34m(\u001b[0m\u001b[0mclustering\u001b[0m\u001b[0;34m,\u001b[0m \u001b[0mtruncate_mode\u001b[0m\u001b[0;34m=\u001b[0m\u001b[0;34m'level'\u001b[0m\u001b[0;34m,\u001b[0m \u001b[0mp\u001b[0m\u001b[0;34m=\u001b[0m\u001b[0;36m3\u001b[0m\u001b[0;34m)\u001b[0m\u001b[0;34m\u001b[0m\u001b[0;34m\u001b[0m\u001b[0m\n\u001b[0m\u001b[1;32m      4\u001b[0m \u001b[0mplt\u001b[0m\u001b[0;34m.\u001b[0m\u001b[0mxlabel\u001b[0m\u001b[0;34m(\u001b[0m\u001b[0;34m\"Number of points in node (or index of point if no parenthesis).\"\u001b[0m\u001b[0;34m)\u001b[0m\u001b[0;34m\u001b[0m\u001b[0;34m\u001b[0m\u001b[0m\n\u001b[1;32m      5\u001b[0m \u001b[0mplt\u001b[0m\u001b[0;34m.\u001b[0m\u001b[0mshow\u001b[0m\u001b[0;34m(\u001b[0m\u001b[0;34m)\u001b[0m\u001b[0;34m\u001b[0m\u001b[0;34m\u001b[0m\u001b[0m\n",
            "\u001b[0;32m<ipython-input-28-fa28bb1dfff9>\u001b[0m in \u001b[0;36mplot_dendrogram\u001b[0;34m(model, **kwargs)\u001b[0m\n\u001b[1;32m     14\u001b[0m         \u001b[0mcounts\u001b[0m\u001b[0;34m[\u001b[0m\u001b[0mi\u001b[0m\u001b[0;34m]\u001b[0m \u001b[0;34m=\u001b[0m \u001b[0mcurrent_count\u001b[0m\u001b[0;34m\u001b[0m\u001b[0;34m\u001b[0m\u001b[0m\n\u001b[1;32m     15\u001b[0m \u001b[0;34m\u001b[0m\u001b[0m\n\u001b[0;32m---> 16\u001b[0;31m     linkage_matrix = np.column_stack([model.children_, model.distances_,\n\u001b[0m\u001b[1;32m     17\u001b[0m                                       counts]).astype(float)\n\u001b[1;32m     18\u001b[0m \u001b[0;34m\u001b[0m\u001b[0m\n",
            "\u001b[0;31mAttributeError\u001b[0m: 'AgglomerativeClustering' object has no attribute 'distances_'"
          ]
        },
        {
          "output_type": "display_data",
          "data": {
            "image/png": "[encoded data removed]",
            "text/plain": [
              "<Figure size 432x288 with 1 Axes>"
            ]
          },
          "metadata": {
            "tags": [],
            "needs_background": "light"
          }
        }
      ]
    },
    {
      "cell_type": "code",
      "metadata": {
        "id": "TJQrjlQ-9uE5",
        "outputId": "beb3728b-4110-492d-d1d3-f79ff19a9571",
        "colab": {
          "base_uri": "https://localhost:8080/"
        }
      },
      "source": [
        "import sys\n",
        "print(sys.version)"
      ],
      "execution_count": 29,
      "outputs": [
        {
          "output_type": "stream",
          "text": [
            "3.6.9 (default, Oct  8 2020, 12:12:24) \n",
            "[GCC 8.4.0]\n"
          ],
          "name": "stdout"
        }
      ]
    },
    {
      "cell_type": "code",
      "metadata": {
        "id": "fOuNx_NG95Vq",
        "outputId": "24dfb953-8f8d-4e6b-a5b5-ebf58e19d248",
        "colab": {
          "base_uri": "https://localhost:8080/"
        }
      },
      "source": [
        "pip list scikit-learn"
      ],
      "execution_count": 23,
      "outputs": [
        {
          "output_type": "stream",
          "text": [
            "Package                       Version        \n",
            "----------------------------- ---------------\n",
            "absl-py                       0.10.0         \n",
            "alabaster                     0.7.12         \n",
            "albumentations                0.1.12         \n",
            "altair                        4.1.0          \n",
            "argon2-cffi                   20.1.0         \n",
            "asgiref                       3.3.0          \n",
            "astor                         0.8.1          \n",
            "astropy                       4.1            \n",
            "astunparse                    1.6.3          \n",
            "async-generator               1.10           \n",
            "atari-py                      0.2.6          \n",
            "atomicwrites                  1.4.0          \n",
            "attrs                         20.2.0         \n",
            "audioread                     2.1.9          \n",
            "autograd                      1.3            \n",
            "Babel                         2.8.0          \n",
            "backcall                      0.2.0          \n",
            "beautifulsoup4                4.6.3          \n",
            "bleach                        3.2.1          \n",
            "blis                          0.4.1          \n",
            "bokeh                         2.1.1          \n",
            "Bottleneck                    1.3.2          \n",
            "branca                        0.4.1          \n",
            "bs4                           0.0.1          \n",
            "CacheControl                  0.12.6         \n",
            "cachetools                    4.1.1          \n",
            "catalogue                     1.0.0          \n",
            "certifi                       2020.6.20      \n",
            "cffi                          1.14.3         \n",
            "chainer                       7.4.0          \n",
            "chardet                       3.0.4          \n",
            "click                         7.1.2          \n",
            "cloudpickle                   1.3.0          \n",
            "cmake                         3.12.0         \n",
            "cmdstanpy                     0.9.5          \n",
            "colorlover                    0.3.0          \n",
            "community                     1.0.0b1        \n",
            "contextlib2                   0.5.5          \n",
            "convertdate                   2.2.2          \n",
            "coverage                      3.7.1          \n",
            "coveralls                     0.5            \n",
            "crcmod                        1.7            \n",
            "cufflinks                     0.17.3         \n",
            "cvxopt                        1.2.5          \n",
            "cvxpy                         1.0.31         \n",
            "cycler                        0.10.0         \n",
            "cymem                         2.0.4          \n",
            "Cython                        0.29.21        \n",
            "daft                          0.0.4          \n",
            "dask                          2.12.0         \n",
            "dataclasses                   0.7            \n",
            "datascience                   0.10.6         \n",
            "debugpy                       1.0.0          \n",
            "decorator                     4.4.2          \n",
            "defusedxml                    0.6.0          \n",
            "descartes                     1.1.0          \n",
            "dill                          0.3.3          \n",
            "distributed                   1.25.3         \n",
            "Django                        3.1.3          \n",
            "dlib                          19.18.0        \n",
            "dm-tree                       0.1.5          \n",
            "docopt                        0.6.2          \n",
            "docutils                      0.16           \n",
            "dopamine-rl                   1.0.5          \n",
            "earthengine-api               0.1.238        \n",
            "easydict                      1.9            \n",
            "ecos                          2.0.7.post1    \n",
            "editdistance                  0.5.3          \n",
            "en-core-web-sm                2.2.5          \n",
            "entrypoints                   0.3            \n",
            "ephem                         3.7.7.1        \n",
            "et-xmlfile                    1.0.1          \n",
            "fa2                           0.3.5          \n",
            "fancyimpute                   0.4.3          \n",
            "fastai                        1.0.61         \n",
            "fastdtw                       0.3.4          \n",
            "fastprogress                  1.0.0          \n",
            "fastrlock                     0.5            \n",
            "fbprophet                     0.7.1          \n",
            "feather-format                0.4.1          \n",
            "filelock                      3.0.12         \n",
            "firebase-admin                4.4.0          \n",
            "fix-yahoo-finance             0.0.22         \n",
            "Flask                         1.1.2          \n",
            "folium                        0.8.3          \n",
            "future                        0.16.0         \n",
            "gast                          0.3.3          \n",
            "GDAL                          2.2.2          \n",
            "gdown                         3.6.4          \n",
            "gensim                        3.6.0          \n",
            "geographiclib                 1.50           \n",
            "geopy                         1.17.0         \n",
            "gin-config                    0.3.0          \n",
            "glob2                         0.7            \n",
            "google                        2.0.3          \n",
            "google-api-core               1.16.0         \n",
            "google-api-python-client      1.7.12         \n",
            "google-auth                   1.17.2         \n",
            "google-auth-httplib2          0.0.4          \n",
            "google-auth-oauthlib          0.4.2          \n",
            "google-cloud-bigquery         1.21.0         \n",
            "google-cloud-bigquery-storage 1.1.0          \n",
            "google-cloud-core             1.0.3          \n",
            "google-cloud-datastore        1.8.0          \n",
            "google-cloud-firestore        1.7.0          \n",
            "google-cloud-language         1.2.0          \n",
            "google-cloud-storage          1.18.1         \n",
            "google-cloud-translate        1.5.0          \n",
            "google-colab                  1.0.0          \n",
            "google-pasta                  0.2.0          \n",
            "google-resumable-media        0.4.1          \n",
            "googleapis-common-protos      1.52.0         \n",
            "googledrivedownloader         0.4            \n",
            "graphviz                      0.10.1         \n",
            "grpcio                        1.33.2         \n",
            "gspread                       3.0.1          \n",
            "gspread-dataframe             3.0.8          \n",
            "gym                           0.17.3         \n",
            "h5py                          2.10.0         \n",
            "HeapDict                      1.0.1          \n",
            "holidays                      0.10.3         \n",
            "holoviews                     1.13.5         \n",
            "html5lib                      1.0.1          \n",
            "httpimport                    0.5.18         \n",
            "httplib2                      0.17.4         \n",
            "httplib2shim                  0.0.3          \n",
            "humanize                      0.5.1          \n",
            "hyperopt                      0.1.2          \n",
            "ideep4py                      2.0.0.post3    \n",
            "idna                          2.10           \n",
            "image                         1.5.33         \n",
            "imageio                       2.4.1          \n",
            "imagesize                     1.2.0          \n",
            "imbalanced-learn              0.4.3          \n",
            "imblearn                      0.0            \n",
            "imgaug                        0.2.9          \n",
            "importlib-metadata            2.0.0          \n",
            "importlib-resources           3.3.0          \n",
            "imutils                       0.5.3          \n",
            "inflect                       2.1.0          \n",
            "iniconfig                     1.1.1          \n",
            "intel-openmp                  2020.0.133     \n",
            "intervaltree                  2.1.0          \n",
            "ipykernel                     4.10.1         \n",
            "ipython                       5.5.0          \n",
            "ipython-genutils              0.2.0          \n",
            "ipython-sql                   0.3.9          \n",
            "ipywidgets                    7.5.1          \n",
            "itsdangerous                  1.1.0          \n",
            "jax                           0.2.4          \n",
            "jaxlib                        0.1.56+cuda101 \n",
            "jdcal                         1.4.1          \n",
            "jedi                          0.17.2         \n",
            "jieba                         0.42.1         \n",
            "Jinja2                        2.11.2         \n",
            "joblib                        0.17.0         \n",
            "jpeg4py                       0.1.4          \n",
            "jsonschema                    2.6.0          \n",
            "jupyter                       1.0.0          \n",
            "jupyter-client                5.3.5          \n",
            "jupyter-console               5.2.0          \n",
            "jupyter-core                  4.6.3          \n",
            "jupyterlab-pygments           0.1.2          \n",
            "kaggle                        1.5.9          \n",
            "kapre                         0.1.3.1        \n",
            "Keras                         2.4.3          \n",
            "Keras-Preprocessing           1.1.2          \n",
            "keras-vis                     0.4.1          \n",
            "kiwisolver                    1.3.1          \n",
            "knnimpute                     0.1.0          \n",
            "korean-lunar-calendar         0.2.1          \n",
            "librosa                       0.6.3          \n",
            "lightgbm                      2.2.3          \n",
            "llvmlite                      0.31.0         \n",
            "lmdb                          0.99           \n",
            "lucid                         0.3.8          \n",
            "LunarCalendar                 0.0.9          \n",
            "lxml                          4.2.6          \n",
            "Markdown                      3.3.3          \n",
            "MarkupSafe                    1.1.1          \n",
            "matplotlib                    3.2.2          \n",
            "matplotlib-venn               0.11.6         \n",
            "missingno                     0.4.2          \n",
            "mistune                       0.8.4          \n",
            "mizani                        0.6.0          \n",
            "mkl                           2019.0         \n",
            "mlxtend                       0.14.0         \n",
            "more-itertools                8.6.0          \n",
            "moviepy                       0.2.3.5        \n",
            "mpmath                        1.1.0          \n",
            "msgpack                       1.0.0          \n",
            "multiprocess                  0.70.10        \n",
            "multitasking                  0.0.9          \n",
            "murmurhash                    1.0.3          \n",
            "music21                       5.5.0          \n",
            "natsort                       5.5.0          \n",
            "nbclient                      0.5.1          \n",
            "nbconvert                     5.6.1          \n",
            "nbformat                      5.0.8          \n",
            "nest-asyncio                  1.4.2          \n",
            "networkx                      2.5            \n",
            "nibabel                       3.0.2          \n",
            "nltk                          3.2.5          \n",
            "notebook                      5.3.1          \n",
            "np-utils                      0.5.12.1       \n",
            "numba                         0.48.0         \n",
            "numexpr                       2.7.1          \n",
            "numpy                         1.18.5         \n",
            "nvidia-ml-py3                 7.352.0        \n",
            "oauth2client                  4.1.3          \n",
            "oauthlib                      3.1.0          \n",
            "okgrade                       0.4.3          \n",
            "opencv-contrib-python         4.1.2.30       \n",
            "opencv-python                 4.1.2.30       \n",
            "openpyxl                      2.5.9          \n",
            "opt-einsum                    3.3.0          \n",
            "osqp                          0.6.1          \n",
            "packaging                     20.4           \n",
            "palettable                    3.3.0          \n",
            "pandas                        1.1.4          \n",
            "pandas-datareader             0.9.0          \n",
            "pandas-gbq                    0.13.3         \n",
            "pandas-profiling              1.4.1          \n",
            "pandocfilters                 1.4.3          \n",
            "panel                         0.9.7          \n",
            "param                         1.10.0         \n",
            "parso                         0.7.1          \n",
            "pathlib                       1.0.1          \n",
            "patsy                         0.5.1          \n",
            "pexpect                       4.8.0          \n",
            "pickleshare                   0.7.5          \n",
            "Pillow                        7.0.0          \n",
            "pip                           19.3.1         \n",
            "pip-tools                     4.5.1          \n",
            "plac                          1.1.3          \n",
            "plotly                        4.4.1          \n",
            "plotnine                      0.6.0          \n",
            "pluggy                        0.7.1          \n",
            "portpicker                    1.3.1          \n",
            "prefetch-generator            1.0.1          \n",
            "preshed                       3.0.2          \n",
            "prettytable                   1.0.1          \n",
            "progressbar2                  3.38.0         \n",
            "prometheus-client             0.8.0          \n",
            "promise                       2.3            \n",
            "prompt-toolkit                1.0.18         \n",
            "protobuf                      3.12.4         \n",
            "psutil                        5.4.8          \n",
            "psycopg2                      2.7.6.1        \n",
            "ptyprocess                    0.6.0          \n",
            "py                            1.9.0          \n",
            "pyarrow                       0.14.1         \n",
            "pyasn1                        0.4.8          \n",
            "pyasn1-modules                0.2.8          \n",
            "pycocotools                   2.0.2          \n",
            "pycparser                     2.20           \n",
            "pyct                          0.4.8          \n",
            "pydata-google-auth            1.1.0          \n",
            "pydot                         1.3.0          \n",
            "pydot-ng                      2.0.0          \n",
            "pydotplus                     2.0.2          \n",
            "PyDrive                       1.3.1          \n",
            "pyemd                         0.5.1          \n",
            "pyglet                        1.5.0          \n",
            "Pygments                      2.6.1          \n",
            "pygobject                     3.26.1         \n",
            "pymc3                         3.7            \n",
            "PyMeeus                       0.3.7          \n",
            "pymongo                       3.11.0         \n",
            "pymystem3                     0.2.0          \n",
            "PyOpenGL                      3.1.5          \n",
            "pyparsing                     2.4.7          \n",
            "pyrsistent                    0.17.3         \n",
            "pysndfile                     1.3.8          \n",
            "PySocks                       1.7.1          \n",
            "pystan                        2.19.1.1       \n",
            "pytest                        3.6.4          \n",
            "python-apt                    1.6.5+ubuntu0.3\n",
            "python-chess                  0.23.11        \n",
            "python-dateutil               2.8.1          \n",
            "python-louvain                0.14           \n",
            "python-slugify                4.0.1          \n",
            "python-utils                  2.4.0          \n",
            "pytz                          2018.9         \n",
            "pyviz-comms                   0.7.6          \n",
            "PyWavelets                    1.1.1          \n",
            "PyYAML                        3.13           \n",
            "pyzmq                         19.0.2         \n",
            "qtconsole                     4.7.7          \n",
            "QtPy                          1.9.0          \n",
            "regex                         2019.12.20     \n",
            "requests                      2.23.0         \n",
            "requests-oauthlib             1.3.0          \n",
            "resampy                       0.2.2          \n",
            "retrying                      1.3.3          \n",
            "rpy2                          3.2.7          \n",
            "rsa                           4.6            \n",
            "sacremoses                    0.0.43         \n",
            "scikit-image                  0.16.2         \n",
            "scikit-learn                  0.23.2         \n",
            "scipy                         1.4.1          \n",
            "screen-resolution-extra       0.0.0          \n",
            "scs                           2.1.2          \n",
            "seaborn                       0.11.0         \n",
            "Send2Trash                    1.5.0          \n",
            "sentencepiece                 0.1.91         \n",
            "setuptools                    50.3.2         \n",
            "setuptools-git                1.2            \n",
            "Shapely                       1.7.1          \n",
            "simplegeneric                 0.8.1          \n",
            "six                           1.15.0         \n",
            "sklearn                       0.0            \n",
            "sklearn-pandas                1.8.0          \n",
            "slugify                       0.0.1          \n",
            "smart-open                    3.0.0          \n",
            "snowballstemmer               2.0.0          \n",
            "sortedcontainers              2.2.2          \n",
            "spacy                         2.2.4          \n",
            "Sphinx                        1.8.5          \n",
            "sphinxcontrib-serializinghtml 1.1.4          \n",
            "sphinxcontrib-websupport      1.2.4          \n",
            "SQLAlchemy                    1.3.20         \n",
            "sqlparse                      0.4.1          \n",
            "srsly                         1.0.2          \n",
            "statsmodels                   0.10.2         \n",
            "sympy                         1.1.1          \n",
            "tables                        3.4.4          \n",
            "tabulate                      0.8.7          \n",
            "tblib                         1.7.0          \n",
            "tensorboard                   2.3.0          \n",
            "tensorboard-plugin-wit        1.7.0          \n",
            "tensorboardcolab              0.0.22         \n",
            "tensorflow                    2.3.0          \n",
            "tensorflow-addons             0.8.3          \n",
            "tensorflow-datasets           4.0.1          \n",
            "tensorflow-estimator          2.3.0          \n",
            "tensorflow-gcs-config         2.3.0          \n",
            "tensorflow-hub                0.10.0         \n",
            "tensorflow-metadata           0.24.0         \n",
            "tensorflow-privacy            0.2.2          \n",
            "tensorflow-probability        0.11.0         \n",
            "termcolor                     1.1.0          \n",
            "terminado                     0.9.1          \n",
            "testpath                      0.4.4          \n",
            "text-unidecode                1.3            \n",
            "textblob                      0.15.3         \n",
            "textgenrnn                    1.4.1          \n",
            "Theano                        1.0.5          \n",
            "thinc                         7.4.0          \n",
            "threadpoolctl                 2.1.0          \n",
            "tifffile                      2020.9.3       \n",
            "tokenizers                    0.9.3          \n",
            "toml                          0.10.2         \n",
            "toolz                         0.11.1         \n",
            "torch                         1.7.0+cu101    \n",
            "torchsummary                  1.5.1          \n",
            "torchtext                     0.3.1          \n",
            "torchvision                   0.8.1+cu101    \n",
            "tornado                       5.1.1          \n",
            "tqdm                          4.41.1         \n",
            "traitlets                     4.3.3          \n",
            "transformers                  3.5.0          \n",
            "tweepy                        3.6.0          \n",
            "typeguard                     2.7.1          \n",
            "typing-extensions             3.7.4.3        \n",
            "tzlocal                       1.5.1          \n",
            "umap-learn                    0.4.6          \n",
            "uritemplate                   3.0.1          \n",
            "urllib3                       1.24.3         \n",
            "vega-datasets                 0.8.0          \n",
            "wasabi                        0.8.0          \n",
            "wcwidth                       0.2.5          \n",
            "webencodings                  0.5.1          \n",
            "Werkzeug                      1.0.1          \n",
            "wheel                         0.35.1         \n",
            "widgetsnbextension            3.5.1          \n",
            "wordcloud                     1.5.0          \n",
            "wrapt                         1.12.1         \n",
            "xarray                        0.15.1         \n",
            "xgboost                       0.90           \n",
            "xkit                          0.0.0          \n",
            "xlrd                          1.1.0          \n",
            "xlwt                          1.3.0          \n",
            "yellowbrick                   0.9.1          \n",
            "zict                          2.0.0          \n",
            "zipp                          3.4.0          \n"
          ],
          "name": "stdout"
        }
      ]
    },
    {
      "cell_type": "code",
      "metadata": {
        "id": "OS1KiwHWY8Nc",
        "outputId": "aa218a31-6348-4d80-f2df-b6504715a31a",
        "colab": {
          "base_uri": "https://localhost:8080/"
        }
      },
      "source": [
        "clustering"
      ],
      "execution_count": 81,
      "outputs": [
        {
          "output_type": "execute_result",
          "data": {
            "text/plain": [
              "AgglomerativeClustering(affinity='euclidean', compute_full_tree='auto',\n",
              "                        connectivity=None, distance_threshold=None,\n",
              "                        linkage='ward', memory=None, n_clusters=2)"
            ]
          },
          "metadata": {
            "tags": []
          },
          "execution_count": 81
        }
      ]
    },
    {
      "cell_type": "code",
      "metadata": {
        "id": "P1suoMGyZIUO",
        "outputId": "4086bbfe-c2dc-4afe-bae2-f5fdc39cf38f",
        "colab": {
          "base_uri": "https://localhost:8080/"
        }
      },
      "source": [
        "clustering.labels_"
      ],
      "execution_count": 82,
      "outputs": [
        {
          "output_type": "execute_result",
          "data": {
            "text/plain": [
              "array([1, 1, 1, ..., 0, 0, 0])"
            ]
          },
          "metadata": {
            "tags": []
          },
          "execution_count": 82
        }
      ]
    },
    {
      "cell_type": "code",
      "metadata": {
        "id": "GRVfWphQhh-z",
        "outputId": "38c30dc3-b09d-4dbc-d6f9-7d5db0e99b9e",
        "colab": {
          "base_uri": "https://localhost:8080/"
        }
      },
      "source": [
        "cosin_sim(t, veclist[25249])"
      ],
      "execution_count": 44,
      "outputs": [
        {
          "output_type": "execute_result",
          "data": {
            "text/plain": [
              "0.7661352"
            ]
          },
          "metadata": {
            "tags": []
          },
          "execution_count": 44
        }
      ]
    },
    {
      "cell_type": "code",
      "metadata": {
        "id": "Rjiputexgwy6",
        "outputId": "08056437-5bca-44db-f899-45352aed475b",
        "colab": {
          "base_uri": "https://localhost:8080/"
        }
      },
      "source": [
        "simlist[1000:1010]"
      ],
      "execution_count": 39,
      "outputs": [
        {
          "output_type": "execute_result",
          "data": {
            "text/plain": [
              "array([0.07523131, 0.3404316 , 0.40461662, 0.31408155, 0.28544664,\n",
              "       0.0578075 , 0.11336189, 0.11387689, 0.2499617 , 0.34887826])"
            ]
          },
          "metadata": {
            "tags": []
          },
          "execution_count": 39
        }
      ]
    },
    {
      "cell_type": "code",
      "metadata": {
        "id": "fwsq--F8diP5",
        "outputId": "96c912c0-710a-4cd0-9d32-bf551fcb60fa",
        "colab": {
          "base_uri": "https://localhost:8080/",
          "height": 396
        }
      },
      "source": [
        "t = get_vec('iphone')\n",
        "x = [0,2]\n",
        "s = veclist[x]\n",
        "\n",
        "(lambda x : cosin_sim(t, veclist[x]))(x)\n",
        "\n"
      ],
      "execution_count": 33,
      "outputs": [
        {
          "output_type": "error",
          "ename": "ValueError",
          "evalue": "ignored",
          "traceback": [
            "\u001b[0;31m---------------------------------------------------------------------------\u001b[0m",
            "\u001b[0;31mValueError\u001b[0m                                Traceback (most recent call last)",
            "\u001b[0;32m<ipython-input-33-439d21bebc9c>\u001b[0m in \u001b[0;36m<module>\u001b[0;34m()\u001b[0m\n\u001b[1;32m      3\u001b[0m \u001b[0ms\u001b[0m \u001b[0;34m=\u001b[0m \u001b[0mveclist\u001b[0m\u001b[0;34m[\u001b[0m\u001b[0mx\u001b[0m\u001b[0;34m]\u001b[0m\u001b[0;34m\u001b[0m\u001b[0;34m\u001b[0m\u001b[0m\n\u001b[1;32m      4\u001b[0m \u001b[0;34m\u001b[0m\u001b[0m\n\u001b[0;32m----> 5\u001b[0;31m \u001b[0;34m(\u001b[0m\u001b[0;32mlambda\u001b[0m \u001b[0mx\u001b[0m \u001b[0;34m:\u001b[0m \u001b[0mcosin_sim\u001b[0m\u001b[0;34m(\u001b[0m\u001b[0mt\u001b[0m\u001b[0;34m,\u001b[0m \u001b[0mveclist\u001b[0m\u001b[0;34m[\u001b[0m\u001b[0mx\u001b[0m\u001b[0;34m]\u001b[0m\u001b[0;34m)\u001b[0m\u001b[0;34m)\u001b[0m\u001b[0;34m(\u001b[0m\u001b[0mx\u001b[0m\u001b[0;34m)\u001b[0m\u001b[0;34m\u001b[0m\u001b[0;34m\u001b[0m\u001b[0m\n\u001b[0m\u001b[1;32m      6\u001b[0m \u001b[0;34m\u001b[0m\u001b[0m\n\u001b[1;32m      7\u001b[0m \u001b[0;34m\u001b[0m\u001b[0m\n",
            "\u001b[0;32m<ipython-input-33-439d21bebc9c>\u001b[0m in \u001b[0;36m<lambda>\u001b[0;34m(x)\u001b[0m\n\u001b[1;32m      3\u001b[0m \u001b[0ms\u001b[0m \u001b[0;34m=\u001b[0m \u001b[0mveclist\u001b[0m\u001b[0;34m[\u001b[0m\u001b[0mx\u001b[0m\u001b[0;34m]\u001b[0m\u001b[0;34m\u001b[0m\u001b[0;34m\u001b[0m\u001b[0m\n\u001b[1;32m      4\u001b[0m \u001b[0;34m\u001b[0m\u001b[0m\n\u001b[0;32m----> 5\u001b[0;31m \u001b[0;34m(\u001b[0m\u001b[0;32mlambda\u001b[0m \u001b[0mx\u001b[0m \u001b[0;34m:\u001b[0m \u001b[0mcosin_sim\u001b[0m\u001b[0;34m(\u001b[0m\u001b[0mt\u001b[0m\u001b[0;34m,\u001b[0m \u001b[0mveclist\u001b[0m\u001b[0;34m[\u001b[0m\u001b[0mx\u001b[0m\u001b[0;34m]\u001b[0m\u001b[0;34m)\u001b[0m\u001b[0;34m)\u001b[0m\u001b[0;34m(\u001b[0m\u001b[0mx\u001b[0m\u001b[0;34m)\u001b[0m\u001b[0;34m\u001b[0m\u001b[0;34m\u001b[0m\u001b[0m\n\u001b[0m\u001b[1;32m      6\u001b[0m \u001b[0;34m\u001b[0m\u001b[0m\n\u001b[1;32m      7\u001b[0m \u001b[0;34m\u001b[0m\u001b[0m\n",
            "\u001b[0;32m<ipython-input-18-33af3c3da1e5>\u001b[0m in \u001b[0;36mcosin_sim\u001b[0;34m(x, y)\u001b[0m\n\u001b[1;32m      1\u001b[0m \u001b[0;32mdef\u001b[0m \u001b[0mcosin_sim\u001b[0m\u001b[0;34m(\u001b[0m\u001b[0mx\u001b[0m\u001b[0;34m,\u001b[0m \u001b[0my\u001b[0m\u001b[0;34m)\u001b[0m\u001b[0;34m:\u001b[0m\u001b[0;34m\u001b[0m\u001b[0;34m\u001b[0m\u001b[0m\n\u001b[1;32m      2\u001b[0m   \u001b[0;32mimport\u001b[0m \u001b[0mnumpy\u001b[0m \u001b[0;32mas\u001b[0m \u001b[0mnp\u001b[0m\u001b[0;34m\u001b[0m\u001b[0;34m\u001b[0m\u001b[0m\n\u001b[0;32m----> 3\u001b[0;31m   \u001b[0md\u001b[0m \u001b[0;34m=\u001b[0m \u001b[0mnp\u001b[0m\u001b[0;34m.\u001b[0m\u001b[0mdot\u001b[0m\u001b[0;34m(\u001b[0m\u001b[0mx\u001b[0m\u001b[0;34m,\u001b[0m \u001b[0my\u001b[0m\u001b[0;34m)\u001b[0m\u001b[0;34m/\u001b[0m\u001b[0mnp\u001b[0m\u001b[0;34m.\u001b[0m\u001b[0mlinalg\u001b[0m\u001b[0;34m.\u001b[0m\u001b[0mnorm\u001b[0m\u001b[0;34m(\u001b[0m\u001b[0;34m(\u001b[0m\u001b[0mx\u001b[0m\u001b[0;34m)\u001b[0m\u001b[0;34m*\u001b[0m\u001b[0mnp\u001b[0m\u001b[0;34m.\u001b[0m\u001b[0mlinalg\u001b[0m\u001b[0;34m.\u001b[0m\u001b[0mnorm\u001b[0m\u001b[0;34m(\u001b[0m\u001b[0my\u001b[0m\u001b[0;34m)\u001b[0m\u001b[0;34m)\u001b[0m\u001b[0;34m\u001b[0m\u001b[0;34m\u001b[0m\u001b[0m\n\u001b[0m\u001b[1;32m      4\u001b[0m   \u001b[0;32mreturn\u001b[0m \u001b[0md\u001b[0m\u001b[0;34m\u001b[0m\u001b[0;34m\u001b[0m\u001b[0m\n",
            "\u001b[0;32m<__array_function__ internals>\u001b[0m in \u001b[0;36mdot\u001b[0;34m(*args, **kwargs)\u001b[0m\n",
            "\u001b[0;31mValueError\u001b[0m: shapes (768,) and (2,768) not aligned: 768 (dim 0) != 2 (dim 0)"
          ]
        }
      ]
    },
    {
      "cell_type": "code",
      "metadata": {
        "id": "hIO9rUKOMSeQ",
        "outputId": "31388de1-908c-42ad-f927-a1c197561493",
        "colab": {
          "base_uri": "https://localhost:8080/"
        }
      },
      "source": [
        "x = get_vec('japan')\n",
        "y = get_vec('computer')\n",
        "\n",
        "cosin_sim(x, y)"
      ],
      "execution_count": 61,
      "outputs": [
        {
          "output_type": "execute_result",
          "data": {
            "text/plain": [
              "0.3000526"
            ]
          },
          "metadata": {
            "tags": []
          },
          "execution_count": 61
        }
      ]
    },
    {
      "cell_type": "code",
      "metadata": {
        "id": "sAOLUHNQX3r5",
        "outputId": "d1232a0f-d83a-41c6-ec9d-e1e2f5694eb3",
        "colab": {
          "base_uri": "https://localhost:8080/"
        }
      },
      "source": [
        "s = get_vec('king')\n",
        "cosin_sim(s, x)"
      ],
      "execution_count": 65,
      "outputs": [
        {
          "output_type": "execute_result",
          "data": {
            "text/plain": [
              "0.23477039"
            ]
          },
          "metadata": {
            "tags": []
          },
          "execution_count": 65
        }
      ]
    },
    {
      "cell_type": "code",
      "metadata": {
        "id": "wso5MAvSM8o1",
        "outputId": "5ecf9747-c2f0-4ea7-e934-6fcae8c10bef",
        "colab": {
          "base_uri": "https://localhost:8080/"
        }
      },
      "source": [
        "input = 'rich'\n",
        "s = get_vec(input)\n",
        "s_id = tokenizer.convert_tokens_to_ids(input)\n",
        "\n",
        "d = 0\n",
        "\n",
        "for i in range(len(word_embeddings)):\n",
        "  if i != s_id:\n",
        "    t = word_embeddings[i].detach().numpy()\n",
        "    c = cosin_sim(s, t)\n",
        "\n",
        "    if c > d:\n",
        "      closest = i\n",
        "      d = c\n",
        "\n",
        "closest_word = tokenizer.convert_ids_to_tokens(closest)\n",
        "print(closest)\n",
        "print(closest_word)\n",
        "print(d)\n",
        "\n"
      ],
      "execution_count": 101,
      "outputs": [
        {
          "output_type": "stream",
          "text": [
            "26108\n",
            "richer\n",
            "0.64483076\n"
          ],
          "name": "stdout"
        }
      ]
    },
    {
      "cell_type": "code",
      "metadata": {
        "id": "MNMKVYOyYm1e",
        "outputId": "13ea51f0-2f05-4973-fba8-7e9b40ece0a1",
        "colab": {
          "base_uri": "https://localhost:8080/"
        }
      },
      "source": [
        "print(closest)"
      ],
      "execution_count": 71,
      "outputs": [
        {
          "output_type": "stream",
          "text": [
            "30521\n"
          ],
          "name": "stdout"
        }
      ]
    },
    {
      "cell_type": "code",
      "metadata": {
        "id": "_A1IfIkwYFUA",
        "outputId": "e57f1f86-5258-48b1-8c70-e6d7f73cfc6f",
        "colab": {
          "base_uri": "https://localhost:8080/"
        }
      },
      "source": [
        "t = word_embeddings[30521].detach().numpy()\n",
        "cosin_sim(s, t)"
      ],
      "execution_count": 72,
      "outputs": [
        {
          "output_type": "execute_result",
          "data": {
            "text/plain": [
              "0.20063965"
            ]
          },
          "metadata": {
            "tags": []
          },
          "execution_count": 72
        }
      ]
    },
    {
      "cell_type": "code",
      "metadata": {
        "id": "Xw2uUYZ1KxNi",
        "outputId": "09e398af-815f-4774-c9c6-2da4a61c5b28",
        "colab": {
          "base_uri": "https://localhost:8080/"
        }
      },
      "source": [
        "word_embeddings[idx]"
      ],
      "execution_count": 20,
      "outputs": [
        {
          "output_type": "execute_result",
          "data": {
            "text/plain": [
              "tensor([ 1.0459e-02, -4.1597e-02, -2.8762e-02, -2.1271e-03, -3.6137e-02,\n",
              "        -5.9453e-02, -1.8821e-02, -5.3518e-02, -4.5944e-02, -1.0334e-01,\n",
              "        -2.6336e-02, -3.7564e-02,  4.7280e-05, -4.1316e-02,  1.1089e-03,\n",
              "        -3.4041e-02,  3.6455e-03, -4.3182e-03,  4.5244e-02, -3.2792e-03,\n",
              "        -2.9757e-02, -1.2348e-02,  2.7182e-02,  1.8084e-02, -8.3842e-03,\n",
              "        -4.1677e-02,  1.1041e-02,  3.2859e-03,  2.8347e-02, -1.0402e-02,\n",
              "         5.0695e-02, -5.3480e-02, -3.2858e-02, -2.4704e-02, -4.6392e-03,\n",
              "        -9.3113e-03,  3.9658e-02,  1.9593e-02, -3.8411e-03, -2.7013e-02,\n",
              "        -4.1830e-02, -3.2505e-02,  4.3060e-02, -3.7079e-02, -4.0751e-02,\n",
              "         2.2578e-02, -4.2186e-02, -9.9416e-03,  1.2697e-02,  4.2084e-02,\n",
              "         1.2595e-02, -1.4879e-02, -7.6563e-02,  4.5787e-03,  2.0950e-03,\n",
              "        -4.4385e-02,  4.1950e-02,  2.3039e-02, -1.2759e-02,  7.6823e-03,\n",
              "        -1.9078e-02, -2.7273e-02, -1.5740e-02, -2.0539e-03, -4.4950e-02,\n",
              "         1.5379e-03, -7.2257e-02, -1.5909e-02, -6.5425e-02,  4.9554e-02,\n",
              "        -3.5472e-02, -1.2628e-02,  3.1926e-02, -2.4139e-02, -1.5157e-02,\n",
              "        -4.8784e-02, -8.5686e-02, -3.7872e-02, -9.5174e-03,  1.1247e-02,\n",
              "        -1.2594e-02,  1.2697e-02, -3.4450e-02, -6.3894e-02,  3.5281e-02,\n",
              "        -4.5883e-03, -7.8935e-03, -3.3036e-02,  2.1711e-02, -2.8051e-02,\n",
              "        -4.2020e-02, -8.7011e-05, -7.0075e-02,  2.0370e-02, -3.3645e-02,\n",
              "         2.3697e-02, -6.2941e-02,  4.4905e-03, -1.0380e-01, -7.3366e-02,\n",
              "        -2.8947e-02, -2.2667e-02,  5.8428e-02, -3.5869e-02, -5.7998e-02,\n",
              "        -3.2016e-02, -2.5117e-02,  5.3761e-02, -2.5128e-02, -4.0612e-02,\n",
              "        -3.6502e-02, -2.4345e-02, -1.1799e-02, -2.0798e-04, -4.7232e-03,\n",
              "         2.3468e-02, -2.3602e-02, -1.6630e-02, -5.4414e-02, -7.1836e-03,\n",
              "        -3.0187e-02, -5.8401e-02, -2.3589e-02, -8.7875e-03, -2.9837e-02,\n",
              "        -2.4076e-02, -1.7733e-02, -4.6865e-02, -6.1312e-02, -2.3683e-02,\n",
              "        -2.6579e-02, -2.5596e-02, -4.7757e-02, -3.1610e-02, -1.7696e-02,\n",
              "         3.2304e-02, -5.9099e-02, -6.9047e-02, -2.3070e-02, -6.6818e-02,\n",
              "         5.8574e-03, -5.0636e-02, -1.9356e-02, -1.5519e-02,  2.2170e-02,\n",
              "        -2.3581e-02, -3.7863e-02,  1.0190e-02, -2.5994e-02, -2.9972e-02,\n",
              "        -3.2804e-02, -5.0433e-02, -4.9021e-02,  5.1193e-02,  8.8829e-03,\n",
              "         2.5553e-02, -1.8740e-02, -9.1707e-03, -1.9579e-02, -5.6329e-02,\n",
              "        -2.3947e-02,  4.6057e-02, -9.3675e-03, -3.0651e-02,  2.7125e-02,\n",
              "         3.0825e-03, -4.9288e-02,  2.3348e-02, -5.1051e-02, -2.7429e-02,\n",
              "        -5.0670e-02, -3.3615e-02,  2.9574e-02, -1.4709e-02, -5.5446e-02,\n",
              "        -5.6711e-02, -2.0882e-02, -1.0508e-02,  9.9718e-03,  5.1591e-02,\n",
              "         3.8004e-02,  1.8286e-02, -3.9855e-02, -4.8128e-02,  1.6508e-02,\n",
              "        -2.4221e-02,  4.3792e-02, -1.6662e-02, -1.3543e-02, -4.5097e-03,\n",
              "         2.8792e-02,  1.4369e-02, -7.7532e-03, -6.3955e-02, -2.8331e-02,\n",
              "         1.9743e-02,  6.9429e-04,  1.1613e-02, -4.6884e-02, -5.4928e-02,\n",
              "        -5.2896e-02, -3.3618e-02, -4.8052e-03, -2.9437e-02, -1.9712e-03,\n",
              "        -7.5650e-02, -2.5732e-02,  3.0878e-02, -2.7302e-02,  2.0488e-03,\n",
              "        -1.3973e-02, -3.3692e-02, -1.9971e-02, -1.4252e-03,  2.6456e-03,\n",
              "        -4.0205e-02, -9.6073e-02,  1.0101e-02, -1.5338e-02, -1.1037e-02,\n",
              "         1.2578e-03,  2.2669e-03, -6.3916e-04, -5.5865e-02, -1.1270e-03,\n",
              "        -2.6105e-02, -1.1691e-02, -2.0322e-03,  1.4439e-02,  7.6200e-03,\n",
              "        -3.9647e-02, -7.1274e-03, -1.8339e-02, -7.2246e-02, -9.7807e-02,\n",
              "        -4.1719e-02, -1.8443e-03,  1.5583e-02, -2.4361e-02, -5.3969e-02,\n",
              "        -5.1871e-02,  7.2742e-03, -6.4429e-02,  1.2816e-03, -9.1993e-03,\n",
              "        -3.3850e-02, -5.1348e-02,  1.8839e-02, -4.2651e-02, -2.8386e-02,\n",
              "        -5.3258e-02, -1.7725e-02, -8.0669e-03,  1.9541e-02, -2.6535e-02,\n",
              "         1.0498e-02,  2.4657e-02,  2.0929e-03, -4.5797e-02, -1.7559e-02,\n",
              "        -3.3989e-02,  1.5018e-02,  1.5318e-02,  2.2691e-02, -3.6558e-02,\n",
              "        -3.3865e-02,  1.9162e-02,  2.7253e-02, -4.7840e-02,  1.1039e-03,\n",
              "        -3.9843e-02,  9.6458e-03, -6.5961e-02,  8.6431e-03, -3.6292e-02,\n",
              "        -1.9068e-02, -2.4075e-03, -2.1153e-02, -2.8825e-02, -4.6176e-02,\n",
              "         1.2804e-02, -1.1549e-02,  1.3371e-02, -7.6636e-02,  2.2043e-03,\n",
              "        -1.5887e-02, -2.2912e-02, -8.2335e-03, -9.7846e-03,  7.0454e-03,\n",
              "        -5.4370e-02, -6.3039e-02, -5.0383e-02, -3.9434e-02,  3.9950e-02,\n",
              "        -5.4171e-02, -9.2447e-02, -5.3680e-05,  1.5999e-02, -2.5659e-02,\n",
              "        -3.6785e-02,  5.4571e-03,  8.4155e-03, -3.8455e-02, -9.5193e-03,\n",
              "         2.0989e-02, -3.8551e-02,  2.6783e-02, -1.6604e-02,  4.2617e-02,\n",
              "        -3.3771e-02,  2.4760e-03,  2.3308e-03, -3.4400e-03,  2.6737e-02,\n",
              "        -8.5524e-03, -9.4483e-03,  1.7321e-02, -2.9530e-04, -4.5413e-02,\n",
              "        -3.9504e-02, -2.8977e-02,  3.9631e-02, -2.1032e-02, -2.9733e-02,\n",
              "         6.8274e-03,  5.3223e-02, -2.3768e-02,  1.7247e-02, -1.9810e-03,\n",
              "        -2.1439e-02, -3.5486e-02, -4.8375e-02,  8.3230e-03, -2.6426e-02,\n",
              "         3.6726e-03, -1.0833e-01,  2.6019e-02,  2.6439e-02, -1.3632e-02,\n",
              "        -6.8690e-03, -7.5747e-02, -9.8991e-03,  7.1077e-02, -1.4088e-02,\n",
              "        -2.4251e-02, -6.1581e-03, -2.0529e-02, -1.0059e-02, -3.7276e-02,\n",
              "        -2.2358e-02, -2.6767e-02, -1.0732e-02, -6.5854e-02, -3.2492e-02,\n",
              "        -6.8783e-03, -6.9382e-02, -5.1469e-03, -5.7378e-02, -5.5604e-02,\n",
              "        -1.4073e-02, -3.2670e-02, -1.7230e-02,  2.8226e-02, -7.1816e-03,\n",
              "         2.8660e-02, -1.9673e-02,  2.0532e-02, -5.4787e-02, -1.3622e-02,\n",
              "        -8.8367e-03,  1.6756e-03, -1.3373e-02, -7.0731e-02,  2.9003e-02,\n",
              "         2.4879e-02, -6.4522e-02, -2.2256e-03, -3.5973e-02, -2.8168e-03,\n",
              "        -5.9587e-02, -8.7826e-02, -5.9241e-02, -6.1403e-02, -1.6374e-02,\n",
              "         4.4662e-02,  7.7099e-03,  7.8536e-03,  2.2876e-02, -9.0618e-03,\n",
              "        -8.2982e-03, -3.4148e-02,  1.6875e-02, -4.3365e-02, -8.6904e-02,\n",
              "         2.8379e-03, -6.4763e-02,  1.0406e-02, -1.1850e-02, -3.7047e-02,\n",
              "        -5.8602e-02, -5.0251e-02, -3.5942e-02, -6.1416e-02,  3.4744e-03,\n",
              "        -4.2934e-02, -1.5873e-02, -2.2063e-02, -3.1597e-02, -3.4531e-02,\n",
              "        -5.9756e-02,  1.1422e-03, -2.2085e-02,  2.6565e-03, -3.9211e-02,\n",
              "        -9.5194e-03, -4.2229e-02,  1.9176e-02, -2.6798e-02,  1.9691e-02,\n",
              "        -3.7054e-02, -4.5509e-02, -5.2981e-02, -8.6342e-04, -1.0358e-02,\n",
              "         2.0169e-03, -4.3522e-02, -1.0483e-01, -6.9484e-02, -5.3139e-02,\n",
              "        -1.5197e-02, -4.1921e-03,  2.2355e-02,  3.1944e-02, -2.5194e-02,\n",
              "         1.5414e-02, -6.4874e-03,  5.7081e-03, -9.0080e-03,  4.3672e-02,\n",
              "        -1.5825e-02,  1.8027e-03, -2.3284e-03, -9.5157e-02, -7.2130e-03,\n",
              "        -6.3292e-02, -9.5271e-02, -2.5772e-02, -9.6315e-03,  9.1985e-03,\n",
              "         5.8906e-02, -1.3192e-02, -4.6336e-02, -3.1117e-03, -2.8897e-02,\n",
              "         5.9048e-02, -3.5750e-02,  1.2646e-02, -1.9099e-02,  2.9888e-03,\n",
              "        -1.0004e-03, -7.2238e-02, -2.7926e-02, -1.2500e-02,  3.8305e-02,\n",
              "        -1.5778e-02, -9.6547e-04, -3.0039e-03,  4.3038e-02, -1.0192e-02,\n",
              "        -3.3070e-02, -2.5934e-02, -4.9418e-02, -4.0586e-02, -6.7255e-05,\n",
              "        -2.0313e-02,  5.7548e-03, -2.1802e-02,  5.4273e-03, -2.2055e-02,\n",
              "        -1.0569e-03, -2.4257e-02, -3.2746e-02,  1.1275e-02, -2.7615e-02,\n",
              "        -6.5718e-02, -8.5071e-03, -6.0463e-03, -1.9696e-02,  4.3899e-02,\n",
              "         5.6332e-02, -3.5893e-02,  4.8497e-03, -6.0059e-02,  1.2382e-02,\n",
              "        -3.0112e-02, -3.8600e-02,  2.0572e-02, -9.9604e-02, -3.0594e-02,\n",
              "        -6.4116e-02,  9.5240e-03,  2.5823e-02, -3.1586e-02, -6.1299e-02,\n",
              "        -1.4298e-02, -1.7256e-02,  2.4483e-02, -4.3743e-02, -1.0611e-02,\n",
              "        -2.3327e-02,  5.3095e-03, -2.0140e-02, -1.4181e-02, -1.8443e-02,\n",
              "        -7.1459e-02,  3.0551e-02, -4.5762e-02, -4.5157e-02, -3.0781e-02,\n",
              "         7.5683e-03,  1.6476e-02, -4.1912e-02, -3.5171e-03, -3.5524e-02,\n",
              "        -7.6261e-03, -2.2386e-03,  3.2869e-02,  1.8840e-02, -2.8197e-02,\n",
              "        -5.1583e-02, -1.0947e-02, -5.6871e-02, -2.2005e-02,  7.3291e-02,\n",
              "        -2.0562e-02, -7.4977e-03, -3.8398e-03,  1.1612e-02,  1.1377e-02,\n",
              "        -2.6991e-02, -3.3570e-02, -1.5625e-02,  2.7844e-03, -3.0655e-02,\n",
              "        -1.3743e-02, -2.2329e-02, -2.9392e-02, -5.9043e-02, -3.1365e-02,\n",
              "         8.9018e-03,  4.6137e-02, -4.0685e-02,  4.6365e-02,  1.4727e-02,\n",
              "         3.3357e-02,  2.7671e-02,  2.4750e-02, -6.2254e-02, -1.1522e-02,\n",
              "         3.5872e-02,  4.9312e-02,  6.7789e-03, -7.1613e-03,  5.3523e-02,\n",
              "         3.3529e-02, -6.1246e-02, -3.2705e-02, -3.1982e-02, -4.0058e-02,\n",
              "        -4.6599e-05, -5.3215e-03, -8.2968e-03, -5.8741e-02, -7.4955e-02,\n",
              "        -6.1910e-02, -4.9397e-02, -2.9382e-02, -4.2623e-02, -3.9029e-02,\n",
              "        -7.6514e-02, -2.1074e-02, -3.7892e-02,  5.4405e-02, -3.7963e-02,\n",
              "         1.3053e-02, -3.6541e-02, -2.9580e-02, -2.3844e-02, -4.3804e-02,\n",
              "        -2.7468e-02, -3.9063e-02, -3.3410e-02, -1.5589e-02, -1.3464e-04,\n",
              "         3.8717e-02, -1.4411e-02, -4.7870e-02,  4.6155e-05,  9.3502e-04,\n",
              "         8.2645e-03,  3.3725e-03, -6.6491e-02, -5.8757e-04, -4.1220e-03,\n",
              "        -5.5347e-02, -4.3735e-02, -2.6920e-03, -1.4077e-02, -2.3088e-02,\n",
              "        -3.8522e-02, -6.0531e-02,  1.5375e-03,  1.8389e-02,  3.3327e-03,\n",
              "        -1.8659e-02, -2.1563e-04, -4.6455e-02,  3.1044e-02, -6.7046e-02,\n",
              "        -1.0100e-03, -2.4944e-02,  3.8225e-03, -2.9681e-02,  2.0887e-02,\n",
              "        -5.5916e-02, -1.7061e-02, -1.0512e-02, -4.1117e-02, -7.2892e-03,\n",
              "         1.4063e-03, -1.7615e-04, -1.0535e-03,  6.4312e-03, -2.5784e-02,\n",
              "         1.6400e-02,  1.1469e-02, -4.0131e-03,  4.0874e-02,  1.2606e-02,\n",
              "        -3.7140e-02,  1.5949e-02,  1.2591e-02, -1.3019e-02, -1.2757e-02,\n",
              "         1.6381e-02,  5.3451e-03,  3.0003e-02,  1.9771e-02, -5.8080e-02,\n",
              "         3.6028e-02, -3.5630e-02,  1.7172e-02, -4.1365e-02,  6.1577e-03,\n",
              "        -2.7418e-02,  5.7667e-03,  4.3729e-04, -3.3639e-02, -4.4170e-02,\n",
              "        -5.5009e-02,  2.0367e-02,  1.4065e-02,  2.8621e-02,  2.5807e-02,\n",
              "        -8.2393e-02,  4.7219e-02, -1.8146e-02, -2.4373e-02, -3.0704e-02,\n",
              "        -8.0845e-02, -5.6678e-02, -3.5647e-02, -7.1068e-03, -1.5119e-02,\n",
              "        -2.1832e-02,  1.1784e-02, -3.1730e-02,  1.4864e-02,  2.0739e-02,\n",
              "        -1.2263e-03, -4.4673e-02,  2.0828e-02, -6.8009e-03, -2.4443e-02,\n",
              "        -7.0481e-03, -1.3231e-02,  2.2843e-02,  1.5645e-02, -8.3045e-03,\n",
              "        -7.3765e-04, -9.8970e-03, -4.5556e-02,  3.2250e-02,  4.6330e-03,\n",
              "        -5.5649e-02, -3.8238e-02, -7.4412e-02,  4.0286e-02, -7.0060e-02,\n",
              "         4.3219e-03, -4.4567e-02, -7.8688e-02, -1.0498e-02, -3.8919e-02,\n",
              "         2.9196e-02, -7.9033e-02, -4.5560e-02,  1.9866e-02,  2.1984e-02,\n",
              "         4.6113e-02, -9.8450e-04, -4.0286e-02, -9.8038e-03,  3.1674e-02,\n",
              "        -8.0131e-02, -6.6508e-02, -3.3031e-02, -4.1054e-02, -2.3196e-02,\n",
              "        -1.1260e-02, -7.8300e-02,  3.5630e-03, -8.7178e-02, -1.6495e-02,\n",
              "        -1.0139e-02, -8.7561e-02,  1.2570e-02, -4.8564e-03, -7.8049e-02,\n",
              "        -3.6835e-02, -3.4978e-02, -2.0907e-02, -8.4412e-03, -3.0774e-02,\n",
              "        -3.9985e-02,  6.8684e-03,  5.7627e-03, -2.1226e-02, -6.8981e-02,\n",
              "         1.0309e-02, -2.2986e-02, -7.5581e-02, -1.2445e-02,  5.8322e-02,\n",
              "         8.1938e-03,  5.8936e-02, -2.2434e-02, -1.3803e-02,  2.0245e-02,\n",
              "         5.2057e-04,  1.4180e-02,  1.5826e-02, -7.2784e-02, -4.6840e-02,\n",
              "         1.9827e-02, -1.5883e-02, -1.2473e-02, -3.3388e-02, -6.7234e-02,\n",
              "        -6.2481e-02,  6.7745e-02, -2.3878e-02, -1.7000e-02, -2.3031e-02,\n",
              "        -5.9803e-02, -8.0030e-02, -1.9449e-02], grad_fn=<SelectBackward>)"
            ]
          },
          "metadata": {
            "tags": []
          },
          "execution_count": 20
        }
      ]
    },
    {
      "cell_type": "code",
      "metadata": {
        "id": "y2TPUDRq7VqY",
        "outputId": "84320f67-36ec-4e25-e22a-470de1b00e6b",
        "colab": {
          "base_uri": "https://localhost:8080/"
        }
      },
      "source": [
        "indexed_tokens"
      ],
      "execution_count": null,
      "outputs": [
        {
          "output_type": "execute_result",
          "data": {
            "text/plain": [
              "[2044,\n",
              " 11065,\n",
              " 2769,\n",
              " 2013,\n",
              " 1996,\n",
              " 2924,\n",
              " 11632,\n",
              " 1010,\n",
              " 1996,\n",
              " 2924,\n",
              " 27307,\n",
              " 2001,\n",
              " 2464,\n",
              " 5645,\n",
              " 2006,\n",
              " 1996,\n",
              " 5900,\n",
              " 2314,\n",
              " 2924,\n",
              " 1012]"
            ]
          },
          "metadata": {
            "tags": []
          },
          "execution_count": 47
        }
      ]
    },
    {
      "cell_type": "code",
      "metadata": {
        "id": "Obak5gwiCdgz"
      },
      "source": [
        "we_array = word_emnbeddings.detach().numpy()"
      ],
      "execution_count": null,
      "outputs": []
    },
    {
      "cell_type": "code",
      "metadata": {
        "id": "KxQ3qaxUCnee"
      },
      "source": [
        "import numpy as np"
      ],
      "execution_count": null,
      "outputs": []
    },
    {
      "cell_type": "code",
      "metadata": {
        "id": "KAFP5VCkDuXU",
        "outputId": "924bec6d-de3b-407a-8a7d-f5e0bbb40f5d",
        "colab": {
          "base_uri": "https://localhost:8080/"
        }
      },
      "source": [
        "we_array.shape"
      ],
      "execution_count": null,
      "outputs": [
        {
          "output_type": "execute_result",
          "data": {
            "text/plain": [
              "(30522, 768)"
            ]
          },
          "metadata": {
            "tags": []
          },
          "execution_count": 56
        }
      ]
    },
    {
      "cell_type": "code",
      "metadata": {
        "id": "o1bCJnK-D48c"
      },
      "source": [
        "king = "
      ],
      "execution_count": null,
      "outputs": []
    }
  ]
}