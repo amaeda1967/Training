{
  "nbformat": 4,
  "nbformat_minor": 0,
  "metadata": {
    "colab": {
      "name": "BERT trial.ipynb",
      "provenance": [],
      "collapsed_sections": [],
      "authorship_tag": "ABX9TyOUzKzK7OLYkWcpdpNB8SXC",
      "include_colab_link": true
    },
    "kernelspec": {
      "name": "python3",
      "display_name": "Python 3"
    }
  },
  "cells": [
    {
      "cell_type": "markdown",
      "metadata": {
        "id": "view-in-github",
        "colab_type": "text"
      },
      "source": [
        "<a href=\"https://colab.research.google.com/github/amaeda1967/Training/blob/master/BERT_trial.ipynb\" target=\"_parent\"><img src=\"https://colab.research.google.com/assets/colab-badge.svg\" alt=\"Open In Colab\"/></a>"
      ]
    },
    {
      "cell_type": "code",
      "metadata": {
        "id": "E7ERPlX4z3Ca",
        "colab": {
          "base_uri": "https://localhost:8080/"
        },
        "outputId": "4b54fd25-1c1f-4090-86b6-3557a2724493"
      },
      "source": [
        "pip install transformers"
      ],
      "execution_count": 31,
      "outputs": [
        {
          "output_type": "stream",
          "text": [
            "Requirement already satisfied: transformers in /usr/local/lib/python3.6/dist-packages (4.2.1)\n",
            "Requirement already satisfied: importlib-metadata; python_version < \"3.8\" in /usr/local/lib/python3.6/dist-packages (from transformers) (3.3.0)\n",
            "Requirement already satisfied: sacremoses in /usr/local/lib/python3.6/dist-packages (from transformers) (0.0.43)\n",
            "Requirement already satisfied: requests in /usr/local/lib/python3.6/dist-packages (from transformers) (2.23.0)\n",
            "Requirement already satisfied: numpy in /usr/local/lib/python3.6/dist-packages (from transformers) (1.19.5)\n",
            "Requirement already satisfied: regex!=2019.12.17 in /usr/local/lib/python3.6/dist-packages (from transformers) (2019.12.20)\n",
            "Requirement already satisfied: tqdm>=4.27 in /usr/local/lib/python3.6/dist-packages (from transformers) (4.41.1)\n",
            "Requirement already satisfied: packaging in /usr/local/lib/python3.6/dist-packages (from transformers) (20.8)\n",
            "Requirement already satisfied: dataclasses; python_version < \"3.7\" in /usr/local/lib/python3.6/dist-packages (from transformers) (0.8)\n",
            "Requirement already satisfied: filelock in /usr/local/lib/python3.6/dist-packages (from transformers) (3.0.12)\n",
            "Requirement already satisfied: tokenizers==0.9.4 in /usr/local/lib/python3.6/dist-packages (from transformers) (0.9.4)\n",
            "Requirement already satisfied: typing-extensions>=3.6.4; python_version < \"3.8\" in /usr/local/lib/python3.6/dist-packages (from importlib-metadata; python_version < \"3.8\"->transformers) (3.7.4.3)\n",
            "Requirement already satisfied: zipp>=0.5 in /usr/local/lib/python3.6/dist-packages (from importlib-metadata; python_version < \"3.8\"->transformers) (3.4.0)\n",
            "Requirement already satisfied: six in /usr/local/lib/python3.6/dist-packages (from sacremoses->transformers) (1.15.0)\n",
            "Requirement already satisfied: joblib in /usr/local/lib/python3.6/dist-packages (from sacremoses->transformers) (1.0.0)\n",
            "Requirement already satisfied: click in /usr/local/lib/python3.6/dist-packages (from sacremoses->transformers) (7.1.2)\n",
            "Requirement already satisfied: idna<3,>=2.5 in /usr/local/lib/python3.6/dist-packages (from requests->transformers) (2.10)\n",
            "Requirement already satisfied: certifi>=2017.4.17 in /usr/local/lib/python3.6/dist-packages (from requests->transformers) (2020.12.5)\n",
            "Requirement already satisfied: chardet<4,>=3.0.2 in /usr/local/lib/python3.6/dist-packages (from requests->transformers) (3.0.4)\n",
            "Requirement already satisfied: urllib3!=1.25.0,!=1.25.1,<1.26,>=1.21.1 in /usr/local/lib/python3.6/dist-packages (from requests->transformers) (1.24.3)\n",
            "Requirement already satisfied: pyparsing>=2.0.2 in /usr/local/lib/python3.6/dist-packages (from packaging->transformers) (2.4.7)\n"
          ],
          "name": "stdout"
        }
      ]
    },
    {
      "cell_type": "code",
      "metadata": {
        "id": "aQPOyEbGQSfp"
      },
      "source": [
        "from sklearn.cluster import AgglomerativeClustering\n",
        "from scipy.cluster.hierarchy import dendrogram, linkage"
      ],
      "execution_count": 32,
      "outputs": []
    },
    {
      "cell_type": "code",
      "metadata": {
        "id": "v-qFV305z5mQ"
      },
      "source": [
        "import torch\n",
        "from transformers import BertTokenizer, BertModel"
      ],
      "execution_count": 33,
      "outputs": []
    },
    {
      "cell_type": "code",
      "metadata": {
        "id": "MCQOk2sj0zws"
      },
      "source": [
        "import numpy as np\n",
        "import matplotlib.pyplot as plt\n",
        "%matplotlib inline"
      ],
      "execution_count": 34,
      "outputs": []
    },
    {
      "cell_type": "code",
      "metadata": {
        "id": "ZL-2T_ks09Us"
      },
      "source": [
        "tokenizer = BertTokenizer.from_pretrained('bert-base-uncased')"
      ],
      "execution_count": 35,
      "outputs": []
    },
    {
      "cell_type": "code",
      "metadata": {
        "id": "2R60H9QY2IMp"
      },
      "source": [
        "vocablist = list(tokenizer.vocab.keys())"
      ],
      "execution_count": 6,
      "outputs": []
    },
    {
      "cell_type": "code",
      "metadata": {
        "id": "CYon8zu-2Kpy",
        "colab": {
          "base_uri": "https://localhost:8080/"
        },
        "outputId": "ed2b8857-15e6-45a8-f2e1-f9a8cd0e8738"
      },
      "source": [
        "len(vocablist)"
      ],
      "execution_count": null,
      "outputs": [
        {
          "output_type": "execute_result",
          "data": {
            "text/plain": [
              "30522"
            ]
          },
          "metadata": {
            "tags": []
          },
          "execution_count": 8
        }
      ]
    },
    {
      "cell_type": "code",
      "metadata": {
        "id": "JkG-k9cD3ei9"
      },
      "source": [
        "#text = \"After stealing money from the bank vault, the bank robber was seen fishing on the Mississippi river bank.\""
      ],
      "execution_count": 12,
      "outputs": []
    },
    {
      "cell_type": "code",
      "metadata": {
        "id": "obSYDBsL4h2w"
      },
      "source": [
        "#tokenized_text = tokenizer.tokenize(text)"
      ],
      "execution_count": 13,
      "outputs": []
    },
    {
      "cell_type": "code",
      "metadata": {
        "colab": {
          "base_uri": "https://localhost:8080/"
        },
        "id": "P67Vue3po8rH",
        "outputId": "4c1bd33a-0e00-4ff0-e660-7438048de7f9"
      },
      "source": [
        "#print(tokenized_text)"
      ],
      "execution_count": 14,
      "outputs": [
        {
          "output_type": "stream",
          "text": [
            "['after', 'stealing', 'money', 'from', 'the', 'bank', 'vault', '.', 'the', 'bank', 'robber', 'was', 'seen', 'fishing', 'on', 'the', 'mississippi', 'river', 'bank', '.']\n"
          ],
          "name": "stdout"
        }
      ]
    },
    {
      "cell_type": "code",
      "metadata": {
        "id": "TN-wggqS4v9T"
      },
      "source": [
        "#indexed_tokens = tokenizer.convert_tokens_to_ids(tokenized_text)"
      ],
      "execution_count": 15,
      "outputs": []
    },
    {
      "cell_type": "code",
      "metadata": {
        "id": "y2DNunNm5E_E"
      },
      "source": [
        "#segment_ids = [1]*len(tokenized_text)"
      ],
      "execution_count": 16,
      "outputs": []
    },
    {
      "cell_type": "code",
      "metadata": {
        "colab": {
          "base_uri": "https://localhost:8080/"
        },
        "id": "qmm74eYYozpW",
        "outputId": "5fea553c-70a8-4cae-8cf0-e38dfb492ecd"
      },
      "source": [
        "#print(segment_ids)"
      ],
      "execution_count": 17,
      "outputs": [
        {
          "output_type": "stream",
          "text": [
            "[1, 1, 1, 1, 1, 1, 1, 1, 1, 1, 1, 1, 1, 1, 1, 1, 1, 1, 1, 1]\n"
          ],
          "name": "stdout"
        }
      ]
    },
    {
      "cell_type": "code",
      "metadata": {
        "id": "mOKLcwxQ5cSd"
      },
      "source": [
        "#token_tensor = torch.tensor(indexed_tokens)\n",
        "#segments_tensor = torch.tensor(segment_ids)"
      ],
      "execution_count": null,
      "outputs": []
    },
    {
      "cell_type": "code",
      "metadata": {
        "id": "apB7lRx955NT"
      },
      "source": [
        "model = BertModel.from_pretrained('bert-base-uncased', output_hidden_states = True, output_attentions = True)"
      ],
      "execution_count": 36,
      "outputs": []
    },
    {
      "cell_type": "code",
      "metadata": {
        "id": "rujGehIYsGKV"
      },
      "source": [
        "position_embeddings = model.embeddings.position_embeddings.weight.detach().numpy()"
      ],
      "execution_count": 53,
      "outputs": []
    },
    {
      "cell_type": "code",
      "metadata": {
        "id": "JSic25EntTCw",
        "outputId": "70b7711a-523f-44a9-ba10-f69e2edcb2ac",
        "colab": {
          "base_uri": "https://localhost:8080/"
        }
      },
      "source": [
        "position_embeddings.shape"
      ],
      "execution_count": 54,
      "outputs": [
        {
          "output_type": "execute_result",
          "data": {
            "text/plain": [
              "(512, 768)"
            ]
          },
          "metadata": {
            "tags": []
          },
          "execution_count": 54
        }
      ]
    },
    {
      "cell_type": "code",
      "metadata": {
        "id": "pbu3u5qssSaZ",
        "outputId": "74b7acd7-4b9c-4aa4-c8c1-0ca644dbf8a4",
        "colab": {
          "base_uri": "https://localhost:8080/",
          "height": 282
        }
      },
      "source": [
        "plt.plot(position_embeddings[:200,0])\n",
        "plt.plot(position_embeddings[:200,766])"
      ],
      "execution_count": 91,
      "outputs": [
        {
          "output_type": "execute_result",
          "data": {
            "text/plain": [
              "[<matplotlib.lines.Line2D at 0x7f5a9803b0f0>]"
            ]
          },
          "metadata": {
            "tags": []
          },
          "execution_count": 91
        },
        {
          "output_type": "display_data",
          "data": {
            "image/png": "[encoded data removed]",
            "text/plain": [
              "<Figure size 432x288 with 1 Axes>"
            ]
          },
          "metadata": {
            "tags": [],
            "needs_background": "light"
          }
        }
      ]
    },
    {
      "cell_type": "code",
      "metadata": {
        "id": "hqLSrMH5wey-"
      },
      "source": [
        "from math import pi, sin, cos"
      ],
      "execution_count": 76,
      "outputs": []
    },
    {
      "cell_type": "code",
      "metadata": {
        "id": "DH7mqdM1xJVC",
        "outputId": "53868e42-412a-4fc4-ac2b-0a1ba15fbcb0",
        "colab": {
          "base_uri": "https://localhost:8080/",
          "height": 282
        }
      },
      "source": [
        "pos1 = np.zeros(512)\n",
        "pos2 = np.zeros(512)\n",
        "pos3 = np.zeros(512)\n",
        "for p in range(512):\n",
        "  pos1[p] = sin(p/10)\n",
        "  pos2[p] = sin(p/100)\n",
        "  pos3[p] = sin(p/1000)\n",
        "  \n",
        "plt.plot(pos1)\n",
        "plt.plot(pos2)\n",
        "plt.plot(pos3)"
      ],
      "execution_count": 108,
      "outputs": [
        {
          "output_type": "execute_result",
          "data": {
            "text/plain": [
              "[<matplotlib.lines.Line2D at 0x7f5a9692c9e8>]"
            ]
          },
          "metadata": {
            "tags": []
          },
          "execution_count": 108
        },
        {
          "output_type": "display_data",
          "data": {
            "image/png": "[encoded data removed]",
            "text/plain": [
              "<Figure size 432x288 with 1 Axes>"
            ]
          },
          "metadata": {
            "tags": [],
            "needs_background": "light"
          }
        }
      ]
    },
    {
      "cell_type": "code",
      "metadata": {
        "id": "cEKTnP7KpM7N"
      },
      "source": [
        "#token_type = model.embeddings.token_type_embeddings"
      ],
      "execution_count": 20,
      "outputs": []
    },
    {
      "cell_type": "code",
      "metadata": {
        "colab": {
          "base_uri": "https://localhost:8080/"
        },
        "id": "iGuEcOpepavy",
        "outputId": "7db0b833-91a3-46a5-837a-11cb08a30dd0"
      },
      "source": [
        "#token_type.weight[0]"
      ],
      "execution_count": 30,
      "outputs": [
        {
          "output_type": "execute_result",
          "data": {
            "text/plain": [
              "tensor([ 4.3164e-04,  1.0988e-02,  3.7044e-03,  1.5054e-03,  5.7812e-04,\n",
              "        -1.0875e-02,  8.6571e-03, -3.7677e-03, -7.5350e-03,  1.4996e-02,\n",
              "         3.7781e-03,  2.1345e-02,  3.8318e-03, -4.0609e-03,  2.8973e-03,\n",
              "        -3.0142e-03,  1.0039e-03,  6.8046e-05, -1.1071e-02,  1.5695e-02,\n",
              "         1.2352e-02,  3.7866e-03,  2.2089e-03, -5.4605e-03,  1.2117e-02,\n",
              "         2.6291e-03,  5.2204e-03,  7.8007e-03, -1.0974e-02,  8.7831e-04,\n",
              "        -4.1850e-03,  4.8423e-03,  3.7858e-03, -6.4216e-03,  9.8431e-04,\n",
              "         1.3571e-04,  3.4148e-03,  8.2360e-03,  1.2566e-02, -1.1181e-02,\n",
              "        -8.5547e-04, -9.5219e-03,  1.3533e-02,  9.1574e-03, -9.5170e-03,\n",
              "        -6.7015e-03, -5.1275e-03, -9.1686e-04, -4.8835e-03, -8.2695e-04,\n",
              "        -1.4293e-03, -5.0639e-03, -2.9107e-03, -8.8066e-03,  1.7138e-02,\n",
              "         3.0221e-03,  4.1362e-03, -1.4902e-02, -8.4679e-03,  1.4596e-03,\n",
              "        -1.2037e-02,  5.7238e-03,  6.8905e-03,  4.6139e-03, -5.2883e-04,\n",
              "        -4.2377e-03, -3.5036e-03,  1.2222e-02, -1.7974e-03, -1.1926e-02,\n",
              "         2.8705e-03, -8.9056e-03,  1.4969e-03,  1.2363e-02,  1.2805e-02,\n",
              "         2.6254e-03,  1.1359e-02, -4.0008e-04, -7.0623e-03,  4.1123e-03,\n",
              "         8.0433e-03,  1.5433e-03,  2.6918e-04, -9.9155e-04,  1.5162e-02,\n",
              "        -3.7834e-04, -4.5640e-03, -5.6578e-03, -2.0527e-03, -5.7167e-03,\n",
              "        -2.8437e-03, -6.8301e-03,  1.7074e-02,  1.0077e-03, -2.0978e-03,\n",
              "         6.9771e-03, -5.7148e-03,  5.8102e-04,  7.2055e-03, -4.0976e-03,\n",
              "        -1.1852e-02, -3.5386e-03, -1.3864e-02,  3.8138e-03,  1.5483e-02,\n",
              "        -6.7454e-04,  4.0708e-03, -1.4895e-02,  2.4827e-03, -1.6909e-03,\n",
              "        -2.7576e-03, -6.2689e-04, -4.6920e-03,  9.6898e-04, -1.2968e-03,\n",
              "        -5.2085e-03,  3.0997e-03,  6.3345e-04,  4.3286e-03,  3.2983e-03,\n",
              "        -9.0775e-03, -1.3978e-01,  2.5562e-03,  8.1881e-03,  1.5879e-02,\n",
              "         9.3260e-03,  9.3571e-03,  3.4702e-02,  6.9751e-03,  6.7270e-03,\n",
              "        -5.0410e-03, -4.5081e-04, -9.1446e-03, -4.8596e-03,  4.0227e-04,\n",
              "        -1.0256e-02, -2.9116e-03, -1.9238e-03, -4.4842e-03, -6.6119e-02,\n",
              "        -1.0142e-02, -9.2863e-03, -2.9626e-03, -5.4336e-03,  7.4872e-03,\n",
              "        -1.2796e-01, -5.3984e-03, -1.0839e-02, -1.0936e-03,  7.2954e-03,\n",
              "        -2.6914e-03,  6.0011e-03,  1.3801e-02,  5.2970e-03, -2.5783e-03,\n",
              "         8.8818e-03, -5.9577e-03,  2.6265e-03, -2.4118e-03,  2.9731e-01,\n",
              "        -2.3159e-03,  2.6656e-03,  3.7385e-03,  6.1583e-03,  5.2024e-03,\n",
              "         2.2917e-03, -8.5249e-03, -3.4714e-03, -9.6063e-02,  3.9175e-03,\n",
              "         9.0686e-03, -1.4725e-03,  5.2015e-03,  7.6393e-03, -3.3394e-03,\n",
              "         2.5310e-02,  3.6947e-03,  1.0229e-02,  5.4923e-04,  3.1373e-03,\n",
              "        -1.2275e-02, -4.6127e-03,  1.4552e-02,  8.4180e-04, -6.5716e-03,\n",
              "         5.1571e-03,  6.8466e-03,  1.2368e-02,  5.0081e-04, -7.4484e-03,\n",
              "        -5.1120e-03, -8.8702e-03,  2.3947e-02, -1.2113e-03,  9.8738e-03,\n",
              "        -1.3032e-03,  7.4473e-03,  7.1555e-03,  7.2360e-03,  1.1626e-02,\n",
              "         7.1227e-03,  1.2385e-03,  2.5136e-03,  1.5270e-02,  6.7346e-04,\n",
              "         1.7243e-03,  9.5907e-03,  1.1858e-04,  2.9443e-03, -1.3054e-03,\n",
              "        -6.5300e-03, -4.7099e-03,  6.4050e-03,  1.5001e-03,  5.8247e-03,\n",
              "         2.9377e-02, -7.5516e-02, -2.1459e-03, -4.8998e-03,  4.9949e-03,\n",
              "        -1.8870e-03, -3.5904e-03,  1.0160e-02, -2.1274e-03,  1.0640e-02,\n",
              "         2.5062e-02, -3.1178e-03,  8.1215e-03,  4.0397e-03,  9.8240e-03,\n",
              "        -2.1463e-03,  9.5931e-04,  1.2303e-02, -4.6792e-03,  7.5743e-04,\n",
              "        -2.3932e-03, -4.6788e-03,  1.0977e-02, -2.5967e-03, -9.7279e-03,\n",
              "         8.0334e-03, -3.4574e-03, -5.0669e-03,  1.4152e-02,  1.0667e-02,\n",
              "         4.4678e-04, -7.5291e-03,  1.0146e-03,  4.2466e-04,  2.0779e-02,\n",
              "         1.3666e-02, -8.9922e-04, -3.9283e-03, -5.3241e-03, -9.3298e-03,\n",
              "        -8.9869e-03, -2.7845e-03,  6.8222e-03, -8.3318e-04,  3.1602e-03,\n",
              "         3.2511e-03,  7.4432e-03, -4.8912e-03,  1.8343e-03,  2.4624e-02,\n",
              "         9.4923e-04, -5.0063e-03, -2.7383e-03,  8.6053e-03, -1.6466e-03,\n",
              "         9.4137e-03,  9.0350e-04, -9.2836e-03,  2.7526e-04, -6.7332e-03,\n",
              "        -6.8711e-04, -3.9207e-03,  6.3271e-03,  2.1868e-04,  3.5360e-03,\n",
              "         6.3675e-03,  3.6155e-03, -5.7299e-03,  1.5896e-02, -4.8642e-03,\n",
              "         6.7007e-03, -2.6625e-03,  4.3628e-03,  9.6575e-03, -3.2751e-03,\n",
              "         1.8565e-02,  3.6808e-03, -1.1515e-02,  3.2624e-03,  3.3615e-03,\n",
              "         4.8015e-03,  2.1723e-02,  7.2912e-03,  1.7453e-02, -6.8812e-03,\n",
              "        -3.4194e-03,  1.1662e-03, -7.3731e-03,  2.4225e-04,  2.7967e-02,\n",
              "         4.1673e-03,  5.2675e-04,  4.4565e-03, -6.8072e-02,  8.1504e-04,\n",
              "        -4.0396e-03, -1.0932e-02, -2.3888e-03,  6.6302e-04,  1.3208e-02,\n",
              "         2.9303e-03,  7.2231e-03, -5.7563e-05, -4.0284e-03, -1.3069e-02,\n",
              "        -3.6627e-03, -4.8997e-03,  4.8454e-04,  3.1612e-03,  8.4085e-03,\n",
              "        -3.5181e-03,  4.9408e-04,  3.2231e-03, -8.6300e-03, -1.0043e-02,\n",
              "         1.4178e-02, -2.9456e-03,  7.5510e-03, -1.2094e-02, -8.7450e-03,\n",
              "        -2.3594e-03, -6.4747e-03,  2.0047e-03, -3.1334e-03,  6.4415e-04,\n",
              "         3.5066e-03,  1.0160e-02,  3.0064e-03, -4.7730e-03, -1.4200e-02,\n",
              "        -6.9543e-04, -5.2205e-03,  6.5557e-03, -4.5428e-03, -2.7042e-03,\n",
              "         6.9840e-03,  4.2180e-03,  2.7278e-03,  2.3254e-02, -2.7080e-03,\n",
              "        -5.2594e-03, -5.1770e-03,  2.7427e-03, -5.3196e-03,  1.7200e-03,\n",
              "        -2.4839e-03,  7.7228e-03,  4.3607e-03,  1.4383e-02, -9.5507e-03,\n",
              "         1.0580e-02, -9.6754e-04,  3.5194e-03,  3.4035e-03,  1.8648e-02,\n",
              "        -9.3463e-03,  1.8308e-02, -8.9035e-03,  1.0633e-02,  5.6570e-03,\n",
              "        -9.2156e-04, -2.6326e-04,  2.0261e-03,  4.6344e-03, -9.5948e-03,\n",
              "         3.1043e-03, -4.6475e-03,  5.1910e-03, -6.0804e-04, -1.1070e-03,\n",
              "         7.1315e-03,  1.5882e-03, -7.5079e-03, -5.5515e-03, -3.7705e-03,\n",
              "         2.2218e-02,  8.9138e-03,  1.1857e-02,  6.6891e-03,  4.0592e-03,\n",
              "         6.9515e-03, -1.0730e-04, -3.3169e-03,  1.2847e-02, -6.1497e-03,\n",
              "         2.8181e-03,  4.8110e-02,  2.6809e-04,  1.0308e-02, -2.1469e-03,\n",
              "        -8.7584e-03, -6.5417e-04, -7.9260e-03,  2.1494e-03, -1.8305e-04,\n",
              "         3.3177e-03, -2.6867e-03,  2.0215e-03,  1.0638e-02, -5.4567e-03,\n",
              "        -1.6052e-03,  6.1549e-03,  1.5729e-03,  3.1194e-03,  1.5808e-02,\n",
              "        -2.2473e-03, -2.3119e-03,  3.4931e-03,  7.0280e-03,  9.5511e-03,\n",
              "         3.0256e-03, -1.9365e-03,  1.0783e-02, -2.8931e-03,  2.4246e-02,\n",
              "         5.2842e-04,  1.7439e-03,  7.2630e-03, -1.0326e-02, -1.9018e-04,\n",
              "        -8.4294e-04, -8.3463e-03, -6.6579e-03, -2.9521e-03, -1.5931e-02,\n",
              "         3.6249e-03, -1.3105e-02,  1.0537e-02, -4.3507e-02,  5.6945e-03,\n",
              "         3.3768e-03, -4.8745e-03, -3.8114e-03,  1.0189e-03,  1.3568e-02,\n",
              "        -8.0384e-03, -9.1456e-04,  6.5097e-03, -3.1417e-03, -8.6200e-03,\n",
              "         6.6242e-03,  2.7062e-03,  9.3614e-03, -9.1928e-04,  2.8083e-03,\n",
              "         6.3405e-03,  2.8883e-03,  4.5015e-03, -1.9192e-04,  1.4503e-02,\n",
              "        -4.8890e-03,  3.6511e-03,  1.3220e-02, -3.0956e-03,  2.9473e-03,\n",
              "        -2.1554e-04,  1.7635e-02,  9.3882e-03, -9.2151e-03,  8.7967e-03,\n",
              "        -2.4903e-03, -8.3826e-03, -6.5827e-03, -1.1895e-03, -3.9493e-03,\n",
              "        -4.1397e-03,  2.4949e-04, -1.7483e-03, -3.5074e-03, -6.5737e-03,\n",
              "         1.0855e-03,  1.7151e-03,  6.8768e-03, -1.3815e-03, -7.0461e-04,\n",
              "         3.9523e-03,  6.1455e-03,  1.1518e-02,  1.9589e-03, -8.1944e-03,\n",
              "        -6.8464e-03,  2.8228e-02,  4.6555e-03,  3.3563e-03,  8.2358e-03,\n",
              "        -1.3655e-03,  9.1824e-04,  3.9520e-03,  7.1672e-03,  1.0781e-02,\n",
              "         6.1091e-03,  1.2354e-02, -1.5063e-03, -2.7795e-03,  8.5383e-03,\n",
              "         1.6199e-02,  7.0060e-03,  7.0282e-03,  5.5640e-03,  1.5214e-03,\n",
              "         7.2974e-03, -6.3036e-03, -3.5705e-02, -4.2456e-03, -1.5577e-03,\n",
              "         4.7342e-03, -2.4363e-03, -4.8319e-03,  2.5494e-03, -8.0441e-03,\n",
              "        -9.7313e-03,  7.8309e-03,  5.3736e-03, -1.8961e-03, -5.5776e-01,\n",
              "        -2.4433e-03,  7.2701e-03,  1.8543e-03, -1.9946e-03, -2.1716e-03,\n",
              "        -4.4933e-03,  4.3713e-04, -1.8124e-03,  7.2289e-03, -2.0494e-02,\n",
              "         1.4425e-02, -5.3211e-01, -1.3415e-02,  3.2706e-03, -7.2179e-03,\n",
              "        -2.8651e-02, -1.1107e-02, -3.8310e-03,  1.4352e-02,  7.6583e-03,\n",
              "        -7.3854e-03, -2.4221e-03,  1.9892e-03, -1.1559e-02, -2.3978e-03,\n",
              "         1.4002e-03,  6.9716e-03,  1.3433e-03,  1.0106e-02, -2.0309e-03,\n",
              "        -1.0841e-04,  9.8884e-04, -3.8857e-05, -7.4095e-03, -1.6808e-03,\n",
              "        -9.4492e-04,  2.2182e-03,  4.7312e-03,  7.9900e-03, -5.1828e-03,\n",
              "         2.4176e-03,  2.1563e-03,  2.3590e-03,  3.5581e-03,  4.7213e-03,\n",
              "        -6.9080e-04,  3.5719e-03, -3.8787e-02, -3.6723e-03,  3.9163e-03,\n",
              "        -2.8082e-03, -1.9702e-03,  6.7179e-03, -2.0465e-03, -5.3614e-03,\n",
              "         2.3793e-03,  2.2220e-03,  8.5619e-04,  7.2327e-03,  8.2406e-03,\n",
              "         3.5000e-03,  5.7430e-03,  2.1794e-03,  5.9853e-03,  5.2088e-03,\n",
              "        -3.2685e-03,  3.1597e-03,  9.6652e-03,  5.5573e-03, -7.5673e-03,\n",
              "         5.2816e-03, -7.4097e-03, -8.0537e-03, -8.4765e-03, -4.0966e-03,\n",
              "         2.4463e-03, -1.8040e-03,  1.2941e-02,  9.5708e-03, -1.9656e-03,\n",
              "        -3.3212e-04,  2.0646e-02, -1.0580e-02,  5.1893e-03,  1.2366e-02,\n",
              "         8.1574e-03, -3.8684e-05, -5.9624e-03,  1.2998e-02, -3.6861e-03,\n",
              "         2.8886e-03, -5.1837e-03, -4.1317e-03, -3.0687e-03,  3.9514e-03,\n",
              "        -6.9451e-03, -1.0843e-03,  2.2254e-03, -2.7552e-03, -6.7052e-03,\n",
              "         7.4446e-03,  9.0537e-03, -5.8373e-03,  4.5183e-03, -1.8528e-03,\n",
              "        -1.9181e-03, -5.0519e-03, -5.1576e-03,  4.6326e-03,  3.3262e-03,\n",
              "        -1.1210e-02,  1.0892e-02,  3.2985e-03, -1.2573e-03, -1.4365e-02,\n",
              "         2.6734e-03,  8.0511e-03,  2.8341e-03, -1.2315e-03, -1.2336e-03,\n",
              "        -4.6061e-03, -6.8391e-03, -4.3494e-03,  1.8229e-02, -8.8287e-02,\n",
              "        -5.6167e-04,  6.7026e-03, -1.5651e-03,  4.8651e-03,  3.8112e-03,\n",
              "        -2.4542e-04, -3.0931e-03,  3.8252e-03, -2.8094e-04, -1.1392e-03,\n",
              "         3.4996e-03, -8.1070e-03,  6.5340e-03,  1.3480e-03, -5.2730e-03,\n",
              "        -8.9188e-03,  5.2249e-04,  9.5586e-03, -5.9970e-03, -6.3507e-03,\n",
              "         9.1843e-04,  6.2113e-03,  3.1254e-03, -4.2075e-03, -7.8011e-03,\n",
              "         2.5427e-03, -6.0158e-03,  1.5608e-02, -3.6034e-03, -9.3272e-03,\n",
              "        -4.2840e-03,  8.1020e-04, -8.7674e-03,  1.7344e-03, -1.7350e-03,\n",
              "         4.0860e-03,  2.4132e-03, -1.2261e-03, -9.3936e-03, -6.9861e-03,\n",
              "        -7.9775e-04, -4.5510e-03,  3.3179e-03,  6.4298e-03,  4.6414e-02,\n",
              "        -1.6999e-02, -2.0822e-03, -8.3700e-03,  1.0058e-02,  8.2206e-04,\n",
              "         1.5153e-02,  5.3589e-03,  3.2035e-03,  1.4407e-03, -1.5806e-04,\n",
              "        -5.1818e-03,  1.1275e-02, -1.3507e-03,  8.7596e-03, -8.1271e-03,\n",
              "        -1.4703e-03,  4.5646e-04, -8.3590e-03, -3.1598e-03, -2.1301e-03,\n",
              "         7.3600e-03,  6.3839e-04, -5.1035e-04,  2.8191e-03,  9.0803e-04,\n",
              "        -1.0028e-02,  4.2504e-03,  3.1496e-04, -5.0415e-03,  3.7264e-04,\n",
              "         2.8356e-03,  1.4041e-03, -5.7096e-03, -1.5771e-02,  1.8313e-02,\n",
              "        -4.7268e-03, -7.2473e-03, -1.0305e-02, -3.4192e-03, -2.2287e-03,\n",
              "         4.5596e-03,  1.1498e-03,  3.4642e-03,  3.2854e-03,  6.0919e-03,\n",
              "        -8.0228e-03, -6.3287e-03,  4.3426e-03, -1.0829e-02, -6.2743e-03,\n",
              "        -6.3361e-03,  9.8539e-03, -3.8732e-03,  4.8487e-04,  2.3740e-03,\n",
              "         3.3902e-03,  8.1997e-04, -6.3367e-03, -8.7933e-04, -1.6214e-03,\n",
              "        -6.8196e-03,  2.6189e-03,  1.8659e-02, -2.0247e-04, -6.2502e-04,\n",
              "        -6.6119e-03, -3.3698e-03, -8.6420e-03], grad_fn=<SelectBackward>)"
            ]
          },
          "metadata": {
            "tags": []
          },
          "execution_count": 30
        }
      ]
    },
    {
      "cell_type": "code",
      "metadata": {
        "id": "KtaJKv455lOz"
      },
      "source": [
        "word_embeddings = model.embeddings.word_embeddings.weight"
      ],
      "execution_count": null,
      "outputs": []
    },
    {
      "cell_type": "code",
      "metadata": {
        "id": "pFJAj-2D7NuW"
      },
      "source": [
        "def get_vec(x):\n",
        "  idx = tokenizer.convert_tokens_to_ids(x)\n",
        "  vec = word_embeddings[idx].detach().numpy()\n",
        "  return vec"
      ],
      "execution_count": null,
      "outputs": []
    },
    {
      "cell_type": "code",
      "metadata": {
        "id": "EZPMhyuBLdla"
      },
      "source": [
        "def cosin_sim(x, y):\n",
        "  import numpy as np\n",
        "  d = np.dot(x, y)/np.linalg.norm((x)*np.linalg.norm(y))\n",
        "  return d"
      ],
      "execution_count": null,
      "outputs": []
    },
    {
      "cell_type": "code",
      "metadata": {
        "id": "jg399OnyePch"
      },
      "source": [
        "veclist = word_embeddings.detach().numpy()"
      ],
      "execution_count": null,
      "outputs": []
    },
    {
      "cell_type": "code",
      "metadata": {
        "id": "qu4eCH1weWai",
        "colab": {
          "base_uri": "https://localhost:8080/"
        },
        "outputId": "faae665b-00ad-45fe-b666-953a48e586d8"
      },
      "source": [
        "veclist.shape"
      ],
      "execution_count": null,
      "outputs": [
        {
          "output_type": "execute_result",
          "data": {
            "text/plain": [
              "(30522, 768)"
            ]
          },
          "metadata": {
            "tags": []
          },
          "execution_count": 14
        }
      ]
    },
    {
      "cell_type": "code",
      "metadata": {
        "id": "ln3mCTAVK-o1",
        "colab": {
          "base_uri": "https://localhost:8080/",
          "height": 282
        },
        "outputId": "4524b1cd-397c-49f6-fb2c-236a01c8d336"
      },
      "source": [
        "#plt.plot(np.sort(simlist)[::-1])"
      ],
      "execution_count": null,
      "outputs": [
        {
          "output_type": "execute_result",
          "data": {
            "text/plain": [
              "[<matplotlib.lines.Line2D at 0x7f0f81f485c0>]"
            ]
          },
          "metadata": {
            "tags": []
          },
          "execution_count": 71
        },
        {
          "output_type": "display_data",
          "data": {
            "image/png": "[encoded data removed]",
            "text/plain": [
              "<Figure size 432x288 with 1 Axes>"
            ]
          },
          "metadata": {
            "tags": [],
            "needs_background": "light"
          }
        }
      ]
    },
    {
      "cell_type": "code",
      "metadata": {
        "id": "w9UbHkdoIUlD",
        "colab": {
          "base_uri": "https://localhost:8080/",
          "height": 928
        },
        "outputId": "0f63dd72-4e32-428c-b889-d1f37ee7f08a"
      },
      "source": [
        "#plt.hist(simlist, bins = 100)"
      ],
      "execution_count": null,
      "outputs": [
        {
          "output_type": "execute_result",
          "data": {
            "text/plain": [
              "(array([1.000e+00, 1.000e+00, 1.000e+00, 3.000e+00, 0.000e+00, 6.000e+00,\n",
              "        3.000e+00, 5.000e+00, 8.000e+00, 8.000e+00, 9.000e+00, 9.000e+00,\n",
              "        1.300e+01, 1.900e+01, 2.200e+01, 2.400e+01, 1.900e+01, 3.200e+01,\n",
              "        3.600e+01, 3.900e+01, 4.600e+01, 4.900e+01, 6.700e+01, 8.400e+01,\n",
              "        9.600e+01, 1.090e+02, 1.310e+02, 1.710e+02, 1.590e+02, 1.950e+02,\n",
              "        2.400e+02, 2.810e+02, 3.460e+02, 4.000e+02, 5.480e+02, 6.350e+02,\n",
              "        7.310e+02, 9.120e+02, 1.046e+03, 1.254e+03, 1.471e+03, 1.598e+03,\n",
              "        1.662e+03, 1.706e+03, 1.791e+03, 1.759e+03, 1.806e+03, 1.753e+03,\n",
              "        1.634e+03, 1.446e+03, 1.254e+03, 1.094e+03, 9.210e+02, 7.160e+02,\n",
              "        5.160e+02, 3.220e+02, 1.980e+02, 7.400e+01, 2.700e+01, 7.000e+00,\n",
              "        1.850e+02, 8.120e+02, 4.000e+00, 5.000e+00, 0.000e+00, 0.000e+00,\n",
              "        0.000e+00, 0.000e+00, 1.000e+00, 0.000e+00, 0.000e+00, 0.000e+00,\n",
              "        0.000e+00, 0.000e+00, 0.000e+00, 0.000e+00, 0.000e+00, 0.000e+00,\n",
              "        0.000e+00, 0.000e+00, 0.000e+00, 0.000e+00, 1.000e+00, 0.000e+00,\n",
              "        0.000e+00, 0.000e+00, 0.000e+00, 0.000e+00, 0.000e+00, 0.000e+00,\n",
              "        0.000e+00, 0.000e+00, 0.000e+00, 0.000e+00, 0.000e+00, 0.000e+00,\n",
              "        0.000e+00, 0.000e+00, 0.000e+00, 1.000e+00]),\n",
              " array([0.00954675, 0.01945128, 0.02935581, 0.03926034, 0.04916487,\n",
              "        0.05906941, 0.06897394, 0.07887847, 0.088783  , 0.09868753,\n",
              "        0.10859207, 0.1184966 , 0.12840113, 0.13830566, 0.14821019,\n",
              "        0.15811473, 0.16801926, 0.17792379, 0.18782832, 0.19773285,\n",
              "        0.20763739, 0.21754192, 0.22744645, 0.23735098, 0.24725551,\n",
              "        0.25716004, 0.26706458, 0.27696911, 0.28687364, 0.29677817,\n",
              "        0.3066827 , 0.31658724, 0.32649177, 0.3363963 , 0.34630083,\n",
              "        0.35620536, 0.3661099 , 0.37601443, 0.38591896, 0.39582349,\n",
              "        0.40572802, 0.41563256, 0.42553709, 0.43544162, 0.44534615,\n",
              "        0.45525068, 0.46515522, 0.47505975, 0.48496428, 0.49486881,\n",
              "        0.50477334, 0.51467788, 0.52458241, 0.53448694, 0.54439147,\n",
              "        0.554296  , 0.56420054, 0.57410507, 0.5840096 , 0.59391413,\n",
              "        0.60381866, 0.61372319, 0.62362773, 0.63353226, 0.64343679,\n",
              "        0.65334132, 0.66324585, 0.67315039, 0.68305492, 0.69295945,\n",
              "        0.70286398, 0.71276851, 0.72267305, 0.73257758, 0.74248211,\n",
              "        0.75238664, 0.76229117, 0.77219571, 0.78210024, 0.79200477,\n",
              "        0.8019093 , 0.81181383, 0.82171837, 0.8316229 , 0.84152743,\n",
              "        0.85143196, 0.86133649, 0.87124103, 0.88114556, 0.89105009,\n",
              "        0.90095462, 0.91085915, 0.92076368, 0.93066822, 0.94057275,\n",
              "        0.95047728, 0.96038181, 0.97028634, 0.98019088, 0.99009541,\n",
              "        0.99999994]),\n",
              " <a list of 100 Patch objects>)"
            ]
          },
          "metadata": {
            "tags": []
          },
          "execution_count": 72
        },
        {
          "output_type": "display_data",
          "data": {
            "image/png": "[encoded data removed]",
            "text/plain": [
              "<Figure size 432x288 with 1 Axes>"
            ]
          },
          "metadata": {
            "tags": [],
            "needs_background": "light"
          }
        }
      ]
    },
    {
      "cell_type": "code",
      "metadata": {
        "id": "7poaALR3JeS8",
        "colab": {
          "base_uri": "https://localhost:8080/"
        },
        "outputId": "67b4caa9-6895-41fd-962b-13ad66653f00"
      },
      "source": [
        "#np.sort(simlist)[::-1][150:200]"
      ],
      "execution_count": null,
      "outputs": [
        {
          "output_type": "execute_result",
          "data": {
            "text/plain": [
              "array([0.46202365, 0.46194199, 0.46185449, 0.46180519, 0.46170318,\n",
              "       0.46168679, 0.46167156, 0.4616015 , 0.46153682, 0.46141204,\n",
              "       0.46135867, 0.46132636, 0.46125764, 0.46124479, 0.46123236,\n",
              "       0.46115601, 0.46088454, 0.4607912 , 0.46073765, 0.46070075,\n",
              "       0.4606584 , 0.46046093, 0.46029261, 0.46024671, 0.46019873,\n",
              "       0.46018198, 0.46017587, 0.46015686, 0.45996058, 0.4599497 ,\n",
              "       0.45990109, 0.45978105, 0.45970216, 0.4596796 , 0.45947236,\n",
              "       0.45942011, 0.45929694, 0.45929039, 0.45928961, 0.45927814,\n",
              "       0.45922357, 0.45920452, 0.45918965, 0.4591876 , 0.45917985,\n",
              "       0.45915926, 0.45914266, 0.45909905, 0.45909068, 0.45905381])"
            ]
          },
          "metadata": {
            "tags": []
          },
          "execution_count": 29
        }
      ]
    },
    {
      "cell_type": "code",
      "metadata": {
        "id": "r5DoI83HfrHn",
        "colab": {
          "base_uri": "https://localhost:8080/"
        },
        "outputId": "c6611376-21e5-4df3-c7b4-508ae33ffd81"
      },
      "source": [
        "t = get_vec('father')\n",
        "\n",
        "simlist = np.zeros(len(veclist),)\n",
        "\n",
        "for i in range(len(veclist)):\n",
        "  simlist[i] = cosin_sim(t, veclist[i])\n",
        "\n",
        "closestwords = np.argsort(simlist)[::-1]\n",
        "\n",
        "n = 20\n",
        "top_n = closestwords[0:20]\n",
        "for i in range(len(top_n)):\n",
        "  word = tokenizer.convert_ids_to_tokens(top_n[i].item())\n",
        "  similarity = simlist[top_n[i].item()]\n",
        "  print(i, word, similarity)"
      ],
      "execution_count": null,
      "outputs": [
        {
          "output_type": "stream",
          "text": [
            "0 father 1.0000001192092896\n",
            "1 mother 0.7439195513725281\n",
            "2 dad 0.6255789399147034\n",
            "3 brother 0.6254437565803528\n",
            "4 grandfather 0.6155560612678528\n",
            "5 fathers 0.5951598882675171\n",
            "6 parents 0.5889931917190552\n",
            "7 grandmother 0.5596255660057068\n",
            "8 uncle 0.5566222071647644\n",
            "9 son 0.5445084571838379\n",
            "10 stepfather 0.52768874168396\n",
            "11 sister 0.5120916366577148\n",
            "12 daddy 0.5066556334495544\n",
            "13 husband 0.4979468286037445\n",
            "14 mothers 0.49515825510025024\n",
            "15 mom 0.49314430356025696\n",
            "16 godfather 0.489383727312088\n",
            "17 daughter 0.48465752601623535\n",
            "18 wife 0.4750252068042755\n",
            "19 uncles 0.47393202781677246\n"
          ],
          "name": "stdout"
        }
      ]
    },
    {
      "cell_type": "code",
      "metadata": {
        "id": "eRmPF8M8SK2T",
        "colab": {
          "base_uri": "https://localhost:8080/",
          "height": 323
        },
        "outputId": "e31fae61-ba4f-47c4-bb79-63456767491b"
      },
      "source": [
        "z = np.zeros((20, 768))\n",
        "\n",
        "for i in range(20):\n",
        "  z[i] = veclist[closestwords[i]]\n",
        "\n",
        "z = linkage (z, method='ward')\n",
        "\n",
        "fig = plt.figure(figsize=(7,5))\n",
        "dn = dendrogram(z)"
      ],
      "execution_count": null,
      "outputs": [
        {
          "output_type": "display_data",
          "data": {
            "image/png": "[encoded data removed]",
            "text/plain": [
              "<Figure size 504x360 with 1 Axes>"
            ]
          },
          "metadata": {
            "tags": [],
            "needs_background": "light"
          }
        }
      ]
    },
    {
      "cell_type": "code",
      "metadata": {
        "id": "hAI4ShU24L6r"
      },
      "source": [
        "def word_strucure(x):\n",
        "  t = get_vec(x)\n",
        "  simlist = np.zeros(len(veclist),)\n",
        "\n",
        "  for i in range(len(veclist)):\n",
        "    simlist[i] = cosin_sim(t, veclist[i])\n",
        "\n",
        "  closestwords = np.argsort(simlist)[::-1]\n",
        "\n",
        "  n = 20\n",
        "  top_n = closestwords[0:20]\n",
        "  for i in range(len(top_n)):\n",
        "    word = tokenizer.convert_ids_to_tokens(top_n[i].item())\n",
        "    similarity = simlist[top_n[i].item()]\n",
        "    print(i, word, similarity)\n",
        "\n",
        "  z = np.zeros((20, 768))\n",
        "\n",
        "  for i in range(20):\n",
        "    z[i] = veclist[closestwords[i]]\n",
        "\n",
        "  z = linkage (z, method='ward')\n",
        "\n",
        "  fig = plt.figure(figsize=(7,5))\n",
        "  dn = dendrogram(z, orientation='right')"
      ],
      "execution_count": null,
      "outputs": []
    },
    {
      "cell_type": "code",
      "metadata": {
        "id": "q4-qULiv6ffw",
        "colab": {
          "base_uri": "https://localhost:8080/",
          "height": 660
        },
        "outputId": "2e918bef-26ae-4b75-d1cd-bd79e788efb8"
      },
      "source": [
        "word_strucure('anger')"
      ],
      "execution_count": null,
      "outputs": [
        {
          "output_type": "stream",
          "text": [
            "0 anger 1.0\n",
            "1 angered 0.6303508281707764\n",
            "2 rage 0.6218692064285278\n",
            "3 angry 0.6156224012374878\n",
            "4 enraged 0.6008555889129639\n",
            "5 fury 0.5905414819717407\n",
            "6 resentment 0.580786406993866\n",
            "7 outrage 0.5784003734588623\n",
            "8 annoyance 0.5684346556663513\n",
            "9 irritation 0.5646107792854309\n",
            "10 outraged 0.5540935397148132\n",
            "11 frustration 0.552736222743988\n",
            "12 hostility 0.5424672961235046\n",
            "13 annoyed 0.5386446118354797\n",
            "14 irritated 0.537519097328186\n",
            "15 hatred 0.5357582569122314\n",
            "16 angrily 0.5333356857299805\n",
            "17 disgust 0.5297354459762573\n",
            "18 displeasure 0.5284353494644165\n",
            "19 bitterness 0.5273690819740295\n"
          ],
          "name": "stdout"
        },
        {
          "output_type": "display_data",
          "data": {
            "image/png": "[encoded data removed]",
            "text/plain": [
              "<Figure size 504x360 with 1 Axes>"
            ]
          },
          "metadata": {
            "tags": [],
            "needs_background": "light"
          }
        }
      ]
    },
    {
      "cell_type": "code",
      "metadata": {
        "id": "vg4qMk-F7o04",
        "colab": {
          "base_uri": "https://localhost:8080/",
          "height": 660
        },
        "outputId": "0f18c4d0-14e2-4036-8781-67f632d8462d"
      },
      "source": [
        "word_strucure('life')"
      ],
      "execution_count": null,
      "outputs": [
        {
          "output_type": "stream",
          "text": [
            "0 life 1.0\n",
            "1 lives 0.5412790179252625\n",
            "2 living 0.4547620713710785\n",
            "3 world 0.41100814938545227\n",
            "4 ##life 0.41097602248191833\n",
            "5 career 0.4094410240650177\n",
            "6 lifetime 0.40522491931915283\n",
            "7 670 0.3883271813392639\n",
            "8 259 0.38741999864578247\n",
            "9 241 0.38620278239250183\n",
            "10 live 0.38504883646965027\n",
            "11 270 0.3850432336330414\n",
            "12 people 0.38494694232940674\n",
            "13 332 0.38395440578460693\n",
            "14 191 0.38382449746131897\n",
            "15 352 0.3837426006793976\n",
            "16 308 0.38370034098625183\n",
            "17 251 0.3835313618183136\n",
            "18 530 0.38341471552848816\n",
            "19 305 0.38337790966033936\n"
          ],
          "name": "stdout"
        },
        {
          "output_type": "display_data",
          "data": {
            "image/png": "[encoded data removed]",
            "text/plain": [
              "<Figure size 504x360 with 1 Axes>"
            ]
          },
          "metadata": {
            "tags": [],
            "needs_background": "light"
          }
        }
      ]
    },
    {
      "cell_type": "code",
      "metadata": {
        "id": "uYt2fWPf77UU",
        "colab": {
          "base_uri": "https://localhost:8080/",
          "height": 660
        },
        "outputId": "8775af52-19e0-4f67-addc-a52a5c1fbe11"
      },
      "source": [
        "word_strucure('money')"
      ],
      "execution_count": null,
      "outputs": [
        {
          "output_type": "stream",
          "text": [
            "0 money 1.0\n",
            "1 funds 0.5610285401344299\n",
            "2 cash 0.5269374251365662\n",
            "3 financial 0.4848286211490631\n",
            "4 finances 0.4774763882160187\n",
            "5 funding 0.46526727080345154\n",
            "6 wealth 0.4572276771068573\n",
            "7 740 0.44388166069984436\n",
            "8 financing 0.44353172183036804\n",
            "9 finance 0.4398762583732605\n",
            "10 riches 0.43581700325012207\n",
            "11 780 0.43206799030303955\n",
            "12 197 0.4320399761199951\n",
            "13 193 0.42898812890052795\n",
            "14 187 0.42879876494407654\n",
            "15 dollars 0.4275365173816681\n",
            "16 198 0.42719292640686035\n",
            "17 284 0.4262833595275879\n",
            "18 monetary 0.4262518584728241\n",
            "19 670 0.42569538950920105\n"
          ],
          "name": "stdout"
        },
        {
          "output_type": "display_data",
          "data": {
            "image/png": "[encoded data removed]",
            "text/plain": [
              "<Figure size 504x360 with 1 Axes>"
            ]
          },
          "metadata": {
            "tags": [],
            "needs_background": "light"
          }
        }
      ]
    },
    {
      "cell_type": "code",
      "metadata": {
        "id": "JLaG0FPh8Kk6",
        "colab": {
          "base_uri": "https://localhost:8080/",
          "height": 660
        },
        "outputId": "f1a8f16a-f5f4-45fc-9de7-96f52ac1683c"
      },
      "source": [
        "word_strucure('happiness')"
      ],
      "execution_count": null,
      "outputs": [
        {
          "output_type": "stream",
          "text": [
            "0 happiness 1.0\n",
            "1 sadness 0.6013122797012329\n",
            "2 thrilled 0.6009552478790283\n",
            "3 loneliness 0.5996324419975281\n",
            "4 prosperous 0.5937967300415039\n",
            "5 delightful 0.5931323766708374\n",
            "6 cheerful 0.5890178084373474\n",
            "7 1726 0.5824870467185974\n",
            "8 prosperity 0.5813698768615723\n",
            "9 enjoyment 0.5808872580528259\n",
            "10 happier 0.5776124000549316\n",
            "11 delighted 0.5757561922073364\n",
            "12 excitement 0.575107753276825\n",
            "13 longevity 0.5749184489250183\n",
            "14 optimism 0.5734183192253113\n",
            "15 pleasures 0.5733094215393066\n",
            "16 happy 0.5723934173583984\n",
            "17 48th 0.5719704031944275\n",
            "18 adored 0.5708325505256653\n",
            "19 astonishment 0.5705713033676147\n"
          ],
          "name": "stdout"
        },
        {
          "output_type": "display_data",
          "data": {
            "image/png": "[encoded data removed]",
            "text/plain": [
              "<Figure size 504x360 with 1 Axes>"
            ]
          },
          "metadata": {
            "tags": [],
            "needs_background": "light"
          }
        }
      ]
    }
  ]
}